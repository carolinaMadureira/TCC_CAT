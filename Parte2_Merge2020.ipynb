{
 "cells": [
  {
   "cell_type": "code",
   "execution_count": 1,
   "metadata": {},
   "outputs": [],
   "source": [
    "import numpy as np\n",
    "import pandas as pd\n",
    "from scipy import special\n",
    "from random import sample\n",
    "import itertools\n",
    "from datetime import timedelta\n",
    "from IPython.display import display\n",
    "import matplotlib.pyplot as plt\n",
    "import seaborn as sns\n",
    "%matplotlib inline\n",
    "import math\n",
    "import re"
   ]
  },
  {
   "cell_type": "code",
   "execution_count": 2,
   "metadata": {},
   "outputs": [],
   "source": [
    "arquivoOrigemA = 'datasets/result/dados_cat_202001.csv'\n",
    "arquivoOrigemB = 'datasets/result/dados_cat_202002.csv'\n",
    "arquivoOrigemC = 'datasets/result/dados_cat_202003.csv'\n",
    "nomeArquivoResultado = 'datasets/result/dados_cat_2020.csv'\n",
    "\n",
    "nomeArquivoCid = 'datasets/result/2020/dados_cid_2020.csv'\n",
    "nomeArquivoUF = 'datasets/result/2020/dados_uf_2020.csv'\n",
    "nomeArquivoCBO = 'datasets/result/2020/dados_cbo_2020.csv'\n",
    "nomeArquivoAnoMes = 'datasets/result/2020/dados_anoMes_2020.csv'\n",
    "nomeArquivoCNAE = 'datasets/result/2020/dados_cnae_2020.csv'\n",
    "nomeArquivoParte = 'datasets/result/2020/dados_parte_2020.csv'\n",
    "nomeArquivoSexo = 'datasets/result/2020/dados_sexo_2020.csv'\n",
    "nomeArquivoIdade = 'datasets/result/2020/dados_idade_2020.csv'\n",
    "nomeArquivoObitos = 'datasets/result/2020/dados_obitos_2020.csv'\n",
    "nomeArquivoTipoAcidente = 'datasets/result/2020/dados_tipoAcidente_2020.csv'\n",
    "nomeArquivoNatureza = 'datasets/result/2020/dados_natureza_2020.csv'"
   ]
  },
  {
   "cell_type": "code",
   "execution_count": 3,
   "metadata": {},
   "outputs": [],
   "source": [
    "columns_types = {'agente': str, 'cbo': int, 'cid': str, 'cnae': int, 'obito': str, 'natureza': str, 'parte': str, 'sexo': str, \n",
    "                 'tipo_acidente': str, 'uf_emp': str, 'idade': int, 'anoMes': str}\n",
    "\n",
    "nomes  = ['agente', 'cbo', 'cid', 'cnae', 'obito', 'natureza', 'parte', 'sexo', 'tipo_acidente', 'uf_emp', 'idade', 'anoMes']\n",
    "\n",
    "dados_originaisA = pd.read_csv(arquivoOrigemA, sep = ';', header=0, names=nomes, dtype=columns_types, encoding='utf8')\n",
    "dados_originaisB = pd.read_csv(arquivoOrigemB, sep = ';', header=0, names=nomes, dtype=columns_types, encoding='utf8')\n",
    "dados_originaisC = pd.read_csv(arquivoOrigemC, sep = ';', header=0, names=nomes, dtype=columns_types, encoding='utf8')\n",
    "\n",
    "df_originalA = pd.DataFrame(data = dados_originaisA)\n",
    "df_originalB = pd.DataFrame(data = dados_originaisB)\n",
    "df_originalC = pd.DataFrame(data = dados_originaisC)"
   ]
  },
  {
   "cell_type": "code",
   "execution_count": 4,
   "metadata": {},
   "outputs": [
    {
     "data": {
      "text/plain": [
       "270152"
      ]
     },
     "execution_count": 4,
     "metadata": {},
     "output_type": "execute_result"
    }
   ],
   "source": [
    "df_result = pd.concat([df_originalA, df_originalB, df_originalC], ignore_index= True)\n",
    "df_result.index = range(df_result.shape[0])\n",
    "df_result.shape[0]   #270534 -> qtde total de acidentes analisados de 2020"
   ]
  },
  {
   "cell_type": "code",
   "execution_count": 5,
   "metadata": {},
   "outputs": [],
   "source": [
    "df_result.to_csv(nomeArquivoResultado, sep = ';', index=False, encoding='UTF-8')"
   ]
  },
  {
   "cell_type": "code",
   "execution_count": 6,
   "metadata": {},
   "outputs": [
    {
     "name": "stdout",
     "output_type": "stream",
     "text": [
      "<class 'pandas.core.frame.DataFrame'>\n",
      "Index: 20 entries, S610 to S822\n",
      "Data columns (total 1 columns):\n",
      " #   Column  Non-Null Count  Dtype\n",
      "---  ------  --------------  -----\n",
      " 0   qtde    20 non-null     int64\n",
      "dtypes: int64(1)\n",
      "memory usage: 320.0+ bytes\n"
     ]
    }
   ],
   "source": [
    "#Análise dos 20 CIDs de maior incidência em 2020:\n",
    "df_cid = pd.DataFrame(df_result['cid'].value_counts())\n",
    "df_cid.rename(columns={\"id\": \"cid\", \"cid\": \"qtde\"}, inplace=True)\n",
    "df_cid_mais = df_cid.head(20).copy()\n",
    "df_cid_mais.index.name='cid'\n",
    "\n",
    "df_cid_mais.info()"
   ]
  },
  {
   "cell_type": "code",
   "execution_count": 7,
   "metadata": {},
   "outputs": [
    {
     "data": {
      "text/html": [
       "<div>\n",
       "<style scoped>\n",
       "    .dataframe tbody tr th:only-of-type {\n",
       "        vertical-align: middle;\n",
       "    }\n",
       "\n",
       "    .dataframe tbody tr th {\n",
       "        vertical-align: top;\n",
       "    }\n",
       "\n",
       "    .dataframe thead th {\n",
       "        text-align: right;\n",
       "    }\n",
       "</style>\n",
       "<table border=\"1\" class=\"dataframe\">\n",
       "  <thead>\n",
       "    <tr style=\"text-align: right;\">\n",
       "      <th></th>\n",
       "      <th>qtde</th>\n",
       "    </tr>\n",
       "    <tr>\n",
       "      <th>cid</th>\n",
       "      <th></th>\n",
       "    </tr>\n",
       "  </thead>\n",
       "  <tbody>\n",
       "    <tr>\n",
       "      <th>S610</th>\n",
       "      <td>17097</td>\n",
       "    </tr>\n",
       "    <tr>\n",
       "      <th>B342</th>\n",
       "      <td>12325</td>\n",
       "    </tr>\n",
       "    <tr>\n",
       "      <th>S611</th>\n",
       "      <td>9690</td>\n",
       "    </tr>\n",
       "    <tr>\n",
       "      <th>Z209</th>\n",
       "      <td>9507</td>\n",
       "    </tr>\n",
       "    <tr>\n",
       "      <th>S626</th>\n",
       "      <td>8427</td>\n",
       "    </tr>\n",
       "    <tr>\n",
       "      <th>S934</th>\n",
       "      <td>8026</td>\n",
       "    </tr>\n",
       "    <tr>\n",
       "      <th>S600</th>\n",
       "      <td>6463</td>\n",
       "    </tr>\n",
       "    <tr>\n",
       "      <th>S800</th>\n",
       "      <td>5151</td>\n",
       "    </tr>\n",
       "    <tr>\n",
       "      <th>S900</th>\n",
       "      <td>3630</td>\n",
       "    </tr>\n",
       "    <tr>\n",
       "      <th>S619</th>\n",
       "      <td>3522</td>\n",
       "    </tr>\n",
       "    <tr>\n",
       "      <th>T077</th>\n",
       "      <td>3223</td>\n",
       "    </tr>\n",
       "    <tr>\n",
       "      <th>S602</th>\n",
       "      <td>3153</td>\n",
       "    </tr>\n",
       "    <tr>\n",
       "      <th>M255</th>\n",
       "      <td>2802</td>\n",
       "    </tr>\n",
       "    <tr>\n",
       "      <th>S622</th>\n",
       "      <td>2550</td>\n",
       "    </tr>\n",
       "    <tr>\n",
       "      <th>M545</th>\n",
       "      <td>2506</td>\n",
       "    </tr>\n",
       "    <tr>\n",
       "      <th>S525</th>\n",
       "      <td>2487</td>\n",
       "    </tr>\n",
       "    <tr>\n",
       "      <th>S400</th>\n",
       "      <td>2444</td>\n",
       "    </tr>\n",
       "    <tr>\n",
       "      <th>Z042</th>\n",
       "      <td>2297</td>\n",
       "    </tr>\n",
       "    <tr>\n",
       "      <th>S923</th>\n",
       "      <td>2278</td>\n",
       "    </tr>\n",
       "    <tr>\n",
       "      <th>S822</th>\n",
       "      <td>2145</td>\n",
       "    </tr>\n",
       "  </tbody>\n",
       "</table>\n",
       "</div>"
      ],
      "text/plain": [
       "       qtde\n",
       "cid        \n",
       "S610  17097\n",
       "B342  12325\n",
       "S611   9690\n",
       "Z209   9507\n",
       "S626   8427\n",
       "S934   8026\n",
       "S600   6463\n",
       "S800   5151\n",
       "S900   3630\n",
       "S619   3522\n",
       "T077   3223\n",
       "S602   3153\n",
       "M255   2802\n",
       "S622   2550\n",
       "M545   2506\n",
       "S525   2487\n",
       "S400   2444\n",
       "Z042   2297\n",
       "S923   2278\n",
       "S822   2145"
      ]
     },
     "execution_count": 7,
     "metadata": {},
     "output_type": "execute_result"
    }
   ],
   "source": [
    "df_cid_mais.head(20)"
   ]
  },
  {
   "cell_type": "code",
   "execution_count": 8,
   "metadata": {},
   "outputs": [],
   "source": [
    "df_cid_mais.to_csv(nomeArquivoCid, sep = ';', encoding='UTF-8')"
   ]
  },
  {
   "cell_type": "code",
   "execution_count": 9,
   "metadata": {},
   "outputs": [
    {
     "data": {
      "text/plain": [
       "109723"
      ]
     },
     "execution_count": 9,
     "metadata": {},
     "output_type": "execute_result"
    }
   ],
   "source": [
    "#qtde total de casos de ocorrência no dataFrame com os 10 maiores CIDs por ordem de ocorrência em 2020:\n",
    "df_cid_mais['qtde'].sum()  #109885"
   ]
  },
  {
   "cell_type": "code",
   "execution_count": 10,
   "metadata": {},
   "outputs": [
    {
     "name": "stdout",
     "output_type": "stream",
     "text": [
      "<class 'pandas.core.frame.DataFrame'>\n",
      "Index: 27 entries, São Paulo to Acre\n",
      "Data columns (total 1 columns):\n",
      " #   Column  Non-Null Count  Dtype\n",
      "---  ------  --------------  -----\n",
      " 0   qtde    27 non-null     int64\n",
      "dtypes: int64(1)\n",
      "memory usage: 432.0+ bytes\n"
     ]
    }
   ],
   "source": [
    "#Análise das 10 UFs de maior incidência de CAT em 2020:\n",
    "df_uf = pd.DataFrame(df_result['uf_emp'].value_counts())\n",
    "df_uf.rename(columns={\"uf_emp\": \"qtde\"}, inplace=True)\n",
    "df_uf_mais = df_uf.head(30).copy()\n",
    "df_uf_mais.index.name='uf_emp'\n",
    "df_uf_mais.info()"
   ]
  },
  {
   "cell_type": "code",
   "execution_count": 11,
   "metadata": {},
   "outputs": [
    {
     "data": {
      "text/html": [
       "<div>\n",
       "<style scoped>\n",
       "    .dataframe tbody tr th:only-of-type {\n",
       "        vertical-align: middle;\n",
       "    }\n",
       "\n",
       "    .dataframe tbody tr th {\n",
       "        vertical-align: top;\n",
       "    }\n",
       "\n",
       "    .dataframe thead th {\n",
       "        text-align: right;\n",
       "    }\n",
       "</style>\n",
       "<table border=\"1\" class=\"dataframe\">\n",
       "  <thead>\n",
       "    <tr style=\"text-align: right;\">\n",
       "      <th></th>\n",
       "      <th>qtde</th>\n",
       "    </tr>\n",
       "    <tr>\n",
       "      <th>uf_emp</th>\n",
       "      <th></th>\n",
       "    </tr>\n",
       "  </thead>\n",
       "  <tbody>\n",
       "    <tr>\n",
       "      <th>São Paulo</th>\n",
       "      <td>95423</td>\n",
       "    </tr>\n",
       "    <tr>\n",
       "      <th>Minas Gerais</th>\n",
       "      <td>29667</td>\n",
       "    </tr>\n",
       "    <tr>\n",
       "      <th>Rio Grande do Sul</th>\n",
       "      <td>23743</td>\n",
       "    </tr>\n",
       "    <tr>\n",
       "      <th>Paraná</th>\n",
       "      <td>21736</td>\n",
       "    </tr>\n",
       "    <tr>\n",
       "      <th>Santa Catarina</th>\n",
       "      <td>17341</td>\n",
       "    </tr>\n",
       "    <tr>\n",
       "      <th>Rio de Janeiro</th>\n",
       "      <td>16048</td>\n",
       "    </tr>\n",
       "    <tr>\n",
       "      <th>Goiás</th>\n",
       "      <td>7911</td>\n",
       "    </tr>\n",
       "    <tr>\n",
       "      <th>Bahia</th>\n",
       "      <td>7134</td>\n",
       "    </tr>\n",
       "    <tr>\n",
       "      <th>Mato Grosso</th>\n",
       "      <td>7052</td>\n",
       "    </tr>\n",
       "    <tr>\n",
       "      <th>Espírito Santo</th>\n",
       "      <td>6907</td>\n",
       "    </tr>\n",
       "    <tr>\n",
       "      <th>Pernambuco</th>\n",
       "      <td>5245</td>\n",
       "    </tr>\n",
       "    <tr>\n",
       "      <th>Ceará</th>\n",
       "      <td>4913</td>\n",
       "    </tr>\n",
       "    <tr>\n",
       "      <th>Mato Grosso do Sul</th>\n",
       "      <td>4779</td>\n",
       "    </tr>\n",
       "    <tr>\n",
       "      <th>Pará</th>\n",
       "      <td>4466</td>\n",
       "    </tr>\n",
       "    <tr>\n",
       "      <th>Distrito Federal</th>\n",
       "      <td>3274</td>\n",
       "    </tr>\n",
       "    <tr>\n",
       "      <th>Amazonas</th>\n",
       "      <td>2633</td>\n",
       "    </tr>\n",
       "    <tr>\n",
       "      <th>Rio Grande do Norte</th>\n",
       "      <td>1859</td>\n",
       "    </tr>\n",
       "    <tr>\n",
       "      <th>Rondônia</th>\n",
       "      <td>1717</td>\n",
       "    </tr>\n",
       "    <tr>\n",
       "      <th>Maranhão</th>\n",
       "      <td>1637</td>\n",
       "    </tr>\n",
       "    <tr>\n",
       "      <th>Alagoas</th>\n",
       "      <td>1407</td>\n",
       "    </tr>\n",
       "  </tbody>\n",
       "</table>\n",
       "</div>"
      ],
      "text/plain": [
       "                      qtde\n",
       "uf_emp                    \n",
       "São Paulo            95423\n",
       "Minas Gerais         29667\n",
       "Rio Grande do Sul    23743\n",
       "Paraná               21736\n",
       "Santa Catarina       17341\n",
       "Rio de Janeiro       16048\n",
       "Goiás                 7911\n",
       "Bahia                 7134\n",
       "Mato Grosso           7052\n",
       "Espírito Santo        6907\n",
       "Pernambuco            5245\n",
       "Ceará                 4913\n",
       "Mato Grosso do Sul    4779\n",
       "Pará                  4466\n",
       "Distrito Federal      3274\n",
       "Amazonas              2633\n",
       "Rio Grande do Norte   1859\n",
       "Rondônia              1717\n",
       "Maranhão              1637\n",
       "Alagoas               1407"
      ]
     },
     "execution_count": 11,
     "metadata": {},
     "output_type": "execute_result"
    }
   ],
   "source": [
    "df_uf_mais.head(20)"
   ]
  },
  {
   "cell_type": "code",
   "execution_count": 12,
   "metadata": {},
   "outputs": [
    {
     "data": {
      "text/plain": [
       "270152"
      ]
     },
     "execution_count": 12,
     "metadata": {},
     "output_type": "execute_result"
    }
   ],
   "source": [
    "#qtde total de casos de ocorrência no dataFrame com os 10 maiores UFs por ordem de ocorrência em 2020:\n",
    "df_uf_mais['qtde'].sum() #236188"
   ]
  },
  {
   "cell_type": "code",
   "execution_count": 13,
   "metadata": {},
   "outputs": [],
   "source": [
    "df_uf_mais.to_csv(nomeArquivoUF, sep = ';', encoding='UTF-8')"
   ]
  },
  {
   "cell_type": "code",
   "execution_count": 14,
   "metadata": {},
   "outputs": [
    {
     "name": "stdout",
     "output_type": "stream",
     "text": [
      "<class 'pandas.core.frame.DataFrame'>\n",
      "Int64Index: 20 entries, 322205 to 519110\n",
      "Data columns (total 1 columns):\n",
      " #   Column  Non-Null Count  Dtype\n",
      "---  ------  --------------  -----\n",
      " 0   qtde    20 non-null     int64\n",
      "dtypes: int64(1)\n",
      "memory usage: 320.0 bytes\n"
     ]
    }
   ],
   "source": [
    "#Análise das 20 CBOs de maior incidência de CAT em 2020:\n",
    "df_cbo = pd.DataFrame(df_result['cbo'].value_counts())\n",
    "df_cbo.rename(columns={\"cbo\": \"qtde\"}, inplace=True)\n",
    "df_cbo_mais = df_cbo.head(20).copy()\n",
    "df_cbo_mais.index.name='cbo'\n",
    "df_cbo_mais.info()"
   ]
  },
  {
   "cell_type": "code",
   "execution_count": 15,
   "metadata": {},
   "outputs": [
    {
     "data": {
      "text/html": [
       "<div>\n",
       "<style scoped>\n",
       "    .dataframe tbody tr th:only-of-type {\n",
       "        vertical-align: middle;\n",
       "    }\n",
       "\n",
       "    .dataframe tbody tr th {\n",
       "        vertical-align: top;\n",
       "    }\n",
       "\n",
       "    .dataframe thead th {\n",
       "        text-align: right;\n",
       "    }\n",
       "</style>\n",
       "<table border=\"1\" class=\"dataframe\">\n",
       "  <thead>\n",
       "    <tr style=\"text-align: right;\">\n",
       "      <th></th>\n",
       "      <th>qtde</th>\n",
       "    </tr>\n",
       "    <tr>\n",
       "      <th>cbo</th>\n",
       "      <th></th>\n",
       "    </tr>\n",
       "  </thead>\n",
       "  <tbody>\n",
       "    <tr>\n",
       "      <th>322205</th>\n",
       "      <td>24453</td>\n",
       "    </tr>\n",
       "    <tr>\n",
       "      <th>784205</th>\n",
       "      <td>16431</td>\n",
       "    </tr>\n",
       "    <tr>\n",
       "      <th>514320</th>\n",
       "      <td>9963</td>\n",
       "    </tr>\n",
       "    <tr>\n",
       "      <th>782510</th>\n",
       "      <td>6883</td>\n",
       "    </tr>\n",
       "    <tr>\n",
       "      <th>223505</th>\n",
       "      <td>6265</td>\n",
       "    </tr>\n",
       "    <tr>\n",
       "      <th>717020</th>\n",
       "      <td>5890</td>\n",
       "    </tr>\n",
       "    <tr>\n",
       "      <th>514205</th>\n",
       "      <td>4509</td>\n",
       "    </tr>\n",
       "    <tr>\n",
       "      <th>322230</th>\n",
       "      <td>4331</td>\n",
       "    </tr>\n",
       "    <tr>\n",
       "      <th>848520</th>\n",
       "      <td>3838</td>\n",
       "    </tr>\n",
       "    <tr>\n",
       "      <th>521125</th>\n",
       "      <td>3603</td>\n",
       "    </tr>\n",
       "    <tr>\n",
       "      <th>848510</th>\n",
       "      <td>3586</td>\n",
       "    </tr>\n",
       "    <tr>\n",
       "      <th>911305</th>\n",
       "      <td>3393</td>\n",
       "    </tr>\n",
       "    <tr>\n",
       "      <th>783225</th>\n",
       "      <td>3128</td>\n",
       "    </tr>\n",
       "    <tr>\n",
       "      <th>513505</th>\n",
       "      <td>3114</td>\n",
       "    </tr>\n",
       "    <tr>\n",
       "      <th>521110</th>\n",
       "      <td>3069</td>\n",
       "    </tr>\n",
       "    <tr>\n",
       "      <th>411005</th>\n",
       "      <td>2929</td>\n",
       "    </tr>\n",
       "    <tr>\n",
       "      <th>724315</th>\n",
       "      <td>2798</td>\n",
       "    </tr>\n",
       "    <tr>\n",
       "      <th>862150</th>\n",
       "      <td>2693</td>\n",
       "    </tr>\n",
       "    <tr>\n",
       "      <th>411010</th>\n",
       "      <td>2621</td>\n",
       "    </tr>\n",
       "    <tr>\n",
       "      <th>519110</th>\n",
       "      <td>2557</td>\n",
       "    </tr>\n",
       "  </tbody>\n",
       "</table>\n",
       "</div>"
      ],
      "text/plain": [
       "         qtde\n",
       "cbo          \n",
       "322205  24453\n",
       "784205  16431\n",
       "514320   9963\n",
       "782510   6883\n",
       "223505   6265\n",
       "717020   5890\n",
       "514205   4509\n",
       "322230   4331\n",
       "848520   3838\n",
       "521125   3603\n",
       "848510   3586\n",
       "911305   3393\n",
       "783225   3128\n",
       "513505   3114\n",
       "521110   3069\n",
       "411005   2929\n",
       "724315   2798\n",
       "862150   2693\n",
       "411010   2621\n",
       "519110   2557"
      ]
     },
     "execution_count": 15,
     "metadata": {},
     "output_type": "execute_result"
    }
   ],
   "source": [
    "df_cbo_mais.head(20)"
   ]
  },
  {
   "cell_type": "code",
   "execution_count": 16,
   "metadata": {},
   "outputs": [
    {
     "data": {
      "text/plain": [
       "116054"
      ]
     },
     "execution_count": 16,
     "metadata": {},
     "output_type": "execute_result"
    }
   ],
   "source": [
    "#qtde total de casos de ocorrência no dataFrame com os 20 maiores CBOs por ordem de ocorrência em 2020:\n",
    "df_cbo_mais['qtde'].sum() #86776"
   ]
  },
  {
   "cell_type": "code",
   "execution_count": 17,
   "metadata": {},
   "outputs": [],
   "source": [
    "df_cbo_mais.to_csv(nomeArquivoCBO, sep = ';', encoding='UTF-8')"
   ]
  },
  {
   "cell_type": "code",
   "execution_count": 18,
   "metadata": {},
   "outputs": [
    {
     "data": {
      "text/html": [
       "<div>\n",
       "<style scoped>\n",
       "    .dataframe tbody tr th:only-of-type {\n",
       "        vertical-align: middle;\n",
       "    }\n",
       "\n",
       "    .dataframe tbody tr th {\n",
       "        vertical-align: top;\n",
       "    }\n",
       "\n",
       "    .dataframe thead th {\n",
       "        text-align: right;\n",
       "    }\n",
       "</style>\n",
       "<table border=\"1\" class=\"dataframe\">\n",
       "  <thead>\n",
       "    <tr style=\"text-align: right;\">\n",
       "      <th></th>\n",
       "      <th>qtde</th>\n",
       "    </tr>\n",
       "    <tr>\n",
       "      <th>anoMes</th>\n",
       "      <th></th>\n",
       "    </tr>\n",
       "  </thead>\n",
       "  <tbody>\n",
       "    <tr>\n",
       "      <th>202007</th>\n",
       "      <td>37543</td>\n",
       "    </tr>\n",
       "    <tr>\n",
       "      <th>202008</th>\n",
       "      <td>36409</td>\n",
       "    </tr>\n",
       "    <tr>\n",
       "      <th>202006</th>\n",
       "      <td>33442</td>\n",
       "    </tr>\n",
       "    <tr>\n",
       "      <th>202009</th>\n",
       "      <td>29832</td>\n",
       "    </tr>\n",
       "    <tr>\n",
       "      <th>202002</th>\n",
       "      <td>29508</td>\n",
       "    </tr>\n",
       "    <tr>\n",
       "      <th>202005</th>\n",
       "      <td>29139</td>\n",
       "    </tr>\n",
       "    <tr>\n",
       "      <th>202001</th>\n",
       "      <td>28046</td>\n",
       "    </tr>\n",
       "    <tr>\n",
       "      <th>202003</th>\n",
       "      <td>27331</td>\n",
       "    </tr>\n",
       "    <tr>\n",
       "      <th>202004</th>\n",
       "      <td>18901</td>\n",
       "    </tr>\n",
       "    <tr>\n",
       "      <th>202010</th>\n",
       "      <td>1</td>\n",
       "    </tr>\n",
       "  </tbody>\n",
       "</table>\n",
       "</div>"
      ],
      "text/plain": [
       "         qtde\n",
       "anoMes       \n",
       "202007  37543\n",
       "202008  36409\n",
       "202006  33442\n",
       "202009  29832\n",
       "202002  29508\n",
       "202005  29139\n",
       "202001  28046\n",
       "202003  27331\n",
       "202004  18901\n",
       "202010      1"
      ]
     },
     "execution_count": 18,
     "metadata": {},
     "output_type": "execute_result"
    }
   ],
   "source": [
    "#Análise da incidência dos acidentes em meses de 2020:\n",
    "df_mes = pd.DataFrame(df_result['anoMes'].value_counts())\n",
    "df_mes.rename(columns={\"anoMes\": \"qtde\"}, inplace=True)\n",
    "df_mes_mais = df_mes.head(12).copy()\n",
    "df_mes_mais.index.name='anoMes'\n",
    "\n",
    "df_mes_mais.head(12)"
   ]
  },
  {
   "cell_type": "code",
   "execution_count": 19,
   "metadata": {},
   "outputs": [],
   "source": [
    "df_mes_mais.to_csv(nomeArquivoAnoMes, sep = ';', encoding='UTF-8')"
   ]
  },
  {
   "cell_type": "code",
   "execution_count": 20,
   "metadata": {},
   "outputs": [
    {
     "name": "stdout",
     "output_type": "stream",
     "text": [
      "<class 'pandas.core.frame.DataFrame'>\n",
      "Int64Index: 20 entries, 8610 to 8690\n",
      "Data columns (total 1 columns):\n",
      " #   Column  Non-Null Count  Dtype\n",
      "---  ------  --------------  -----\n",
      " 0   qtde    20 non-null     int64\n",
      "dtypes: int64(1)\n",
      "memory usage: 320.0 bytes\n"
     ]
    }
   ],
   "source": [
    "#Análise da incidência dos acidentes por CNAE:\n",
    "df_cnae = pd.DataFrame(df_result['cnae'].value_counts())\n",
    "df_cnae.rename(columns={\"cnae\": \"qtde\"}, inplace=True)\n",
    "\n",
    "df_cnae_mais = df_cnae.head(20).copy()\n",
    "df_cnae_mais.index.name='cnae'\n",
    "\n",
    "df_cnae_mais.info()"
   ]
  },
  {
   "cell_type": "code",
   "execution_count": 21,
   "metadata": {},
   "outputs": [
    {
     "data": {
      "text/html": [
       "<div>\n",
       "<style scoped>\n",
       "    .dataframe tbody tr th:only-of-type {\n",
       "        vertical-align: middle;\n",
       "    }\n",
       "\n",
       "    .dataframe tbody tr th {\n",
       "        vertical-align: top;\n",
       "    }\n",
       "\n",
       "    .dataframe thead th {\n",
       "        text-align: right;\n",
       "    }\n",
       "</style>\n",
       "<table border=\"1\" class=\"dataframe\">\n",
       "  <thead>\n",
       "    <tr style=\"text-align: right;\">\n",
       "      <th></th>\n",
       "      <th>qtde</th>\n",
       "    </tr>\n",
       "    <tr>\n",
       "      <th>cnae</th>\n",
       "      <th></th>\n",
       "    </tr>\n",
       "  </thead>\n",
       "  <tbody>\n",
       "    <tr>\n",
       "      <th>8610</th>\n",
       "      <td>38982</td>\n",
       "    </tr>\n",
       "    <tr>\n",
       "      <th>4711</th>\n",
       "      <td>10999</td>\n",
       "    </tr>\n",
       "    <tr>\n",
       "      <th>1012</th>\n",
       "      <td>8850</td>\n",
       "    </tr>\n",
       "    <tr>\n",
       "      <th>4930</th>\n",
       "      <td>7477</td>\n",
       "    </tr>\n",
       "    <tr>\n",
       "      <th>8411</th>\n",
       "      <td>6744</td>\n",
       "    </tr>\n",
       "    <tr>\n",
       "      <th>4120</th>\n",
       "      <td>5246</td>\n",
       "    </tr>\n",
       "    <tr>\n",
       "      <th>3811</th>\n",
       "      <td>4474</td>\n",
       "    </tr>\n",
       "    <tr>\n",
       "      <th>1011</th>\n",
       "      <td>3945</td>\n",
       "    </tr>\n",
       "    <tr>\n",
       "      <th>5611</th>\n",
       "      <td>3708</td>\n",
       "    </tr>\n",
       "    <tr>\n",
       "      <th>5310</th>\n",
       "      <td>3215</td>\n",
       "    </tr>\n",
       "    <tr>\n",
       "      <th>8630</th>\n",
       "      <td>3208</td>\n",
       "    </tr>\n",
       "    <tr>\n",
       "      <th>8640</th>\n",
       "      <td>2964</td>\n",
       "    </tr>\n",
       "    <tr>\n",
       "      <th>4744</th>\n",
       "      <td>2947</td>\n",
       "    </tr>\n",
       "    <tr>\n",
       "      <th>8121</th>\n",
       "      <td>2693</td>\n",
       "    </tr>\n",
       "    <tr>\n",
       "      <th>1071</th>\n",
       "      <td>2675</td>\n",
       "    </tr>\n",
       "    <tr>\n",
       "      <th>5620</th>\n",
       "      <td>2628</td>\n",
       "    </tr>\n",
       "    <tr>\n",
       "      <th>7820</th>\n",
       "      <td>2453</td>\n",
       "    </tr>\n",
       "    <tr>\n",
       "      <th>8660</th>\n",
       "      <td>2186</td>\n",
       "    </tr>\n",
       "    <tr>\n",
       "      <th>4221</th>\n",
       "      <td>2128</td>\n",
       "    </tr>\n",
       "    <tr>\n",
       "      <th>8690</th>\n",
       "      <td>2118</td>\n",
       "    </tr>\n",
       "  </tbody>\n",
       "</table>\n",
       "</div>"
      ],
      "text/plain": [
       "       qtde\n",
       "cnae       \n",
       "8610  38982\n",
       "4711  10999\n",
       "1012   8850\n",
       "4930   7477\n",
       "8411   6744\n",
       "4120   5246\n",
       "3811   4474\n",
       "1011   3945\n",
       "5611   3708\n",
       "5310   3215\n",
       "8630   3208\n",
       "8640   2964\n",
       "4744   2947\n",
       "8121   2693\n",
       "1071   2675\n",
       "5620   2628\n",
       "7820   2453\n",
       "8660   2186\n",
       "4221   2128\n",
       "8690   2118"
      ]
     },
     "execution_count": 21,
     "metadata": {},
     "output_type": "execute_result"
    }
   ],
   "source": [
    "df_cnae_mais.head(20)"
   ]
  },
  {
   "cell_type": "code",
   "execution_count": 22,
   "metadata": {},
   "outputs": [
    {
     "data": {
      "text/plain": [
       "119640"
      ]
     },
     "execution_count": 22,
     "metadata": {},
     "output_type": "execute_result"
    }
   ],
   "source": [
    "#qtde total de casos de ocorrência no dataFrame com os 20 maiores CNAEs por ordem de ocorrência em 2020:\n",
    "df_cnae_mais['qtde'].sum() #"
   ]
  },
  {
   "cell_type": "code",
   "execution_count": 23,
   "metadata": {},
   "outputs": [],
   "source": [
    "df_cnae_mais.to_csv(nomeArquivoCNAE, sep = ';', encoding='UTF-8')"
   ]
  },
  {
   "cell_type": "code",
   "execution_count": 24,
   "metadata": {},
   "outputs": [
    {
     "name": "stdout",
     "output_type": "stream",
     "text": [
      "<class 'pandas.core.frame.DataFrame'>\n",
      "Index: 20 entries, Dedo to Sistemas e Aparelhos\n",
      "Data columns (total 1 columns):\n",
      " #   Column  Non-Null Count  Dtype\n",
      "---  ------  --------------  -----\n",
      " 0   qtde    20 non-null     int64\n",
      "dtypes: int64(1)\n",
      "memory usage: 320.0+ bytes\n"
     ]
    }
   ],
   "source": [
    "#Análise da incidência dos acidentes por parte do corpo atingida:\n",
    "df_parte = pd.DataFrame(df_result['parte'].value_counts())\n",
    "df_parte.rename(columns={\"parte\": \"qtde\"}, inplace=True)\n",
    "\n",
    "df_parte_mais = df_parte.head(20).copy()\n",
    "df_parte_mais.index.name='parte'\n",
    "\n",
    "df_parte_mais.info()"
   ]
  },
  {
   "cell_type": "code",
   "execution_count": 25,
   "metadata": {},
   "outputs": [
    {
     "data": {
      "text/html": [
       "<div>\n",
       "<style scoped>\n",
       "    .dataframe tbody tr th:only-of-type {\n",
       "        vertical-align: middle;\n",
       "    }\n",
       "\n",
       "    .dataframe tbody tr th {\n",
       "        vertical-align: top;\n",
       "    }\n",
       "\n",
       "    .dataframe thead th {\n",
       "        text-align: right;\n",
       "    }\n",
       "</style>\n",
       "<table border=\"1\" class=\"dataframe\">\n",
       "  <thead>\n",
       "    <tr style=\"text-align: right;\">\n",
       "      <th></th>\n",
       "      <th>qtde</th>\n",
       "    </tr>\n",
       "    <tr>\n",
       "      <th>parte</th>\n",
       "      <th></th>\n",
       "    </tr>\n",
       "  </thead>\n",
       "  <tbody>\n",
       "    <tr>\n",
       "      <th>Dedo</th>\n",
       "      <td>67586</td>\n",
       "    </tr>\n",
       "    <tr>\n",
       "      <th>Pe (Exceto Artelhos)</th>\n",
       "      <td>21512</td>\n",
       "    </tr>\n",
       "    <tr>\n",
       "      <th>Mao (Exceto Punho ou</th>\n",
       "      <td>18619</td>\n",
       "    </tr>\n",
       "    <tr>\n",
       "      <th>Aparelho Respiratori</th>\n",
       "      <td>14291</td>\n",
       "    </tr>\n",
       "    <tr>\n",
       "      <th>Joelho</th>\n",
       "      <td>11734</td>\n",
       "    </tr>\n",
       "    <tr>\n",
       "      <th>Partes Multiplas - A</th>\n",
       "      <td>10887</td>\n",
       "    </tr>\n",
       "    <tr>\n",
       "      <th>Perna (Do Tornozelo,</th>\n",
       "      <td>9932</td>\n",
       "    </tr>\n",
       "    <tr>\n",
       "      <th>Olho (Inclusive Nerv</th>\n",
       "      <td>8584</td>\n",
       "    </tr>\n",
       "    <tr>\n",
       "      <th>Perna (Entre O Torno</th>\n",
       "      <td>8505</td>\n",
       "    </tr>\n",
       "    <tr>\n",
       "      <th>Ombro</th>\n",
       "      <td>8045</td>\n",
       "    </tr>\n",
       "    <tr>\n",
       "      <th>Articulacao do Torno</th>\n",
       "      <td>7925</td>\n",
       "    </tr>\n",
       "    <tr>\n",
       "      <th>Membros Superiores,</th>\n",
       "      <td>7440</td>\n",
       "    </tr>\n",
       "    <tr>\n",
       "      <th>Cabeca, Nic</th>\n",
       "      <td>7141</td>\n",
       "    </tr>\n",
       "    <tr>\n",
       "      <th>Punho</th>\n",
       "      <td>6971</td>\n",
       "    </tr>\n",
       "    <tr>\n",
       "      <th>Braco (Entre O Punho</th>\n",
       "      <td>6775</td>\n",
       "    </tr>\n",
       "    <tr>\n",
       "      <th>Membros Inferiores,</th>\n",
       "      <td>6134</td>\n",
       "    </tr>\n",
       "    <tr>\n",
       "      <th>Antebraco (Entre O P</th>\n",
       "      <td>5662</td>\n",
       "    </tr>\n",
       "    <tr>\n",
       "      <th>Dorso (Inclusive Mus</th>\n",
       "      <td>5212</td>\n",
       "    </tr>\n",
       "    <tr>\n",
       "      <th>Face, Partes Multipl</th>\n",
       "      <td>4382</td>\n",
       "    </tr>\n",
       "    <tr>\n",
       "      <th>Sistemas e Aparelhos</th>\n",
       "      <td>3770</td>\n",
       "    </tr>\n",
       "  </tbody>\n",
       "</table>\n",
       "</div>"
      ],
      "text/plain": [
       "                       qtde\n",
       "parte                      \n",
       "Dedo                  67586\n",
       "Pe (Exceto Artelhos)  21512\n",
       "Mao (Exceto Punho ou  18619\n",
       "Aparelho Respiratori  14291\n",
       "Joelho                11734\n",
       "Partes Multiplas - A  10887\n",
       "Perna (Do Tornozelo,   9932\n",
       "Olho (Inclusive Nerv   8584\n",
       "Perna (Entre O Torno   8505\n",
       "Ombro                  8045\n",
       "Articulacao do Torno   7925\n",
       "Membros Superiores,    7440\n",
       "Cabeca, Nic            7141\n",
       "Punho                  6971\n",
       "Braco (Entre O Punho   6775\n",
       "Membros Inferiores,    6134\n",
       "Antebraco (Entre O P   5662\n",
       "Dorso (Inclusive Mus   5212\n",
       "Face, Partes Multipl   4382\n",
       "Sistemas e Aparelhos   3770"
      ]
     },
     "execution_count": 25,
     "metadata": {},
     "output_type": "execute_result"
    }
   ],
   "source": [
    "df_parte_mais.head(20)"
   ]
  },
  {
   "cell_type": "code",
   "execution_count": 26,
   "metadata": {},
   "outputs": [
    {
     "data": {
      "text/plain": [
       "241107"
      ]
     },
     "execution_count": 26,
     "metadata": {},
     "output_type": "execute_result"
    }
   ],
   "source": [
    "#qtde total de casos de ocorrência no dataFrame com os 20 maiores CNAEs por ordem de ocorrência em 2020:\n",
    "df_parte_mais['qtde'].sum() #"
   ]
  },
  {
   "cell_type": "code",
   "execution_count": 27,
   "metadata": {},
   "outputs": [],
   "source": [
    "df_parte_mais.to_csv(nomeArquivoParte, sep = ';', encoding='UTF-8')"
   ]
  },
  {
   "cell_type": "code",
   "execution_count": 28,
   "metadata": {},
   "outputs": [
    {
     "name": "stdout",
     "output_type": "stream",
     "text": [
      "<class 'pandas.core.frame.DataFrame'>\n",
      "Index: 4 entries, Masculino to Indeterminado\n",
      "Data columns (total 1 columns):\n",
      " #   Column  Non-Null Count  Dtype\n",
      "---  ------  --------------  -----\n",
      " 0   qtde    4 non-null      int64\n",
      "dtypes: int64(1)\n",
      "memory usage: 64.0+ bytes\n"
     ]
    }
   ],
   "source": [
    "#Análise da incidência dos acidentes, separados por sexo (M ou F):\n",
    "df_sexo = pd.DataFrame(df_result['sexo'].value_counts())\n",
    "df_sexo.rename(columns={\"sexo\": \"qtde\"}, inplace=True)\n",
    "\n",
    "df_sexo_mais = df_sexo.head(5).copy()  # pode haver alguma opção para 'não informado'\n",
    "df_sexo_mais.index.name='sexo'\n",
    "\n",
    "df_sexo_mais.info()"
   ]
  },
  {
   "cell_type": "code",
   "execution_count": 29,
   "metadata": {},
   "outputs": [
    {
     "data": {
      "text/html": [
       "<div>\n",
       "<style scoped>\n",
       "    .dataframe tbody tr th:only-of-type {\n",
       "        vertical-align: middle;\n",
       "    }\n",
       "\n",
       "    .dataframe tbody tr th {\n",
       "        vertical-align: top;\n",
       "    }\n",
       "\n",
       "    .dataframe thead th {\n",
       "        text-align: right;\n",
       "    }\n",
       "</style>\n",
       "<table border=\"1\" class=\"dataframe\">\n",
       "  <thead>\n",
       "    <tr style=\"text-align: right;\">\n",
       "      <th></th>\n",
       "      <th>qtde</th>\n",
       "    </tr>\n",
       "    <tr>\n",
       "      <th>sexo</th>\n",
       "      <th></th>\n",
       "    </tr>\n",
       "  </thead>\n",
       "  <tbody>\n",
       "    <tr>\n",
       "      <th>Masculino</th>\n",
       "      <td>181122</td>\n",
       "    </tr>\n",
       "    <tr>\n",
       "      <th>Feminino</th>\n",
       "      <td>88214</td>\n",
       "    </tr>\n",
       "    <tr>\n",
       "      <th>Não Informado</th>\n",
       "      <td>807</td>\n",
       "    </tr>\n",
       "    <tr>\n",
       "      <th>Indeterminado</th>\n",
       "      <td>9</td>\n",
       "    </tr>\n",
       "  </tbody>\n",
       "</table>\n",
       "</div>"
      ],
      "text/plain": [
       "                 qtde\n",
       "sexo                 \n",
       "Masculino      181122\n",
       "Feminino        88214\n",
       "Não Informado     807\n",
       "Indeterminado       9"
      ]
     },
     "execution_count": 29,
     "metadata": {},
     "output_type": "execute_result"
    }
   ],
   "source": [
    "df_sexo_mais.head()"
   ]
  },
  {
   "cell_type": "code",
   "execution_count": 30,
   "metadata": {},
   "outputs": [
    {
     "data": {
      "text/plain": [
       "270152"
      ]
     },
     "execution_count": 30,
     "metadata": {},
     "output_type": "execute_result"
    }
   ],
   "source": [
    "#qtde total de casos de ocorrência no dataFrame com os 20 maiores CNAEs por ordem de ocorrência em 2020:\n",
    "df_sexo_mais['qtde'].sum() #"
   ]
  },
  {
   "cell_type": "code",
   "execution_count": 31,
   "metadata": {},
   "outputs": [],
   "source": [
    "df_sexo_mais.to_csv(nomeArquivoSexo, sep = ';', encoding='UTF-8')"
   ]
  },
  {
   "cell_type": "code",
   "execution_count": 32,
   "metadata": {},
   "outputs": [
    {
     "data": {
      "text/plain": [
       "10"
      ]
     },
     "execution_count": 32,
     "metadata": {},
     "output_type": "execute_result"
    }
   ],
   "source": [
    "df_result['idade'].min() #10 ???"
   ]
  },
  {
   "cell_type": "code",
   "execution_count": 33,
   "metadata": {},
   "outputs": [
    {
     "data": {
      "text/plain": [
       "1"
      ]
     },
     "execution_count": 33,
     "metadata": {},
     "output_type": "execute_result"
    }
   ],
   "source": [
    "selecao = df_result['idade'] < 14 # idade mínima para jovem aprendiz é de 14 anos, porém foi encontrado 1 registro < 14\n",
    "df_min = df_result[selecao]\n",
    "df_min.head(10)\n",
    "df_min.shape[0]   # <=20 -> 9024    <=14 -> 2    <= 15 -> 7"
   ]
  },
  {
   "cell_type": "code",
   "execution_count": 34,
   "metadata": {},
   "outputs": [
    {
     "data": {
      "text/plain": [
       "86"
      ]
     },
     "execution_count": 34,
     "metadata": {},
     "output_type": "execute_result"
    }
   ],
   "source": [
    "df_result['idade'].max()  #86"
   ]
  },
  {
   "cell_type": "code",
   "execution_count": 35,
   "metadata": {},
   "outputs": [],
   "source": [
    "classes = [13, 19, 24, 29, 34, 39, 44, 49, 54, 59, 64, 69, 100]\n",
    "faixas = pd.cut(df_result.idade, classes)"
   ]
  },
  {
   "cell_type": "code",
   "execution_count": 36,
   "metadata": {},
   "outputs": [
    {
     "data": {
      "text/plain": [
       "(29, 34]     43350\n",
       "(24, 29]     43095\n",
       "(34, 39]     43069\n",
       "(19, 24]     37307\n",
       "(39, 44]     35618\n",
       "(44, 49]     26049\n",
       "(49, 54]     19202\n",
       "(54, 59]     12534\n",
       "(59, 64]      4655\n",
       "(13, 19]      3551\n",
       "(64, 69]      1333\n",
       "(69, 100]      388\n",
       "Name: idade, dtype: int64"
      ]
     },
     "execution_count": 36,
     "metadata": {},
     "output_type": "execute_result"
    }
   ],
   "source": [
    "pd.value_counts(faixas)"
   ]
  },
  {
   "cell_type": "code",
   "execution_count": 37,
   "metadata": {},
   "outputs": [
    {
     "data": {
      "text/plain": [
       "30 a 34 anos:     43350\n",
       "25 a 29 anos:     43095\n",
       "35 a 39 anos:     43069\n",
       "20 a 24 anos:     37307\n",
       "40 a 44 anos:     35618\n",
       "45 a 49 anos:     26049\n",
       "50 a 54 anos:     19202\n",
       "55 a 59 anos:     12534\n",
       "60 a 64 anos:      4655\n",
       "14 a 19 anos:      3551\n",
       "65 a 69 anos:      1333\n",
       "70 a 100 anos:      388\n",
       "Name: idade, dtype: int64"
      ]
     },
     "execution_count": 37,
     "metadata": {},
     "output_type": "execute_result"
    }
   ],
   "source": [
    "labels = ['14 a 19 anos: ', '20 a 24 anos:', '25 a 29 anos:', '30 a 34 anos:', '35 a 39 anos:', '40 a 44 anos:', \n",
    "          '45 a 49 anos:', '50 a 54 anos:', '55 a 59 anos:', '60 a 64 anos:', '65 a 69 anos:', '70 a 100 anos:']\n",
    "faixas_labels = pd.cut(df_result.idade, classes, labels = labels)\n",
    "pd.value_counts(faixas_labels)"
   ]
  },
  {
   "cell_type": "code",
   "execution_count": 38,
   "metadata": {},
   "outputs": [],
   "source": [
    "df_faixasEtarias = pd.DataFrame(pd.value_counts(faixas_labels))\n"
   ]
  },
  {
   "cell_type": "code",
   "execution_count": 39,
   "metadata": {},
   "outputs": [
    {
     "data": {
      "text/html": [
       "<div>\n",
       "<style scoped>\n",
       "    .dataframe tbody tr th:only-of-type {\n",
       "        vertical-align: middle;\n",
       "    }\n",
       "\n",
       "    .dataframe tbody tr th {\n",
       "        vertical-align: top;\n",
       "    }\n",
       "\n",
       "    .dataframe thead th {\n",
       "        text-align: right;\n",
       "    }\n",
       "</style>\n",
       "<table border=\"1\" class=\"dataframe\">\n",
       "  <thead>\n",
       "    <tr style=\"text-align: right;\">\n",
       "      <th></th>\n",
       "      <th>idade</th>\n",
       "    </tr>\n",
       "  </thead>\n",
       "  <tbody>\n",
       "    <tr>\n",
       "      <th>30 a 34 anos:</th>\n",
       "      <td>43350</td>\n",
       "    </tr>\n",
       "    <tr>\n",
       "      <th>25 a 29 anos:</th>\n",
       "      <td>43095</td>\n",
       "    </tr>\n",
       "    <tr>\n",
       "      <th>35 a 39 anos:</th>\n",
       "      <td>43069</td>\n",
       "    </tr>\n",
       "    <tr>\n",
       "      <th>20 a 24 anos:</th>\n",
       "      <td>37307</td>\n",
       "    </tr>\n",
       "    <tr>\n",
       "      <th>40 a 44 anos:</th>\n",
       "      <td>35618</td>\n",
       "    </tr>\n",
       "    <tr>\n",
       "      <th>45 a 49 anos:</th>\n",
       "      <td>26049</td>\n",
       "    </tr>\n",
       "    <tr>\n",
       "      <th>50 a 54 anos:</th>\n",
       "      <td>19202</td>\n",
       "    </tr>\n",
       "    <tr>\n",
       "      <th>55 a 59 anos:</th>\n",
       "      <td>12534</td>\n",
       "    </tr>\n",
       "    <tr>\n",
       "      <th>60 a 64 anos:</th>\n",
       "      <td>4655</td>\n",
       "    </tr>\n",
       "    <tr>\n",
       "      <th>14 a 19 anos:</th>\n",
       "      <td>3551</td>\n",
       "    </tr>\n",
       "  </tbody>\n",
       "</table>\n",
       "</div>"
      ],
      "text/plain": [
       "                idade\n",
       "30 a 34 anos:   43350\n",
       "25 a 29 anos:   43095\n",
       "35 a 39 anos:   43069\n",
       "20 a 24 anos:   37307\n",
       "40 a 44 anos:   35618\n",
       "45 a 49 anos:   26049\n",
       "50 a 54 anos:   19202\n",
       "55 a 59 anos:   12534\n",
       "60 a 64 anos:    4655\n",
       "14 a 19 anos:    3551"
      ]
     },
     "execution_count": 39,
     "metadata": {},
     "output_type": "execute_result"
    }
   ],
   "source": [
    "df_faixasEtarias.head(10)"
   ]
  },
  {
   "cell_type": "code",
   "execution_count": 40,
   "metadata": {},
   "outputs": [],
   "source": [
    "df_faixasEtarias['desc_faixa'] = df_faixasEtarias.index"
   ]
  },
  {
   "cell_type": "code",
   "execution_count": 41,
   "metadata": {},
   "outputs": [
    {
     "data": {
      "text/html": [
       "<div>\n",
       "<style scoped>\n",
       "    .dataframe tbody tr th:only-of-type {\n",
       "        vertical-align: middle;\n",
       "    }\n",
       "\n",
       "    .dataframe tbody tr th {\n",
       "        vertical-align: top;\n",
       "    }\n",
       "\n",
       "    .dataframe thead th {\n",
       "        text-align: right;\n",
       "    }\n",
       "</style>\n",
       "<table border=\"1\" class=\"dataframe\">\n",
       "  <thead>\n",
       "    <tr style=\"text-align: right;\">\n",
       "      <th></th>\n",
       "      <th>idade</th>\n",
       "      <th>desc_faixa</th>\n",
       "    </tr>\n",
       "  </thead>\n",
       "  <tbody>\n",
       "    <tr>\n",
       "      <th>30 a 34 anos:</th>\n",
       "      <td>43350</td>\n",
       "      <td>30 a 34 anos:</td>\n",
       "    </tr>\n",
       "    <tr>\n",
       "      <th>25 a 29 anos:</th>\n",
       "      <td>43095</td>\n",
       "      <td>25 a 29 anos:</td>\n",
       "    </tr>\n",
       "    <tr>\n",
       "      <th>35 a 39 anos:</th>\n",
       "      <td>43069</td>\n",
       "      <td>35 a 39 anos:</td>\n",
       "    </tr>\n",
       "    <tr>\n",
       "      <th>20 a 24 anos:</th>\n",
       "      <td>37307</td>\n",
       "      <td>20 a 24 anos:</td>\n",
       "    </tr>\n",
       "    <tr>\n",
       "      <th>40 a 44 anos:</th>\n",
       "      <td>35618</td>\n",
       "      <td>40 a 44 anos:</td>\n",
       "    </tr>\n",
       "    <tr>\n",
       "      <th>45 a 49 anos:</th>\n",
       "      <td>26049</td>\n",
       "      <td>45 a 49 anos:</td>\n",
       "    </tr>\n",
       "    <tr>\n",
       "      <th>50 a 54 anos:</th>\n",
       "      <td>19202</td>\n",
       "      <td>50 a 54 anos:</td>\n",
       "    </tr>\n",
       "    <tr>\n",
       "      <th>55 a 59 anos:</th>\n",
       "      <td>12534</td>\n",
       "      <td>55 a 59 anos:</td>\n",
       "    </tr>\n",
       "    <tr>\n",
       "      <th>60 a 64 anos:</th>\n",
       "      <td>4655</td>\n",
       "      <td>60 a 64 anos:</td>\n",
       "    </tr>\n",
       "    <tr>\n",
       "      <th>14 a 19 anos:</th>\n",
       "      <td>3551</td>\n",
       "      <td>14 a 19 anos:</td>\n",
       "    </tr>\n",
       "  </tbody>\n",
       "</table>\n",
       "</div>"
      ],
      "text/plain": [
       "                idade      desc_faixa\n",
       "30 a 34 anos:   43350   30 a 34 anos:\n",
       "25 a 29 anos:   43095   25 a 29 anos:\n",
       "35 a 39 anos:   43069   35 a 39 anos:\n",
       "20 a 24 anos:   37307   20 a 24 anos:\n",
       "40 a 44 anos:   35618   40 a 44 anos:\n",
       "45 a 49 anos:   26049   45 a 49 anos:\n",
       "50 a 54 anos:   19202   50 a 54 anos:\n",
       "55 a 59 anos:   12534   55 a 59 anos:\n",
       "60 a 64 anos:    4655   60 a 64 anos:\n",
       "14 a 19 anos:    3551  14 a 19 anos: "
      ]
     },
     "execution_count": 41,
     "metadata": {},
     "output_type": "execute_result"
    }
   ],
   "source": [
    "df_faixasEtarias.head(10)"
   ]
  },
  {
   "cell_type": "code",
   "execution_count": 42,
   "metadata": {},
   "outputs": [
    {
     "data": {
      "text/html": [
       "<div>\n",
       "<style scoped>\n",
       "    .dataframe tbody tr th:only-of-type {\n",
       "        vertical-align: middle;\n",
       "    }\n",
       "\n",
       "    .dataframe tbody tr th {\n",
       "        vertical-align: top;\n",
       "    }\n",
       "\n",
       "    .dataframe thead th {\n",
       "        text-align: right;\n",
       "    }\n",
       "</style>\n",
       "<table border=\"1\" class=\"dataframe\">\n",
       "  <thead>\n",
       "    <tr style=\"text-align: right;\">\n",
       "      <th></th>\n",
       "      <th>qtde</th>\n",
       "      <th>desc_faixa</th>\n",
       "    </tr>\n",
       "    <tr>\n",
       "      <th>id</th>\n",
       "      <th></th>\n",
       "      <th></th>\n",
       "    </tr>\n",
       "  </thead>\n",
       "  <tbody>\n",
       "    <tr>\n",
       "      <th>0</th>\n",
       "      <td>43350</td>\n",
       "      <td>30 a 34 anos:</td>\n",
       "    </tr>\n",
       "    <tr>\n",
       "      <th>1</th>\n",
       "      <td>43095</td>\n",
       "      <td>25 a 29 anos:</td>\n",
       "    </tr>\n",
       "    <tr>\n",
       "      <th>2</th>\n",
       "      <td>43069</td>\n",
       "      <td>35 a 39 anos:</td>\n",
       "    </tr>\n",
       "    <tr>\n",
       "      <th>3</th>\n",
       "      <td>37307</td>\n",
       "      <td>20 a 24 anos:</td>\n",
       "    </tr>\n",
       "    <tr>\n",
       "      <th>4</th>\n",
       "      <td>35618</td>\n",
       "      <td>40 a 44 anos:</td>\n",
       "    </tr>\n",
       "    <tr>\n",
       "      <th>5</th>\n",
       "      <td>26049</td>\n",
       "      <td>45 a 49 anos:</td>\n",
       "    </tr>\n",
       "    <tr>\n",
       "      <th>6</th>\n",
       "      <td>19202</td>\n",
       "      <td>50 a 54 anos:</td>\n",
       "    </tr>\n",
       "    <tr>\n",
       "      <th>7</th>\n",
       "      <td>12534</td>\n",
       "      <td>55 a 59 anos:</td>\n",
       "    </tr>\n",
       "    <tr>\n",
       "      <th>8</th>\n",
       "      <td>4655</td>\n",
       "      <td>60 a 64 anos:</td>\n",
       "    </tr>\n",
       "    <tr>\n",
       "      <th>9</th>\n",
       "      <td>3551</td>\n",
       "      <td>14 a 19 anos:</td>\n",
       "    </tr>\n",
       "  </tbody>\n",
       "</table>\n",
       "</div>"
      ],
      "text/plain": [
       "     qtde      desc_faixa\n",
       "id                       \n",
       "0   43350   30 a 34 anos:\n",
       "1   43095   25 a 29 anos:\n",
       "2   43069   35 a 39 anos:\n",
       "3   37307   20 a 24 anos:\n",
       "4   35618   40 a 44 anos:\n",
       "5   26049   45 a 49 anos:\n",
       "6   19202   50 a 54 anos:\n",
       "7   12534   55 a 59 anos:\n",
       "8    4655   60 a 64 anos:\n",
       "9    3551  14 a 19 anos: "
      ]
     },
     "execution_count": 42,
     "metadata": {},
     "output_type": "execute_result"
    }
   ],
   "source": [
    "df_faixasEtarias.index = range(df_faixasEtarias.shape[0])\n",
    "df_faixasEtarias.index.name = 'id'\n",
    "df_faixasEtarias.rename(columns={\"idade\": \"qtde\"}, inplace=True)\n",
    "df_faixasEtarias.head(10)"
   ]
  },
  {
   "cell_type": "code",
   "execution_count": 43,
   "metadata": {},
   "outputs": [
    {
     "data": {
      "text/plain": [
       "270151"
      ]
     },
     "execution_count": 43,
     "metadata": {},
     "output_type": "execute_result"
    }
   ],
   "source": [
    "df_faixasEtarias.to_csv(nomeArquivoIdade, sep = ';', encoding='UTF-8')\n",
    "df_faixasEtarias['qtde'].sum()"
   ]
  },
  {
   "cell_type": "code",
   "execution_count": 44,
   "metadata": {},
   "outputs": [
    {
     "name": "stdout",
     "output_type": "stream",
     "text": [
      "<class 'pandas.core.frame.DataFrame'>\n",
      "Index: 2 entries, Não to Sim\n",
      "Data columns (total 1 columns):\n",
      " #   Column  Non-Null Count  Dtype\n",
      "---  ------  --------------  -----\n",
      " 0   qtde    2 non-null      int64\n",
      "dtypes: int64(1)\n",
      "memory usage: 32.0+ bytes\n"
     ]
    }
   ],
   "source": [
    "#Análise da incidência de óbitos decorrentes dos acidente:\n",
    "df_obitos = pd.DataFrame(df_result['obito'].value_counts())\n",
    "df_obitos.rename(columns={\"obito\": \"qtde\"}, inplace=True)\n",
    "\n",
    "df_obitos_mais = df_obitos.head(5).copy()  # pode haver alguma opção para 'não informado'\n",
    "df_obitos_mais.index.name='obito'\n",
    "\n",
    "df_obitos_mais.info()"
   ]
  },
  {
   "cell_type": "code",
   "execution_count": 45,
   "metadata": {},
   "outputs": [
    {
     "data": {
      "text/html": [
       "<div>\n",
       "<style scoped>\n",
       "    .dataframe tbody tr th:only-of-type {\n",
       "        vertical-align: middle;\n",
       "    }\n",
       "\n",
       "    .dataframe tbody tr th {\n",
       "        vertical-align: top;\n",
       "    }\n",
       "\n",
       "    .dataframe thead th {\n",
       "        text-align: right;\n",
       "    }\n",
       "</style>\n",
       "<table border=\"1\" class=\"dataframe\">\n",
       "  <thead>\n",
       "    <tr style=\"text-align: right;\">\n",
       "      <th></th>\n",
       "      <th>qtde</th>\n",
       "    </tr>\n",
       "    <tr>\n",
       "      <th>obito</th>\n",
       "      <th></th>\n",
       "    </tr>\n",
       "  </thead>\n",
       "  <tbody>\n",
       "    <tr>\n",
       "      <th>Não</th>\n",
       "      <td>268926</td>\n",
       "    </tr>\n",
       "    <tr>\n",
       "      <th>Sim</th>\n",
       "      <td>1226</td>\n",
       "    </tr>\n",
       "  </tbody>\n",
       "</table>\n",
       "</div>"
      ],
      "text/plain": [
       "         qtde\n",
       "obito        \n",
       "Não    268926\n",
       "Sim      1226"
      ]
     },
     "execution_count": 45,
     "metadata": {},
     "output_type": "execute_result"
    }
   ],
   "source": [
    "df_obitos_mais.head()"
   ]
  },
  {
   "cell_type": "code",
   "execution_count": 46,
   "metadata": {},
   "outputs": [
    {
     "data": {
      "text/plain": [
       "270152"
      ]
     },
     "execution_count": 46,
     "metadata": {},
     "output_type": "execute_result"
    }
   ],
   "source": [
    "#qtde total de casos de ocorrência no dataFrame:\n",
    "df_obitos_mais['qtde'].sum() #"
   ]
  },
  {
   "cell_type": "code",
   "execution_count": 47,
   "metadata": {},
   "outputs": [],
   "source": [
    "df_obitos_mais.to_csv(nomeArquivoObitos, sep = ';', encoding='UTF-8')"
   ]
  },
  {
   "cell_type": "code",
   "execution_count": 48,
   "metadata": {},
   "outputs": [
    {
     "name": "stdout",
     "output_type": "stream",
     "text": [
      "<class 'pandas.core.frame.DataFrame'>\n",
      "Index: 3 entries, Típico to Doença\n",
      "Data columns (total 1 columns):\n",
      " #   Column  Non-Null Count  Dtype\n",
      "---  ------  --------------  -----\n",
      " 0   qtde    3 non-null      int64\n",
      "dtypes: int64(1)\n",
      "memory usage: 48.0+ bytes\n"
     ]
    }
   ],
   "source": [
    "#Análise da incidência de tipos de acidentes:\n",
    "df_tipos = pd.DataFrame(df_result['tipo_acidente'].value_counts())\n",
    "df_tipos.rename(columns={\"tipo_acidente\": \"qtde\"}, inplace=True)\n",
    "\n",
    "df_tipos_mais = df_tipos.head(20).copy()  # pode haver alguma opção para 'não informado'\n",
    "df_tipos_mais.index.name='tipo_acidente'\n",
    "\n",
    "df_tipos_mais.info()"
   ]
  },
  {
   "cell_type": "code",
   "execution_count": 49,
   "metadata": {},
   "outputs": [
    {
     "data": {
      "text/html": [
       "<div>\n",
       "<style scoped>\n",
       "    .dataframe tbody tr th:only-of-type {\n",
       "        vertical-align: middle;\n",
       "    }\n",
       "\n",
       "    .dataframe tbody tr th {\n",
       "        vertical-align: top;\n",
       "    }\n",
       "\n",
       "    .dataframe thead th {\n",
       "        text-align: right;\n",
       "    }\n",
       "</style>\n",
       "<table border=\"1\" class=\"dataframe\">\n",
       "  <thead>\n",
       "    <tr style=\"text-align: right;\">\n",
       "      <th></th>\n",
       "      <th>qtde</th>\n",
       "    </tr>\n",
       "    <tr>\n",
       "      <th>tipo_acidente</th>\n",
       "      <th></th>\n",
       "    </tr>\n",
       "  </thead>\n",
       "  <tbody>\n",
       "    <tr>\n",
       "      <th>Típico</th>\n",
       "      <td>217484</td>\n",
       "    </tr>\n",
       "    <tr>\n",
       "      <th>Trajeto</th>\n",
       "      <td>34581</td>\n",
       "    </tr>\n",
       "    <tr>\n",
       "      <th>Doença</th>\n",
       "      <td>18087</td>\n",
       "    </tr>\n",
       "  </tbody>\n",
       "</table>\n",
       "</div>"
      ],
      "text/plain": [
       "                 qtde\n",
       "tipo_acidente        \n",
       "Típico         217484\n",
       "Trajeto         34581\n",
       "Doença          18087"
      ]
     },
     "execution_count": 49,
     "metadata": {},
     "output_type": "execute_result"
    }
   ],
   "source": [
    "df_tipos_mais.head(20)"
   ]
  },
  {
   "cell_type": "code",
   "execution_count": 50,
   "metadata": {},
   "outputs": [
    {
     "data": {
      "text/plain": [
       "270152"
      ]
     },
     "execution_count": 50,
     "metadata": {},
     "output_type": "execute_result"
    }
   ],
   "source": [
    "#qtde total de casos de ocorrência no dataFrame:\n",
    "df_tipos_mais['qtde'].sum() #270152"
   ]
  },
  {
   "cell_type": "code",
   "execution_count": 51,
   "metadata": {},
   "outputs": [],
   "source": [
    "df_tipos_mais.to_csv(nomeArquivoTipoAcidente, sep = ';', encoding='UTF-8')"
   ]
  },
  {
   "cell_type": "code",
   "execution_count": 52,
   "metadata": {},
   "outputs": [
    {
     "name": "stdout",
     "output_type": "stream",
     "text": [
      "<class 'pandas.core.frame.DataFrame'>\n",
      "Index: 20 entries, Corte, Laceracao, Fe to Envenenamento Sistem\n",
      "Data columns (total 1 columns):\n",
      " #   Column  Non-Null Count  Dtype\n",
      "---  ------  --------------  -----\n",
      " 0   qtde    20 non-null     int64\n",
      "dtypes: int64(1)\n",
      "memory usage: 320.0+ bytes\n"
     ]
    }
   ],
   "source": [
    "#Análise da incidência da natureza de acidentes:\n",
    "df_natureza = pd.DataFrame(df_result['natureza'].value_counts())\n",
    "df_natureza.rename(columns={\"natureza\": \"qtde\"}, inplace=True)\n",
    "\n",
    "df_natureza_mais = df_natureza.head(20).copy()  # pode haver alguma opção para 'não informado'\n",
    "df_natureza_mais.index.name='natureza'\n",
    "\n",
    "df_natureza_mais.info()"
   ]
  },
  {
   "cell_type": "code",
   "execution_count": 53,
   "metadata": {},
   "outputs": [
    {
     "name": "stdout",
     "output_type": "stream",
     "text": [
      "<class 'pandas.core.frame.DataFrame'>\n",
      "Index: 20 entries, Corte, Laceracao, Fe to Envenenamento Sistem\n",
      "Data columns (total 1 columns):\n",
      " #   Column  Non-Null Count  Dtype\n",
      "---  ------  --------------  -----\n",
      " 0   qtde    20 non-null     int64\n",
      "dtypes: int64(1)\n",
      "memory usage: 320.0+ bytes\n"
     ]
    }
   ],
   "source": [
    "df_natureza_mais.info()"
   ]
  },
  {
   "cell_type": "code",
   "execution_count": 54,
   "metadata": {},
   "outputs": [
    {
     "data": {
      "text/html": [
       "<div>\n",
       "<style scoped>\n",
       "    .dataframe tbody tr th:only-of-type {\n",
       "        vertical-align: middle;\n",
       "    }\n",
       "\n",
       "    .dataframe tbody tr th {\n",
       "        vertical-align: top;\n",
       "    }\n",
       "\n",
       "    .dataframe thead th {\n",
       "        text-align: right;\n",
       "    }\n",
       "</style>\n",
       "<table border=\"1\" class=\"dataframe\">\n",
       "  <thead>\n",
       "    <tr style=\"text-align: right;\">\n",
       "      <th></th>\n",
       "      <th>qtde</th>\n",
       "    </tr>\n",
       "    <tr>\n",
       "      <th>natureza</th>\n",
       "      <th></th>\n",
       "    </tr>\n",
       "  </thead>\n",
       "  <tbody>\n",
       "    <tr>\n",
       "      <th>Corte, Laceracao, Fe</th>\n",
       "      <td>52862</td>\n",
       "    </tr>\n",
       "    <tr>\n",
       "      <th>Fratura</th>\n",
       "      <td>45017</td>\n",
       "    </tr>\n",
       "    <tr>\n",
       "      <th>Lesao Imediata, Nic</th>\n",
       "      <td>34575</td>\n",
       "    </tr>\n",
       "    <tr>\n",
       "      <th>Contusao, Esmagament</th>\n",
       "      <td>28810</td>\n",
       "    </tr>\n",
       "    <tr>\n",
       "      <th>Distensao, Torcao</th>\n",
       "      <td>19540</td>\n",
       "    </tr>\n",
       "    <tr>\n",
       "      <th>Escoriacao, Abrasao</th>\n",
       "      <td>16713</td>\n",
       "    </tr>\n",
       "    <tr>\n",
       "      <th>Luxacao</th>\n",
       "      <td>16124</td>\n",
       "    </tr>\n",
       "    <tr>\n",
       "      <th>Doenca Contagiosa ou</th>\n",
       "      <td>12687</td>\n",
       "    </tr>\n",
       "    <tr>\n",
       "      <th>Doenca, Nic</th>\n",
       "      <td>11000</td>\n",
       "    </tr>\n",
       "    <tr>\n",
       "      <th>Lesoes Multiplas</th>\n",
       "      <td>9221</td>\n",
       "    </tr>\n",
       "    <tr>\n",
       "      <th>Queimadura ou Escald</th>\n",
       "      <td>6632</td>\n",
       "    </tr>\n",
       "    <tr>\n",
       "      <th>Lesao Imediata</th>\n",
       "      <td>2952</td>\n",
       "    </tr>\n",
       "    <tr>\n",
       "      <th>Amputacao ou Enuclea</th>\n",
       "      <td>2458</td>\n",
       "    </tr>\n",
       "    <tr>\n",
       "      <th>Inflamacao de Articu</th>\n",
       "      <td>2451</td>\n",
       "    </tr>\n",
       "    <tr>\n",
       "      <th>Queimadura Quimica (</th>\n",
       "      <td>2050</td>\n",
       "    </tr>\n",
       "    <tr>\n",
       "      <th>Perda ou Diminuicao</th>\n",
       "      <td>1599</td>\n",
       "    </tr>\n",
       "    <tr>\n",
       "      <th>{ñ class}</th>\n",
       "      <td>996</td>\n",
       "    </tr>\n",
       "    <tr>\n",
       "      <th>Concussao Cerebral</th>\n",
       "      <td>918</td>\n",
       "    </tr>\n",
       "    <tr>\n",
       "      <th>Outras Lesoes, Nic</th>\n",
       "      <td>809</td>\n",
       "    </tr>\n",
       "    <tr>\n",
       "      <th>Envenenamento Sistem</th>\n",
       "      <td>706</td>\n",
       "    </tr>\n",
       "  </tbody>\n",
       "</table>\n",
       "</div>"
      ],
      "text/plain": [
       "                       qtde\n",
       "natureza                   \n",
       "Corte, Laceracao, Fe  52862\n",
       "Fratura               45017\n",
       "Lesao Imediata, Nic   34575\n",
       "Contusao, Esmagament  28810\n",
       "Distensao, Torcao     19540\n",
       "Escoriacao, Abrasao   16713\n",
       "Luxacao               16124\n",
       "Doenca Contagiosa ou  12687\n",
       "Doenca, Nic           11000\n",
       "Lesoes Multiplas       9221\n",
       "Queimadura ou Escald   6632\n",
       "Lesao Imediata         2952\n",
       "Amputacao ou Enuclea   2458\n",
       "Inflamacao de Articu   2451\n",
       "Queimadura Quimica (   2050\n",
       "Perda ou Diminuicao    1599\n",
       "{ñ class}               996\n",
       "Concussao Cerebral      918\n",
       "Outras Lesoes, Nic      809\n",
       "Envenenamento Sistem    706"
      ]
     },
     "execution_count": 54,
     "metadata": {},
     "output_type": "execute_result"
    }
   ],
   "source": [
    "df_natureza_mais.head(20)"
   ]
  },
  {
   "cell_type": "code",
   "execution_count": 55,
   "metadata": {},
   "outputs": [
    {
     "data": {
      "text/plain": [
       "268120"
      ]
     },
     "execution_count": 55,
     "metadata": {},
     "output_type": "execute_result"
    }
   ],
   "source": [
    "#qtde total de casos de ocorrência no dataFrame:\n",
    "df_natureza_mais['qtde'].sum() # 268120"
   ]
  },
  {
   "cell_type": "code",
   "execution_count": 56,
   "metadata": {},
   "outputs": [],
   "source": [
    "df_natureza_mais.to_csv(nomeArquivoNatureza, sep = ';', encoding='UTF-8')"
   ]
  }
 ],
 "metadata": {
  "kernelspec": {
   "display_name": "Python 3",
   "language": "python",
   "name": "python3"
  },
  "language_info": {
   "codemirror_mode": {
    "name": "ipython",
    "version": 3
   },
   "file_extension": ".py",
   "mimetype": "text/x-python",
   "name": "python",
   "nbconvert_exporter": "python",
   "pygments_lexer": "ipython3",
   "version": "3.8.3"
  }
 },
 "nbformat": 4,
 "nbformat_minor": 4
}
