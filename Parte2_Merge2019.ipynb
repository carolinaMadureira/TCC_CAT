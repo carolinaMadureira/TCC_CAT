{
 "cells": [
  {
   "cell_type": "code",
   "execution_count": 1,
   "metadata": {},
   "outputs": [],
   "source": [
    "import numpy as np\n",
    "import pandas as pd\n",
    "from scipy import special\n",
    "from random import sample\n",
    "import itertools\n",
    "from datetime import timedelta\n",
    "from IPython.display import display\n",
    "import matplotlib.pyplot as plt\n",
    "import seaborn as sns\n",
    "%matplotlib inline\n",
    "import math\n",
    "import re"
   ]
  },
  {
   "cell_type": "code",
   "execution_count": 2,
   "metadata": {},
   "outputs": [],
   "source": [
    "arquivoOrigemA = 'datasets/result/dados_cat_201901.csv'\n",
    "arquivoOrigemB = 'datasets/result/dados_cat_201902.csv'\n",
    "arquivoOrigemC = 'datasets/result/dados_cat_201903.csv'\n",
    "arquivoOrigemD = 'datasets/result/dados_cat_201904.csv'\n",
    "arquivoOrigemE = 'datasets/result/dados_cat_2019A.csv'\n",
    "nomeArquivoResultado = 'datasets/result/dados_cat_2019.csv'\n",
    "\n",
    "nomeArquivoCid = 'datasets/result/2019/dados_cid_2019.csv'\n",
    "nomeArquivoUF = 'datasets/result/2019/dados_uf_2019.csv'\n",
    "nomeArquivoCBO = 'datasets/result/2019/dados_cbo_2019.csv'\n",
    "nomeArquivoAnoMes = 'datasets/result/2019/dados_anoMes_2019.csv'\n",
    "nomeArquivoCNAE = 'datasets/result/2019/dados_cnae_2019.csv'\n",
    "nomeArquivoParte = 'datasets/result/2019/dados_parte_2019.csv'\n",
    "nomeArquivoSexo = 'datasets/result/2019/dados_sexo_2019.csv'\n",
    "nomeArquivoIdade = 'datasets/result/2019/dados_idade_2019.csv'\n",
    "nomeArquivoObitos = 'datasets/result/2019/dados_obitos_2019.csv'\n",
    "nomeArquivoTipoAcidente = 'datasets/result/2019/dados_tipoAcidente_2019.csv'\n",
    "nomeArquivoNatureza = 'datasets/result/2019/dados_natureza_2019.csv'"
   ]
  },
  {
   "cell_type": "code",
   "execution_count": 3,
   "metadata": {},
   "outputs": [],
   "source": [
    "columns_types = {'agente': str, 'cbo': int, 'cid': str, 'cnae': int, 'obito': str, 'natureza': str, 'parte': str, 'sexo': str, \n",
    "                 'tipo_acidente': str, 'uf_emp': str, 'idade': int, 'anoMes': str}\n",
    "\n",
    "nomes  = ['agente', 'cbo', 'cid', 'cnae', 'obito', 'natureza', 'parte', 'sexo', 'tipo_acidente', 'uf_emp', 'idade', 'anoMes']\n",
    "\n",
    "dados_originaisA = pd.read_csv(arquivoOrigemA, sep = ';', header=0, names=nomes, dtype=columns_types, encoding='utf8')\n",
    "dados_originaisB = pd.read_csv(arquivoOrigemB, sep = ';', header=0, names=nomes, dtype=columns_types, encoding='utf8')\n",
    "dados_originaisC = pd.read_csv(arquivoOrigemC, sep = ';', header=0, names=nomes, dtype=columns_types, encoding='utf8')\n",
    "dados_originaisD = pd.read_csv(arquivoOrigemD, sep = ';', header=0, names=nomes, dtype=columns_types, encoding='utf8')\n",
    "dados_originaisE = pd.read_csv(arquivoOrigemE, sep = ';', header=0, names=nomes, dtype=columns_types, encoding='utf8')\n",
    "\n",
    "\n",
    "df_originalA = pd.DataFrame(data = dados_originaisA)\n",
    "df_originalB = pd.DataFrame(data = dados_originaisB)\n",
    "df_originalC = pd.DataFrame(data = dados_originaisC)\n",
    "df_originalD = pd.DataFrame(data = dados_originaisD)\n",
    "df_originalE = pd.DataFrame(data = dados_originaisE)"
   ]
  },
  {
   "cell_type": "code",
   "execution_count": 4,
   "metadata": {},
   "outputs": [
    {
     "data": {
      "text/plain": [
       "474047"
      ]
     },
     "execution_count": 4,
     "metadata": {},
     "output_type": "execute_result"
    }
   ],
   "source": [
    "df_result = pd.concat([df_originalA, df_originalB, df_originalC, df_originalD, df_originalE], ignore_index= True)\n",
    "df_result.index = range(df_result.shape[0])\n",
    "df_result.shape[0]   #270534 -> qtde total de acidentes analisados de 2020"
   ]
  },
  {
   "cell_type": "code",
   "execution_count": 5,
   "metadata": {},
   "outputs": [],
   "source": [
    "df_result.to_csv(nomeArquivoResultado, sep = ';', index=False, encoding='UTF-8')"
   ]
  },
  {
   "cell_type": "code",
   "execution_count": 6,
   "metadata": {},
   "outputs": [
    {
     "name": "stdout",
     "output_type": "stream",
     "text": [
      "<class 'pandas.core.frame.DataFrame'>\n",
      "Index: 20 entries, S610 to T149\n",
      "Data columns (total 1 columns):\n",
      " #   Column  Non-Null Count  Dtype\n",
      "---  ------  --------------  -----\n",
      " 0   qtde    20 non-null     int64\n",
      "dtypes: int64(1)\n",
      "memory usage: 320.0+ bytes\n"
     ]
    }
   ],
   "source": [
    "#Análise dos 20 CIDs de maior incidência em 2020:\n",
    "df_cid = pd.DataFrame(df_result['cid'].value_counts())\n",
    "df_cid.rename(columns={\"id\": \"cid\", \"cid\": \"qtde\"}, inplace=True)\n",
    "df_cid_mais = df_cid.head(20).copy()\n",
    "df_cid_mais.index.name='cid'\n",
    "\n",
    "df_cid_mais.info()"
   ]
  },
  {
   "cell_type": "code",
   "execution_count": 7,
   "metadata": {},
   "outputs": [
    {
     "data": {
      "text/html": [
       "<div>\n",
       "<style scoped>\n",
       "    .dataframe tbody tr th:only-of-type {\n",
       "        vertical-align: middle;\n",
       "    }\n",
       "\n",
       "    .dataframe tbody tr th {\n",
       "        vertical-align: top;\n",
       "    }\n",
       "\n",
       "    .dataframe thead th {\n",
       "        text-align: right;\n",
       "    }\n",
       "</style>\n",
       "<table border=\"1\" class=\"dataframe\">\n",
       "  <thead>\n",
       "    <tr style=\"text-align: right;\">\n",
       "      <th></th>\n",
       "      <th>qtde</th>\n",
       "    </tr>\n",
       "    <tr>\n",
       "      <th>cid</th>\n",
       "      <th></th>\n",
       "    </tr>\n",
       "  </thead>\n",
       "  <tbody>\n",
       "    <tr>\n",
       "      <th>S610</th>\n",
       "      <td>28562</td>\n",
       "    </tr>\n",
       "    <tr>\n",
       "      <th>S934</th>\n",
       "      <td>18270</td>\n",
       "    </tr>\n",
       "    <tr>\n",
       "      <th>S626</th>\n",
       "      <td>14192</td>\n",
       "    </tr>\n",
       "    <tr>\n",
       "      <th>Z209</th>\n",
       "      <td>13619</td>\n",
       "    </tr>\n",
       "    <tr>\n",
       "      <th>S800</th>\n",
       "      <td>10052</td>\n",
       "    </tr>\n",
       "    <tr>\n",
       "      <th>S600</th>\n",
       "      <td>9401</td>\n",
       "    </tr>\n",
       "    <tr>\n",
       "      <th>S611</th>\n",
       "      <td>7656</td>\n",
       "    </tr>\n",
       "    <tr>\n",
       "      <th>S61</th>\n",
       "      <td>7567</td>\n",
       "    </tr>\n",
       "    <tr>\n",
       "      <th>S602</th>\n",
       "      <td>6822</td>\n",
       "    </tr>\n",
       "    <tr>\n",
       "      <th>T07</th>\n",
       "      <td>6339</td>\n",
       "    </tr>\n",
       "    <tr>\n",
       "      <th>S619</th>\n",
       "      <td>6257</td>\n",
       "    </tr>\n",
       "    <tr>\n",
       "      <th>S900</th>\n",
       "      <td>5433</td>\n",
       "    </tr>\n",
       "    <tr>\n",
       "      <th>M255</th>\n",
       "      <td>5409</td>\n",
       "    </tr>\n",
       "    <tr>\n",
       "      <th>M545</th>\n",
       "      <td>5240</td>\n",
       "    </tr>\n",
       "    <tr>\n",
       "      <th>S400</th>\n",
       "      <td>4763</td>\n",
       "    </tr>\n",
       "    <tr>\n",
       "      <th>S923</th>\n",
       "      <td>4540</td>\n",
       "    </tr>\n",
       "    <tr>\n",
       "      <th>S525</th>\n",
       "      <td>4419</td>\n",
       "    </tr>\n",
       "    <tr>\n",
       "      <th>S903</th>\n",
       "      <td>4164</td>\n",
       "    </tr>\n",
       "    <tr>\n",
       "      <th>S62</th>\n",
       "      <td>3913</td>\n",
       "    </tr>\n",
       "    <tr>\n",
       "      <th>T149</th>\n",
       "      <td>3691</td>\n",
       "    </tr>\n",
       "  </tbody>\n",
       "</table>\n",
       "</div>"
      ],
      "text/plain": [
       "       qtde\n",
       "cid        \n",
       "S610  28562\n",
       "S934  18270\n",
       "S626  14192\n",
       "Z209  13619\n",
       "S800  10052\n",
       "S600   9401\n",
       "S611   7656\n",
       "S61    7567\n",
       "S602   6822\n",
       "T07    6339\n",
       "S619   6257\n",
       "S900   5433\n",
       "M255   5409\n",
       "M545   5240\n",
       "S400   4763\n",
       "S923   4540\n",
       "S525   4419\n",
       "S903   4164\n",
       "S62    3913\n",
       "T149   3691"
      ]
     },
     "execution_count": 7,
     "metadata": {},
     "output_type": "execute_result"
    }
   ],
   "source": [
    "df_cid_mais.head(20)"
   ]
  },
  {
   "cell_type": "code",
   "execution_count": 8,
   "metadata": {},
   "outputs": [],
   "source": [
    "df_cid_mais.to_csv(nomeArquivoCid, sep = ';', encoding='UTF-8')"
   ]
  },
  {
   "cell_type": "code",
   "execution_count": 9,
   "metadata": {},
   "outputs": [
    {
     "data": {
      "text/plain": [
       "170309"
      ]
     },
     "execution_count": 9,
     "metadata": {},
     "output_type": "execute_result"
    }
   ],
   "source": [
    "#qtde total de casos de ocorrência no dataFrame com os 10 maiores CIDs por ordem de ocorrência em 2020:\n",
    "df_cid_mais['qtde'].sum()  #109885"
   ]
  },
  {
   "cell_type": "code",
   "execution_count": 10,
   "metadata": {},
   "outputs": [
    {
     "name": "stdout",
     "output_type": "stream",
     "text": [
      "<class 'pandas.core.frame.DataFrame'>\n",
      "Index: 27 entries, São Paulo to Amapá\n",
      "Data columns (total 1 columns):\n",
      " #   Column  Non-Null Count  Dtype\n",
      "---  ------  --------------  -----\n",
      " 0   qtde    27 non-null     int64\n",
      "dtypes: int64(1)\n",
      "memory usage: 432.0+ bytes\n"
     ]
    }
   ],
   "source": [
    "#Análise das 10 UFs de maior incidência de CAT em 2020:\n",
    "df_uf = pd.DataFrame(df_result['uf_emp'].value_counts())\n",
    "df_uf.rename(columns={\"uf_emp\": \"qtde\"}, inplace=True)\n",
    "df_uf_mais = df_uf.head(30).copy()\n",
    "df_uf_mais.index.name='uf_emp'\n",
    "df_uf_mais.info()"
   ]
  },
  {
   "cell_type": "code",
   "execution_count": 11,
   "metadata": {},
   "outputs": [
    {
     "data": {
      "text/html": [
       "<div>\n",
       "<style scoped>\n",
       "    .dataframe tbody tr th:only-of-type {\n",
       "        vertical-align: middle;\n",
       "    }\n",
       "\n",
       "    .dataframe tbody tr th {\n",
       "        vertical-align: top;\n",
       "    }\n",
       "\n",
       "    .dataframe thead th {\n",
       "        text-align: right;\n",
       "    }\n",
       "</style>\n",
       "<table border=\"1\" class=\"dataframe\">\n",
       "  <thead>\n",
       "    <tr style=\"text-align: right;\">\n",
       "      <th></th>\n",
       "      <th>qtde</th>\n",
       "    </tr>\n",
       "    <tr>\n",
       "      <th>uf_emp</th>\n",
       "      <th></th>\n",
       "    </tr>\n",
       "  </thead>\n",
       "  <tbody>\n",
       "    <tr>\n",
       "      <th>São Paulo</th>\n",
       "      <td>177201</td>\n",
       "    </tr>\n",
       "    <tr>\n",
       "      <th>Minas Gerais</th>\n",
       "      <td>48658</td>\n",
       "    </tr>\n",
       "    <tr>\n",
       "      <th>Rio Grande do Sul</th>\n",
       "      <td>38683</td>\n",
       "    </tr>\n",
       "    <tr>\n",
       "      <th>Paraná</th>\n",
       "      <td>38050</td>\n",
       "    </tr>\n",
       "    <tr>\n",
       "      <th>Rio de Janeiro</th>\n",
       "      <td>31683</td>\n",
       "    </tr>\n",
       "    <tr>\n",
       "      <th>Santa Catarina</th>\n",
       "      <td>29353</td>\n",
       "    </tr>\n",
       "    <tr>\n",
       "      <th>Goiás</th>\n",
       "      <td>13729</td>\n",
       "    </tr>\n",
       "    <tr>\n",
       "      <th>Espírito Santo</th>\n",
       "      <td>11341</td>\n",
       "    </tr>\n",
       "    <tr>\n",
       "      <th>Bahia</th>\n",
       "      <td>11059</td>\n",
       "    </tr>\n",
       "    <tr>\n",
       "      <th>Mato Grosso</th>\n",
       "      <td>10482</td>\n",
       "    </tr>\n",
       "    <tr>\n",
       "      <th>Pernambuco</th>\n",
       "      <td>9600</td>\n",
       "    </tr>\n",
       "    <tr>\n",
       "      <th>Ceará</th>\n",
       "      <td>9222</td>\n",
       "    </tr>\n",
       "    <tr>\n",
       "      <th>Mato Grosso do Sul</th>\n",
       "      <td>7586</td>\n",
       "    </tr>\n",
       "    <tr>\n",
       "      <th>Pará</th>\n",
       "      <td>7077</td>\n",
       "    </tr>\n",
       "    <tr>\n",
       "      <th>Distrito Federal</th>\n",
       "      <td>6267</td>\n",
       "    </tr>\n",
       "    <tr>\n",
       "      <th>Amazonas</th>\n",
       "      <td>4582</td>\n",
       "    </tr>\n",
       "    <tr>\n",
       "      <th>Rio Grande do Norte</th>\n",
       "      <td>3428</td>\n",
       "    </tr>\n",
       "    <tr>\n",
       "      <th>Rondônia</th>\n",
       "      <td>2903</td>\n",
       "    </tr>\n",
       "    <tr>\n",
       "      <th>Maranhão</th>\n",
       "      <td>2769</td>\n",
       "    </tr>\n",
       "    <tr>\n",
       "      <th>Alagoas</th>\n",
       "      <td>2498</td>\n",
       "    </tr>\n",
       "  </tbody>\n",
       "</table>\n",
       "</div>"
      ],
      "text/plain": [
       "                       qtde\n",
       "uf_emp                     \n",
       "São Paulo            177201\n",
       "Minas Gerais          48658\n",
       "Rio Grande do Sul     38683\n",
       "Paraná                38050\n",
       "Rio de Janeiro        31683\n",
       "Santa Catarina        29353\n",
       "Goiás                 13729\n",
       "Espírito Santo        11341\n",
       "Bahia                 11059\n",
       "Mato Grosso           10482\n",
       "Pernambuco             9600\n",
       "Ceará                  9222\n",
       "Mato Grosso do Sul     7586\n",
       "Pará                   7077\n",
       "Distrito Federal       6267\n",
       "Amazonas               4582\n",
       "Rio Grande do Norte    3428\n",
       "Rondônia               2903\n",
       "Maranhão               2769\n",
       "Alagoas                2498"
      ]
     },
     "execution_count": 11,
     "metadata": {},
     "output_type": "execute_result"
    }
   ],
   "source": [
    "df_uf_mais.head(20)"
   ]
  },
  {
   "cell_type": "code",
   "execution_count": 12,
   "metadata": {},
   "outputs": [
    {
     "data": {
      "text/plain": [
       "474047"
      ]
     },
     "execution_count": 12,
     "metadata": {},
     "output_type": "execute_result"
    }
   ],
   "source": [
    "#qtde total de casos de ocorrência no dataFrame com os 10 maiores UFs por ordem de ocorrência em 2020:\n",
    "df_uf_mais['qtde'].sum() #236188"
   ]
  },
  {
   "cell_type": "code",
   "execution_count": 13,
   "metadata": {},
   "outputs": [],
   "source": [
    "df_uf_mais.to_csv(nomeArquivoUF, sep = ';', encoding='UTF-8')"
   ]
  },
  {
   "cell_type": "code",
   "execution_count": 14,
   "metadata": {},
   "outputs": [
    {
     "name": "stdout",
     "output_type": "stream",
     "text": [
      "<class 'pandas.core.frame.DataFrame'>\n",
      "Int64Index: 20 entries, 322205 to 514225\n",
      "Data columns (total 1 columns):\n",
      " #   Column  Non-Null Count  Dtype\n",
      "---  ------  --------------  -----\n",
      " 0   qtde    20 non-null     int64\n",
      "dtypes: int64(1)\n",
      "memory usage: 320.0 bytes\n"
     ]
    }
   ],
   "source": [
    "#Análise das 20 CBOs de maior incidência de CAT em 2019:\n",
    "df_cbo = pd.DataFrame(df_result['cbo'].value_counts())\n",
    "df_cbo.rename(columns={\"cbo\": \"qtde\"}, inplace=True)\n",
    "df_cbo_mais = df_cbo.head(20).copy()\n",
    "df_cbo_mais.index.name='cbo'\n",
    "df_cbo_mais.info()"
   ]
  },
  {
   "cell_type": "code",
   "execution_count": 15,
   "metadata": {},
   "outputs": [
    {
     "data": {
      "text/html": [
       "<div>\n",
       "<style scoped>\n",
       "    .dataframe tbody tr th:only-of-type {\n",
       "        vertical-align: middle;\n",
       "    }\n",
       "\n",
       "    .dataframe tbody tr th {\n",
       "        vertical-align: top;\n",
       "    }\n",
       "\n",
       "    .dataframe thead th {\n",
       "        text-align: right;\n",
       "    }\n",
       "</style>\n",
       "<table border=\"1\" class=\"dataframe\">\n",
       "  <thead>\n",
       "    <tr style=\"text-align: right;\">\n",
       "      <th></th>\n",
       "      <th>qtde</th>\n",
       "    </tr>\n",
       "    <tr>\n",
       "      <th>cbo</th>\n",
       "      <th></th>\n",
       "    </tr>\n",
       "  </thead>\n",
       "  <tbody>\n",
       "    <tr>\n",
       "      <th>322205</th>\n",
       "      <td>30305</td>\n",
       "    </tr>\n",
       "    <tr>\n",
       "      <th>784205</th>\n",
       "      <td>27543</td>\n",
       "    </tr>\n",
       "    <tr>\n",
       "      <th>514320</th>\n",
       "      <td>18457</td>\n",
       "    </tr>\n",
       "    <tr>\n",
       "      <th>782510</th>\n",
       "      <td>11138</td>\n",
       "    </tr>\n",
       "    <tr>\n",
       "      <th>717020</th>\n",
       "      <td>9188</td>\n",
       "    </tr>\n",
       "    <tr>\n",
       "      <th>521110</th>\n",
       "      <td>7867</td>\n",
       "    </tr>\n",
       "    <tr>\n",
       "      <th>411005</th>\n",
       "      <td>7499</td>\n",
       "    </tr>\n",
       "    <tr>\n",
       "      <th>514205</th>\n",
       "      <td>7013</td>\n",
       "    </tr>\n",
       "    <tr>\n",
       "      <th>521125</th>\n",
       "      <td>6933</td>\n",
       "    </tr>\n",
       "    <tr>\n",
       "      <th>411010</th>\n",
       "      <td>6855</td>\n",
       "    </tr>\n",
       "    <tr>\n",
       "      <th>513505</th>\n",
       "      <td>6478</td>\n",
       "    </tr>\n",
       "    <tr>\n",
       "      <th>322230</th>\n",
       "      <td>6382</td>\n",
       "    </tr>\n",
       "    <tr>\n",
       "      <th>223505</th>\n",
       "      <td>6355</td>\n",
       "    </tr>\n",
       "    <tr>\n",
       "      <th>848510</th>\n",
       "      <td>5939</td>\n",
       "    </tr>\n",
       "    <tr>\n",
       "      <th>783225</th>\n",
       "      <td>5525</td>\n",
       "    </tr>\n",
       "    <tr>\n",
       "      <th>911305</th>\n",
       "      <td>5513</td>\n",
       "    </tr>\n",
       "    <tr>\n",
       "      <th>414105</th>\n",
       "      <td>5472</td>\n",
       "    </tr>\n",
       "    <tr>\n",
       "      <th>415205</th>\n",
       "      <td>5275</td>\n",
       "    </tr>\n",
       "    <tr>\n",
       "      <th>513205</th>\n",
       "      <td>5268</td>\n",
       "    </tr>\n",
       "    <tr>\n",
       "      <th>514225</th>\n",
       "      <td>4987</td>\n",
       "    </tr>\n",
       "  </tbody>\n",
       "</table>\n",
       "</div>"
      ],
      "text/plain": [
       "         qtde\n",
       "cbo          \n",
       "322205  30305\n",
       "784205  27543\n",
       "514320  18457\n",
       "782510  11138\n",
       "717020   9188\n",
       "521110   7867\n",
       "411005   7499\n",
       "514205   7013\n",
       "521125   6933\n",
       "411010   6855\n",
       "513505   6478\n",
       "322230   6382\n",
       "223505   6355\n",
       "848510   5939\n",
       "783225   5525\n",
       "911305   5513\n",
       "414105   5472\n",
       "415205   5275\n",
       "513205   5268\n",
       "514225   4987"
      ]
     },
     "execution_count": 15,
     "metadata": {},
     "output_type": "execute_result"
    }
   ],
   "source": [
    "df_cbo_mais.head(20)"
   ]
  },
  {
   "cell_type": "code",
   "execution_count": 16,
   "metadata": {},
   "outputs": [
    {
     "data": {
      "text/plain": [
       "189992"
      ]
     },
     "execution_count": 16,
     "metadata": {},
     "output_type": "execute_result"
    }
   ],
   "source": [
    "#qtde total de casos de ocorrência no dataFrame com os 20 maiores CBOs por ordem de ocorrência em 2020:\n",
    "df_cbo_mais['qtde'].sum() #86776"
   ]
  },
  {
   "cell_type": "code",
   "execution_count": 17,
   "metadata": {},
   "outputs": [],
   "source": [
    "df_cbo_mais.to_csv(nomeArquivoCBO, sep = ';', encoding='UTF-8')"
   ]
  },
  {
   "cell_type": "code",
   "execution_count": 18,
   "metadata": {},
   "outputs": [
    {
     "data": {
      "text/html": [
       "<div>\n",
       "<style scoped>\n",
       "    .dataframe tbody tr th:only-of-type {\n",
       "        vertical-align: middle;\n",
       "    }\n",
       "\n",
       "    .dataframe tbody tr th {\n",
       "        vertical-align: top;\n",
       "    }\n",
       "\n",
       "    .dataframe thead th {\n",
       "        text-align: right;\n",
       "    }\n",
       "</style>\n",
       "<table border=\"1\" class=\"dataframe\">\n",
       "  <thead>\n",
       "    <tr style=\"text-align: right;\">\n",
       "      <th></th>\n",
       "      <th>qtde</th>\n",
       "    </tr>\n",
       "    <tr>\n",
       "      <th>anoMes</th>\n",
       "      <th></th>\n",
       "    </tr>\n",
       "  </thead>\n",
       "  <tbody>\n",
       "    <tr>\n",
       "      <th>201910</th>\n",
       "      <td>45389</td>\n",
       "    </tr>\n",
       "    <tr>\n",
       "      <th>201905</th>\n",
       "      <td>43669</td>\n",
       "    </tr>\n",
       "    <tr>\n",
       "      <th>201908</th>\n",
       "      <td>43486</td>\n",
       "    </tr>\n",
       "    <tr>\n",
       "      <th>201907</th>\n",
       "      <td>43215</td>\n",
       "    </tr>\n",
       "    <tr>\n",
       "      <th>201904</th>\n",
       "      <td>41455</td>\n",
       "    </tr>\n",
       "    <tr>\n",
       "      <th>201901</th>\n",
       "      <td>41446</td>\n",
       "    </tr>\n",
       "    <tr>\n",
       "      <th>201909</th>\n",
       "      <td>41444</td>\n",
       "    </tr>\n",
       "    <tr>\n",
       "      <th>201902</th>\n",
       "      <td>39695</td>\n",
       "    </tr>\n",
       "    <tr>\n",
       "      <th>201903</th>\n",
       "      <td>39157</td>\n",
       "    </tr>\n",
       "    <tr>\n",
       "      <th>201906</th>\n",
       "      <td>37708</td>\n",
       "    </tr>\n",
       "    <tr>\n",
       "      <th>201911</th>\n",
       "      <td>34017</td>\n",
       "    </tr>\n",
       "    <tr>\n",
       "      <th>201912</th>\n",
       "      <td>23366</td>\n",
       "    </tr>\n",
       "  </tbody>\n",
       "</table>\n",
       "</div>"
      ],
      "text/plain": [
       "         qtde\n",
       "anoMes       \n",
       "201910  45389\n",
       "201905  43669\n",
       "201908  43486\n",
       "201907  43215\n",
       "201904  41455\n",
       "201901  41446\n",
       "201909  41444\n",
       "201902  39695\n",
       "201903  39157\n",
       "201906  37708\n",
       "201911  34017\n",
       "201912  23366"
      ]
     },
     "execution_count": 18,
     "metadata": {},
     "output_type": "execute_result"
    }
   ],
   "source": [
    "#Análise da incidência dos acidentes em meses de 2020:\n",
    "df_mes = pd.DataFrame(df_result['anoMes'].value_counts())\n",
    "df_mes.rename(columns={\"anoMes\": \"qtde\"}, inplace=True)\n",
    "df_mes_mais = df_mes.head(12).copy()\n",
    "df_mes_mais.index.name='anoMes'\n",
    "\n",
    "df_mes_mais.head(12)"
   ]
  },
  {
   "cell_type": "code",
   "execution_count": 19,
   "metadata": {},
   "outputs": [],
   "source": [
    "df_mes_mais.to_csv(nomeArquivoAnoMes, sep = ';', encoding='UTF-8')"
   ]
  },
  {
   "cell_type": "code",
   "execution_count": 20,
   "metadata": {},
   "outputs": [
    {
     "name": "stdout",
     "output_type": "stream",
     "text": [
      "<class 'pandas.core.frame.DataFrame'>\n",
      "Int64Index: 20 entries, 8610 to 4921\n",
      "Data columns (total 1 columns):\n",
      " #   Column  Non-Null Count  Dtype\n",
      "---  ------  --------------  -----\n",
      " 0   qtde    20 non-null     int64\n",
      "dtypes: int64(1)\n",
      "memory usage: 320.0 bytes\n"
     ]
    }
   ],
   "source": [
    "#Análise da incidência dos acidentes por CNAE:\n",
    "df_cnae = pd.DataFrame(df_result['cnae'].value_counts())\n",
    "df_cnae.rename(columns={\"cnae\": \"qtde\"}, inplace=True)\n",
    "\n",
    "df_cnae_mais = df_cnae.head(20).copy()\n",
    "df_cnae_mais.index.name='cnae'\n",
    "\n",
    "df_cnae_mais.info()"
   ]
  },
  {
   "cell_type": "code",
   "execution_count": 21,
   "metadata": {},
   "outputs": [
    {
     "data": {
      "text/html": [
       "<div>\n",
       "<style scoped>\n",
       "    .dataframe tbody tr th:only-of-type {\n",
       "        vertical-align: middle;\n",
       "    }\n",
       "\n",
       "    .dataframe tbody tr th {\n",
       "        vertical-align: top;\n",
       "    }\n",
       "\n",
       "    .dataframe thead th {\n",
       "        text-align: right;\n",
       "    }\n",
       "</style>\n",
       "<table border=\"1\" class=\"dataframe\">\n",
       "  <thead>\n",
       "    <tr style=\"text-align: right;\">\n",
       "      <th></th>\n",
       "      <th>qtde</th>\n",
       "    </tr>\n",
       "    <tr>\n",
       "      <th>cnae</th>\n",
       "      <th></th>\n",
       "    </tr>\n",
       "  </thead>\n",
       "  <tbody>\n",
       "    <tr>\n",
       "      <th>8610</th>\n",
       "      <td>51298</td>\n",
       "    </tr>\n",
       "    <tr>\n",
       "      <th>4711</th>\n",
       "      <td>19683</td>\n",
       "    </tr>\n",
       "    <tr>\n",
       "      <th>4930</th>\n",
       "      <td>12381</td>\n",
       "    </tr>\n",
       "    <tr>\n",
       "      <th>8411</th>\n",
       "      <td>12130</td>\n",
       "    </tr>\n",
       "    <tr>\n",
       "      <th>1012</th>\n",
       "      <td>10618</td>\n",
       "    </tr>\n",
       "    <tr>\n",
       "      <th>5611</th>\n",
       "      <td>9670</td>\n",
       "    </tr>\n",
       "    <tr>\n",
       "      <th>4120</th>\n",
       "      <td>8460</td>\n",
       "    </tr>\n",
       "    <tr>\n",
       "      <th>3811</th>\n",
       "      <td>7300</td>\n",
       "    </tr>\n",
       "    <tr>\n",
       "      <th>5310</th>\n",
       "      <td>7174</td>\n",
       "    </tr>\n",
       "    <tr>\n",
       "      <th>1011</th>\n",
       "      <td>6854</td>\n",
       "    </tr>\n",
       "    <tr>\n",
       "      <th>8121</th>\n",
       "      <td>5838</td>\n",
       "    </tr>\n",
       "    <tr>\n",
       "      <th>5620</th>\n",
       "      <td>5178</td>\n",
       "    </tr>\n",
       "    <tr>\n",
       "      <th>8630</th>\n",
       "      <td>5024</td>\n",
       "    </tr>\n",
       "    <tr>\n",
       "      <th>4744</th>\n",
       "      <td>4988</td>\n",
       "    </tr>\n",
       "    <tr>\n",
       "      <th>8640</th>\n",
       "      <td>4970</td>\n",
       "    </tr>\n",
       "    <tr>\n",
       "      <th>1071</th>\n",
       "      <td>4368</td>\n",
       "    </tr>\n",
       "    <tr>\n",
       "      <th>7820</th>\n",
       "      <td>4221</td>\n",
       "    </tr>\n",
       "    <tr>\n",
       "      <th>4530</th>\n",
       "      <td>3812</td>\n",
       "    </tr>\n",
       "    <tr>\n",
       "      <th>4221</th>\n",
       "      <td>3484</td>\n",
       "    </tr>\n",
       "    <tr>\n",
       "      <th>4921</th>\n",
       "      <td>3348</td>\n",
       "    </tr>\n",
       "  </tbody>\n",
       "</table>\n",
       "</div>"
      ],
      "text/plain": [
       "       qtde\n",
       "cnae       \n",
       "8610  51298\n",
       "4711  19683\n",
       "4930  12381\n",
       "8411  12130\n",
       "1012  10618\n",
       "5611   9670\n",
       "4120   8460\n",
       "3811   7300\n",
       "5310   7174\n",
       "1011   6854\n",
       "8121   5838\n",
       "5620   5178\n",
       "8630   5024\n",
       "4744   4988\n",
       "8640   4970\n",
       "1071   4368\n",
       "7820   4221\n",
       "4530   3812\n",
       "4221   3484\n",
       "4921   3348"
      ]
     },
     "execution_count": 21,
     "metadata": {},
     "output_type": "execute_result"
    }
   ],
   "source": [
    "df_cnae_mais.head(20)"
   ]
  },
  {
   "cell_type": "code",
   "execution_count": 22,
   "metadata": {},
   "outputs": [
    {
     "data": {
      "text/plain": [
       "190799"
      ]
     },
     "execution_count": 22,
     "metadata": {},
     "output_type": "execute_result"
    }
   ],
   "source": [
    "#qtde total de casos de ocorrência no dataFrame com os 20 maiores CNAEs por ordem de ocorrência em 2019:\n",
    "df_cnae_mais['qtde'].sum() #"
   ]
  },
  {
   "cell_type": "code",
   "execution_count": 23,
   "metadata": {},
   "outputs": [],
   "source": [
    "df_cnae_mais.to_csv(nomeArquivoCNAE, sep = ';', encoding='UTF-8')"
   ]
  },
  {
   "cell_type": "code",
   "execution_count": 24,
   "metadata": {},
   "outputs": [
    {
     "name": "stdout",
     "output_type": "stream",
     "text": [
      "<class 'pandas.core.frame.DataFrame'>\n",
      "Index: 20 entries, Dedo to Cabeca, Partes Multi\n",
      "Data columns (total 1 columns):\n",
      " #   Column  Non-Null Count  Dtype\n",
      "---  ------  --------------  -----\n",
      " 0   qtde    20 non-null     int64\n",
      "dtypes: int64(1)\n",
      "memory usage: 320.0+ bytes\n"
     ]
    }
   ],
   "source": [
    "#Análise da incidência dos acidentes por parte do corpo atingida:\n",
    "df_parte = pd.DataFrame(df_result['parte'].value_counts())\n",
    "df_parte.rename(columns={\"parte\": \"qtde\"}, inplace=True)\n",
    "\n",
    "df_parte_mais = df_parte.head(20).copy()\n",
    "df_parte_mais.index.name='parte'\n",
    "\n",
    "df_parte_mais.info()"
   ]
  },
  {
   "cell_type": "code",
   "execution_count": 25,
   "metadata": {},
   "outputs": [
    {
     "data": {
      "text/html": [
       "<div>\n",
       "<style scoped>\n",
       "    .dataframe tbody tr th:only-of-type {\n",
       "        vertical-align: middle;\n",
       "    }\n",
       "\n",
       "    .dataframe tbody tr th {\n",
       "        vertical-align: top;\n",
       "    }\n",
       "\n",
       "    .dataframe thead th {\n",
       "        text-align: right;\n",
       "    }\n",
       "</style>\n",
       "<table border=\"1\" class=\"dataframe\">\n",
       "  <thead>\n",
       "    <tr style=\"text-align: right;\">\n",
       "      <th></th>\n",
       "      <th>qtde</th>\n",
       "    </tr>\n",
       "    <tr>\n",
       "      <th>parte</th>\n",
       "      <th></th>\n",
       "    </tr>\n",
       "  </thead>\n",
       "  <tbody>\n",
       "    <tr>\n",
       "      <th>Dedo</th>\n",
       "      <td>113138</td>\n",
       "    </tr>\n",
       "    <tr>\n",
       "      <th>Pe (Exceto Artelhos)</th>\n",
       "      <td>39635</td>\n",
       "    </tr>\n",
       "    <tr>\n",
       "      <th>Mao (Exceto Punho ou</th>\n",
       "      <td>35182</td>\n",
       "    </tr>\n",
       "    <tr>\n",
       "      <th>Joelho</th>\n",
       "      <td>24534</td>\n",
       "    </tr>\n",
       "    <tr>\n",
       "      <th>Partes Multiplas - A</th>\n",
       "      <td>22293</td>\n",
       "    </tr>\n",
       "    <tr>\n",
       "      <th>Articulacao do Torno</th>\n",
       "      <td>19662</td>\n",
       "    </tr>\n",
       "    <tr>\n",
       "      <th>Perna (Do Tornozelo,</th>\n",
       "      <td>17311</td>\n",
       "    </tr>\n",
       "    <tr>\n",
       "      <th>Antebraco (Entre O P</th>\n",
       "      <td>15816</td>\n",
       "    </tr>\n",
       "    <tr>\n",
       "      <th>Perna (Entre O Torno</th>\n",
       "      <td>15600</td>\n",
       "    </tr>\n",
       "    <tr>\n",
       "      <th>Ombro</th>\n",
       "      <td>15201</td>\n",
       "    </tr>\n",
       "    <tr>\n",
       "      <th>Braco (Entre O Punho</th>\n",
       "      <td>15093</td>\n",
       "    </tr>\n",
       "    <tr>\n",
       "      <th>Olho (Inclusive Nerv</th>\n",
       "      <td>14648</td>\n",
       "    </tr>\n",
       "    <tr>\n",
       "      <th>Cabeca, Nic</th>\n",
       "      <td>14107</td>\n",
       "    </tr>\n",
       "    <tr>\n",
       "      <th>Dorso (Inclusive Mus</th>\n",
       "      <td>12931</td>\n",
       "    </tr>\n",
       "    <tr>\n",
       "      <th>Membros Superiores,</th>\n",
       "      <td>12674</td>\n",
       "    </tr>\n",
       "    <tr>\n",
       "      <th>Membros Inferiores,</th>\n",
       "      <td>11060</td>\n",
       "    </tr>\n",
       "    <tr>\n",
       "      <th>Punho</th>\n",
       "      <td>11052</td>\n",
       "    </tr>\n",
       "    <tr>\n",
       "      <th>Face, Partes Multipl</th>\n",
       "      <td>7821</td>\n",
       "    </tr>\n",
       "    <tr>\n",
       "      <th>Sistema Nervoso</th>\n",
       "      <td>6081</td>\n",
       "    </tr>\n",
       "    <tr>\n",
       "      <th>Cabeca, Partes Multi</th>\n",
       "      <td>5696</td>\n",
       "    </tr>\n",
       "  </tbody>\n",
       "</table>\n",
       "</div>"
      ],
      "text/plain": [
       "                        qtde\n",
       "parte                       \n",
       "Dedo                  113138\n",
       "Pe (Exceto Artelhos)   39635\n",
       "Mao (Exceto Punho ou   35182\n",
       "Joelho                 24534\n",
       "Partes Multiplas - A   22293\n",
       "Articulacao do Torno   19662\n",
       "Perna (Do Tornozelo,   17311\n",
       "Antebraco (Entre O P   15816\n",
       "Perna (Entre O Torno   15600\n",
       "Ombro                  15201\n",
       "Braco (Entre O Punho   15093\n",
       "Olho (Inclusive Nerv   14648\n",
       "Cabeca, Nic            14107\n",
       "Dorso (Inclusive Mus   12931\n",
       "Membros Superiores,    12674\n",
       "Membros Inferiores,    11060\n",
       "Punho                  11052\n",
       "Face, Partes Multipl    7821\n",
       "Sistema Nervoso         6081\n",
       "Cabeca, Partes Multi    5696"
      ]
     },
     "execution_count": 25,
     "metadata": {},
     "output_type": "execute_result"
    }
   ],
   "source": [
    "df_parte_mais.head(20)"
   ]
  },
  {
   "cell_type": "code",
   "execution_count": 26,
   "metadata": {},
   "outputs": [
    {
     "data": {
      "text/plain": [
       "429535"
      ]
     },
     "execution_count": 26,
     "metadata": {},
     "output_type": "execute_result"
    }
   ],
   "source": [
    "#qtde total de casos de ocorrência no dataFrame com os 20 maiores CNAEs por ordem de ocorrência em 201920:\n",
    "df_parte_mais['qtde'].sum() #"
   ]
  },
  {
   "cell_type": "code",
   "execution_count": 27,
   "metadata": {},
   "outputs": [],
   "source": [
    "df_parte_mais.to_csv(nomeArquivoParte, sep = ';', encoding='UTF-8')"
   ]
  },
  {
   "cell_type": "code",
   "execution_count": 28,
   "metadata": {},
   "outputs": [
    {
     "name": "stdout",
     "output_type": "stream",
     "text": [
      "<class 'pandas.core.frame.DataFrame'>\n",
      "Index: 4 entries, Masculino to Indeterminado\n",
      "Data columns (total 1 columns):\n",
      " #   Column  Non-Null Count  Dtype\n",
      "---  ------  --------------  -----\n",
      " 0   qtde    4 non-null      int64\n",
      "dtypes: int64(1)\n",
      "memory usage: 64.0+ bytes\n"
     ]
    }
   ],
   "source": [
    "#Análise da incidência dos acidentes, separados por sexo (M ou F):\n",
    "df_sexo = pd.DataFrame(df_result['sexo'].value_counts())\n",
    "df_sexo.rename(columns={\"sexo\": \"qtde\"}, inplace=True)\n",
    "\n",
    "df_sexo_mais = df_sexo.head(5).copy()  # pode haver alguma opção para 'não informado'\n",
    "df_sexo_mais.index.name='sexo'\n",
    "\n",
    "df_sexo_mais.info()"
   ]
  },
  {
   "cell_type": "code",
   "execution_count": 29,
   "metadata": {},
   "outputs": [
    {
     "data": {
      "text/html": [
       "<div>\n",
       "<style scoped>\n",
       "    .dataframe tbody tr th:only-of-type {\n",
       "        vertical-align: middle;\n",
       "    }\n",
       "\n",
       "    .dataframe tbody tr th {\n",
       "        vertical-align: top;\n",
       "    }\n",
       "\n",
       "    .dataframe thead th {\n",
       "        text-align: right;\n",
       "    }\n",
       "</style>\n",
       "<table border=\"1\" class=\"dataframe\">\n",
       "  <thead>\n",
       "    <tr style=\"text-align: right;\">\n",
       "      <th></th>\n",
       "      <th>qtde</th>\n",
       "    </tr>\n",
       "    <tr>\n",
       "      <th>sexo</th>\n",
       "      <th></th>\n",
       "    </tr>\n",
       "  </thead>\n",
       "  <tbody>\n",
       "    <tr>\n",
       "      <th>Masculino</th>\n",
       "      <td>315270</td>\n",
       "    </tr>\n",
       "    <tr>\n",
       "      <th>Feminino</th>\n",
       "      <td>158653</td>\n",
       "    </tr>\n",
       "    <tr>\n",
       "      <th>Não Informado</th>\n",
       "      <td>115</td>\n",
       "    </tr>\n",
       "    <tr>\n",
       "      <th>Indeterminado</th>\n",
       "      <td>9</td>\n",
       "    </tr>\n",
       "  </tbody>\n",
       "</table>\n",
       "</div>"
      ],
      "text/plain": [
       "                 qtde\n",
       "sexo                 \n",
       "Masculino      315270\n",
       "Feminino       158653\n",
       "Não Informado     115\n",
       "Indeterminado       9"
      ]
     },
     "execution_count": 29,
     "metadata": {},
     "output_type": "execute_result"
    }
   ],
   "source": [
    "df_sexo_mais.head()"
   ]
  },
  {
   "cell_type": "code",
   "execution_count": 30,
   "metadata": {},
   "outputs": [
    {
     "data": {
      "text/plain": [
       "474047"
      ]
     },
     "execution_count": 30,
     "metadata": {},
     "output_type": "execute_result"
    }
   ],
   "source": [
    "#qtde total de casos de ocorrência no dataFrame com os 20 maiores CNAEs por ordem de ocorrência em 2019:\n",
    "df_sexo_mais['qtde'].sum() #"
   ]
  },
  {
   "cell_type": "code",
   "execution_count": 31,
   "metadata": {},
   "outputs": [],
   "source": [
    "df_sexo_mais.to_csv(nomeArquivoSexo, sep = ';', encoding='UTF-8')"
   ]
  },
  {
   "cell_type": "code",
   "execution_count": 32,
   "metadata": {},
   "outputs": [
    {
     "data": {
      "text/plain": [
       "10"
      ]
     },
     "execution_count": 32,
     "metadata": {},
     "output_type": "execute_result"
    }
   ],
   "source": [
    "df_result['idade'].min() #10 ???"
   ]
  },
  {
   "cell_type": "code",
   "execution_count": 33,
   "metadata": {},
   "outputs": [
    {
     "data": {
      "text/plain": [
       "1"
      ]
     },
     "execution_count": 33,
     "metadata": {},
     "output_type": "execute_result"
    }
   ],
   "source": [
    "selecao = df_result['idade'] < 14 # idade mínima para jovem aprendiz é de 14 anos, porém foi encontrado 1 registro < 14\n",
    "df_min = df_result[selecao]\n",
    "df_min.head(10)\n",
    "df_min.shape[0]   # <=20 -> 9024    <=14 -> 2    <= 15 -> 7"
   ]
  },
  {
   "cell_type": "code",
   "execution_count": 34,
   "metadata": {},
   "outputs": [
    {
     "data": {
      "text/plain": [
       "97"
      ]
     },
     "execution_count": 34,
     "metadata": {},
     "output_type": "execute_result"
    }
   ],
   "source": [
    "df_result['idade'].max()  #86"
   ]
  },
  {
   "cell_type": "code",
   "execution_count": 35,
   "metadata": {},
   "outputs": [],
   "source": [
    "classes = [13, 19, 24, 29, 34, 39, 44, 49, 54, 59, 64, 69, 100]\n",
    "faixas = pd.cut(df_result.idade, classes)"
   ]
  },
  {
   "cell_type": "code",
   "execution_count": 36,
   "metadata": {},
   "outputs": [
    {
     "data": {
      "text/plain": [
       "(29, 34]     77052\n",
       "(24, 29]     75417\n",
       "(34, 39]     75188\n",
       "(39, 44]     62465\n",
       "(19, 24]     57960\n",
       "(44, 49]     46530\n",
       "(49, 54]     35726\n",
       "(54, 59]     24362\n",
       "(59, 64]     11759\n",
       "(64, 69]      3951\n",
       "(13, 19]      2326\n",
       "(69, 100]     1310\n",
       "Name: idade, dtype: int64"
      ]
     },
     "execution_count": 36,
     "metadata": {},
     "output_type": "execute_result"
    }
   ],
   "source": [
    "pd.value_counts(faixas)"
   ]
  },
  {
   "cell_type": "code",
   "execution_count": 37,
   "metadata": {},
   "outputs": [
    {
     "data": {
      "text/plain": [
       "30 a 34 anos:     77052\n",
       "25 a 29 anos:     75417\n",
       "35 a 39 anos:     75188\n",
       "40 a 44 anos:     62465\n",
       "20 a 24 anos:     57960\n",
       "45 a 49 anos:     46530\n",
       "50 a 54 anos:     35726\n",
       "55 a 59 anos:     24362\n",
       "60 a 64 anos:     11759\n",
       "65 a 69 anos:      3951\n",
       "14 a 19 anos:      2326\n",
       "70 a 100 anos:     1310\n",
       "Name: idade, dtype: int64"
      ]
     },
     "execution_count": 37,
     "metadata": {},
     "output_type": "execute_result"
    }
   ],
   "source": [
    "labels = ['14 a 19 anos: ', '20 a 24 anos:', '25 a 29 anos:', '30 a 34 anos:', '35 a 39 anos:', '40 a 44 anos:', \n",
    "          '45 a 49 anos:', '50 a 54 anos:', '55 a 59 anos:', '60 a 64 anos:', '65 a 69 anos:', '70 a 100 anos:']\n",
    "faixas_labels = pd.cut(df_result.idade, classes, labels = labels)\n",
    "pd.value_counts(faixas_labels)"
   ]
  },
  {
   "cell_type": "code",
   "execution_count": 38,
   "metadata": {},
   "outputs": [],
   "source": [
    "df_faixasEtarias = pd.DataFrame(pd.value_counts(faixas_labels))\n"
   ]
  },
  {
   "cell_type": "code",
   "execution_count": 39,
   "metadata": {},
   "outputs": [
    {
     "data": {
      "text/html": [
       "<div>\n",
       "<style scoped>\n",
       "    .dataframe tbody tr th:only-of-type {\n",
       "        vertical-align: middle;\n",
       "    }\n",
       "\n",
       "    .dataframe tbody tr th {\n",
       "        vertical-align: top;\n",
       "    }\n",
       "\n",
       "    .dataframe thead th {\n",
       "        text-align: right;\n",
       "    }\n",
       "</style>\n",
       "<table border=\"1\" class=\"dataframe\">\n",
       "  <thead>\n",
       "    <tr style=\"text-align: right;\">\n",
       "      <th></th>\n",
       "      <th>idade</th>\n",
       "    </tr>\n",
       "  </thead>\n",
       "  <tbody>\n",
       "    <tr>\n",
       "      <th>30 a 34 anos:</th>\n",
       "      <td>77052</td>\n",
       "    </tr>\n",
       "    <tr>\n",
       "      <th>25 a 29 anos:</th>\n",
       "      <td>75417</td>\n",
       "    </tr>\n",
       "    <tr>\n",
       "      <th>35 a 39 anos:</th>\n",
       "      <td>75188</td>\n",
       "    </tr>\n",
       "    <tr>\n",
       "      <th>40 a 44 anos:</th>\n",
       "      <td>62465</td>\n",
       "    </tr>\n",
       "    <tr>\n",
       "      <th>20 a 24 anos:</th>\n",
       "      <td>57960</td>\n",
       "    </tr>\n",
       "    <tr>\n",
       "      <th>45 a 49 anos:</th>\n",
       "      <td>46530</td>\n",
       "    </tr>\n",
       "    <tr>\n",
       "      <th>50 a 54 anos:</th>\n",
       "      <td>35726</td>\n",
       "    </tr>\n",
       "    <tr>\n",
       "      <th>55 a 59 anos:</th>\n",
       "      <td>24362</td>\n",
       "    </tr>\n",
       "    <tr>\n",
       "      <th>60 a 64 anos:</th>\n",
       "      <td>11759</td>\n",
       "    </tr>\n",
       "    <tr>\n",
       "      <th>65 a 69 anos:</th>\n",
       "      <td>3951</td>\n",
       "    </tr>\n",
       "  </tbody>\n",
       "</table>\n",
       "</div>"
      ],
      "text/plain": [
       "               idade\n",
       "30 a 34 anos:  77052\n",
       "25 a 29 anos:  75417\n",
       "35 a 39 anos:  75188\n",
       "40 a 44 anos:  62465\n",
       "20 a 24 anos:  57960\n",
       "45 a 49 anos:  46530\n",
       "50 a 54 anos:  35726\n",
       "55 a 59 anos:  24362\n",
       "60 a 64 anos:  11759\n",
       "65 a 69 anos:   3951"
      ]
     },
     "execution_count": 39,
     "metadata": {},
     "output_type": "execute_result"
    }
   ],
   "source": [
    "df_faixasEtarias.head(10)"
   ]
  },
  {
   "cell_type": "code",
   "execution_count": 40,
   "metadata": {},
   "outputs": [],
   "source": [
    "df_faixasEtarias['desc_faixa'] = df_faixasEtarias.index"
   ]
  },
  {
   "cell_type": "code",
   "execution_count": 41,
   "metadata": {},
   "outputs": [
    {
     "data": {
      "text/html": [
       "<div>\n",
       "<style scoped>\n",
       "    .dataframe tbody tr th:only-of-type {\n",
       "        vertical-align: middle;\n",
       "    }\n",
       "\n",
       "    .dataframe tbody tr th {\n",
       "        vertical-align: top;\n",
       "    }\n",
       "\n",
       "    .dataframe thead th {\n",
       "        text-align: right;\n",
       "    }\n",
       "</style>\n",
       "<table border=\"1\" class=\"dataframe\">\n",
       "  <thead>\n",
       "    <tr style=\"text-align: right;\">\n",
       "      <th></th>\n",
       "      <th>idade</th>\n",
       "      <th>desc_faixa</th>\n",
       "    </tr>\n",
       "  </thead>\n",
       "  <tbody>\n",
       "    <tr>\n",
       "      <th>30 a 34 anos:</th>\n",
       "      <td>77052</td>\n",
       "      <td>30 a 34 anos:</td>\n",
       "    </tr>\n",
       "    <tr>\n",
       "      <th>25 a 29 anos:</th>\n",
       "      <td>75417</td>\n",
       "      <td>25 a 29 anos:</td>\n",
       "    </tr>\n",
       "    <tr>\n",
       "      <th>35 a 39 anos:</th>\n",
       "      <td>75188</td>\n",
       "      <td>35 a 39 anos:</td>\n",
       "    </tr>\n",
       "    <tr>\n",
       "      <th>40 a 44 anos:</th>\n",
       "      <td>62465</td>\n",
       "      <td>40 a 44 anos:</td>\n",
       "    </tr>\n",
       "    <tr>\n",
       "      <th>20 a 24 anos:</th>\n",
       "      <td>57960</td>\n",
       "      <td>20 a 24 anos:</td>\n",
       "    </tr>\n",
       "    <tr>\n",
       "      <th>45 a 49 anos:</th>\n",
       "      <td>46530</td>\n",
       "      <td>45 a 49 anos:</td>\n",
       "    </tr>\n",
       "    <tr>\n",
       "      <th>50 a 54 anos:</th>\n",
       "      <td>35726</td>\n",
       "      <td>50 a 54 anos:</td>\n",
       "    </tr>\n",
       "    <tr>\n",
       "      <th>55 a 59 anos:</th>\n",
       "      <td>24362</td>\n",
       "      <td>55 a 59 anos:</td>\n",
       "    </tr>\n",
       "    <tr>\n",
       "      <th>60 a 64 anos:</th>\n",
       "      <td>11759</td>\n",
       "      <td>60 a 64 anos:</td>\n",
       "    </tr>\n",
       "    <tr>\n",
       "      <th>65 a 69 anos:</th>\n",
       "      <td>3951</td>\n",
       "      <td>65 a 69 anos:</td>\n",
       "    </tr>\n",
       "  </tbody>\n",
       "</table>\n",
       "</div>"
      ],
      "text/plain": [
       "               idade     desc_faixa\n",
       "30 a 34 anos:  77052  30 a 34 anos:\n",
       "25 a 29 anos:  75417  25 a 29 anos:\n",
       "35 a 39 anos:  75188  35 a 39 anos:\n",
       "40 a 44 anos:  62465  40 a 44 anos:\n",
       "20 a 24 anos:  57960  20 a 24 anos:\n",
       "45 a 49 anos:  46530  45 a 49 anos:\n",
       "50 a 54 anos:  35726  50 a 54 anos:\n",
       "55 a 59 anos:  24362  55 a 59 anos:\n",
       "60 a 64 anos:  11759  60 a 64 anos:\n",
       "65 a 69 anos:   3951  65 a 69 anos:"
      ]
     },
     "execution_count": 41,
     "metadata": {},
     "output_type": "execute_result"
    }
   ],
   "source": [
    "df_faixasEtarias.head(10)"
   ]
  },
  {
   "cell_type": "code",
   "execution_count": 42,
   "metadata": {},
   "outputs": [
    {
     "data": {
      "text/html": [
       "<div>\n",
       "<style scoped>\n",
       "    .dataframe tbody tr th:only-of-type {\n",
       "        vertical-align: middle;\n",
       "    }\n",
       "\n",
       "    .dataframe tbody tr th {\n",
       "        vertical-align: top;\n",
       "    }\n",
       "\n",
       "    .dataframe thead th {\n",
       "        text-align: right;\n",
       "    }\n",
       "</style>\n",
       "<table border=\"1\" class=\"dataframe\">\n",
       "  <thead>\n",
       "    <tr style=\"text-align: right;\">\n",
       "      <th></th>\n",
       "      <th>qtde</th>\n",
       "      <th>desc_faixa</th>\n",
       "    </tr>\n",
       "    <tr>\n",
       "      <th>id</th>\n",
       "      <th></th>\n",
       "      <th></th>\n",
       "    </tr>\n",
       "  </thead>\n",
       "  <tbody>\n",
       "    <tr>\n",
       "      <th>0</th>\n",
       "      <td>77052</td>\n",
       "      <td>30 a 34 anos:</td>\n",
       "    </tr>\n",
       "    <tr>\n",
       "      <th>1</th>\n",
       "      <td>75417</td>\n",
       "      <td>25 a 29 anos:</td>\n",
       "    </tr>\n",
       "    <tr>\n",
       "      <th>2</th>\n",
       "      <td>75188</td>\n",
       "      <td>35 a 39 anos:</td>\n",
       "    </tr>\n",
       "    <tr>\n",
       "      <th>3</th>\n",
       "      <td>62465</td>\n",
       "      <td>40 a 44 anos:</td>\n",
       "    </tr>\n",
       "    <tr>\n",
       "      <th>4</th>\n",
       "      <td>57960</td>\n",
       "      <td>20 a 24 anos:</td>\n",
       "    </tr>\n",
       "    <tr>\n",
       "      <th>5</th>\n",
       "      <td>46530</td>\n",
       "      <td>45 a 49 anos:</td>\n",
       "    </tr>\n",
       "    <tr>\n",
       "      <th>6</th>\n",
       "      <td>35726</td>\n",
       "      <td>50 a 54 anos:</td>\n",
       "    </tr>\n",
       "    <tr>\n",
       "      <th>7</th>\n",
       "      <td>24362</td>\n",
       "      <td>55 a 59 anos:</td>\n",
       "    </tr>\n",
       "    <tr>\n",
       "      <th>8</th>\n",
       "      <td>11759</td>\n",
       "      <td>60 a 64 anos:</td>\n",
       "    </tr>\n",
       "    <tr>\n",
       "      <th>9</th>\n",
       "      <td>3951</td>\n",
       "      <td>65 a 69 anos:</td>\n",
       "    </tr>\n",
       "  </tbody>\n",
       "</table>\n",
       "</div>"
      ],
      "text/plain": [
       "     qtde     desc_faixa\n",
       "id                      \n",
       "0   77052  30 a 34 anos:\n",
       "1   75417  25 a 29 anos:\n",
       "2   75188  35 a 39 anos:\n",
       "3   62465  40 a 44 anos:\n",
       "4   57960  20 a 24 anos:\n",
       "5   46530  45 a 49 anos:\n",
       "6   35726  50 a 54 anos:\n",
       "7   24362  55 a 59 anos:\n",
       "8   11759  60 a 64 anos:\n",
       "9    3951  65 a 69 anos:"
      ]
     },
     "execution_count": 42,
     "metadata": {},
     "output_type": "execute_result"
    }
   ],
   "source": [
    "df_faixasEtarias.index = range(df_faixasEtarias.shape[0])\n",
    "df_faixasEtarias.index.name = 'id'\n",
    "df_faixasEtarias.rename(columns={\"idade\": \"qtde\"}, inplace=True)\n",
    "df_faixasEtarias.head(10)"
   ]
  },
  {
   "cell_type": "code",
   "execution_count": 43,
   "metadata": {},
   "outputs": [
    {
     "data": {
      "text/plain": [
       "474046"
      ]
     },
     "execution_count": 43,
     "metadata": {},
     "output_type": "execute_result"
    }
   ],
   "source": [
    "df_faixasEtarias.to_csv(nomeArquivoIdade, sep = ';', encoding='UTF-8')\n",
    "df_faixasEtarias['qtde'].sum() #474043"
   ]
  },
  {
   "cell_type": "code",
   "execution_count": 44,
   "metadata": {},
   "outputs": [
    {
     "name": "stdout",
     "output_type": "stream",
     "text": [
      "<class 'pandas.core.frame.DataFrame'>\n",
      "Index: 2 entries, Não to Sim\n",
      "Data columns (total 1 columns):\n",
      " #   Column  Non-Null Count  Dtype\n",
      "---  ------  --------------  -----\n",
      " 0   qtde    2 non-null      int64\n",
      "dtypes: int64(1)\n",
      "memory usage: 32.0+ bytes\n"
     ]
    }
   ],
   "source": [
    "#Análise da incidência de óbitos decorrentes dos acidente:\n",
    "df_obitos = pd.DataFrame(df_result['obito'].value_counts())\n",
    "df_obitos.rename(columns={\"obito\": \"qtde\"}, inplace=True)\n",
    "\n",
    "df_obitos_mais = df_obitos.head(5).copy()  # pode haver alguma opção para 'não informado'\n",
    "df_obitos_mais.index.name='obito'\n",
    "\n",
    "df_obitos_mais.info()"
   ]
  },
  {
   "cell_type": "code",
   "execution_count": 45,
   "metadata": {},
   "outputs": [
    {
     "data": {
      "text/html": [
       "<div>\n",
       "<style scoped>\n",
       "    .dataframe tbody tr th:only-of-type {\n",
       "        vertical-align: middle;\n",
       "    }\n",
       "\n",
       "    .dataframe tbody tr th {\n",
       "        vertical-align: top;\n",
       "    }\n",
       "\n",
       "    .dataframe thead th {\n",
       "        text-align: right;\n",
       "    }\n",
       "</style>\n",
       "<table border=\"1\" class=\"dataframe\">\n",
       "  <thead>\n",
       "    <tr style=\"text-align: right;\">\n",
       "      <th></th>\n",
       "      <th>qtde</th>\n",
       "    </tr>\n",
       "    <tr>\n",
       "      <th>obito</th>\n",
       "      <th></th>\n",
       "    </tr>\n",
       "  </thead>\n",
       "  <tbody>\n",
       "    <tr>\n",
       "      <th>Não</th>\n",
       "      <td>471971</td>\n",
       "    </tr>\n",
       "    <tr>\n",
       "      <th>Sim</th>\n",
       "      <td>2076</td>\n",
       "    </tr>\n",
       "  </tbody>\n",
       "</table>\n",
       "</div>"
      ],
      "text/plain": [
       "         qtde\n",
       "obito        \n",
       "Não    471971\n",
       "Sim      2076"
      ]
     },
     "execution_count": 45,
     "metadata": {},
     "output_type": "execute_result"
    }
   ],
   "source": [
    "df_obitos_mais.head()"
   ]
  },
  {
   "cell_type": "code",
   "execution_count": 46,
   "metadata": {},
   "outputs": [
    {
     "data": {
      "text/plain": [
       "474047"
      ]
     },
     "execution_count": 46,
     "metadata": {},
     "output_type": "execute_result"
    }
   ],
   "source": [
    "#qtde total de casos de ocorrência no dataFrame:\n",
    "df_obitos_mais['qtde'].sum() #"
   ]
  },
  {
   "cell_type": "code",
   "execution_count": 47,
   "metadata": {},
   "outputs": [],
   "source": [
    "df_obitos_mais.to_csv(nomeArquivoObitos, sep = ';', encoding='UTF-8')"
   ]
  },
  {
   "cell_type": "code",
   "execution_count": 48,
   "metadata": {},
   "outputs": [
    {
     "name": "stdout",
     "output_type": "stream",
     "text": [
      "<class 'pandas.core.frame.DataFrame'>\n",
      "Index: 3 entries, Típico to Doença\n",
      "Data columns (total 1 columns):\n",
      " #   Column  Non-Null Count  Dtype\n",
      "---  ------  --------------  -----\n",
      " 0   qtde    3 non-null      int64\n",
      "dtypes: int64(1)\n",
      "memory usage: 48.0+ bytes\n"
     ]
    }
   ],
   "source": [
    "#Análise da incidência de tipos de acidentes:\n",
    "df_tipos = pd.DataFrame(df_result['tipo_acidente'].value_counts())\n",
    "df_tipos.rename(columns={\"tipo_acidente\": \"qtde\"}, inplace=True)\n",
    "\n",
    "df_tipos_mais = df_tipos.head(20).copy()  # pode haver alguma opção para 'não informado'\n",
    "df_tipos_mais.index.name='tipo_acidente'\n",
    "\n",
    "df_tipos_mais.info()"
   ]
  },
  {
   "cell_type": "code",
   "execution_count": 49,
   "metadata": {},
   "outputs": [
    {
     "data": {
      "text/html": [
       "<div>\n",
       "<style scoped>\n",
       "    .dataframe tbody tr th:only-of-type {\n",
       "        vertical-align: middle;\n",
       "    }\n",
       "\n",
       "    .dataframe tbody tr th {\n",
       "        vertical-align: top;\n",
       "    }\n",
       "\n",
       "    .dataframe thead th {\n",
       "        text-align: right;\n",
       "    }\n",
       "</style>\n",
       "<table border=\"1\" class=\"dataframe\">\n",
       "  <thead>\n",
       "    <tr style=\"text-align: right;\">\n",
       "      <th></th>\n",
       "      <th>qtde</th>\n",
       "    </tr>\n",
       "    <tr>\n",
       "      <th>tipo_acidente</th>\n",
       "      <th></th>\n",
       "    </tr>\n",
       "  </thead>\n",
       "  <tbody>\n",
       "    <tr>\n",
       "      <th>Típico</th>\n",
       "      <td>364787</td>\n",
       "    </tr>\n",
       "    <tr>\n",
       "      <th>Trajeto</th>\n",
       "      <td>100713</td>\n",
       "    </tr>\n",
       "    <tr>\n",
       "      <th>Doença</th>\n",
       "      <td>8547</td>\n",
       "    </tr>\n",
       "  </tbody>\n",
       "</table>\n",
       "</div>"
      ],
      "text/plain": [
       "                 qtde\n",
       "tipo_acidente        \n",
       "Típico         364787\n",
       "Trajeto        100713\n",
       "Doença           8547"
      ]
     },
     "execution_count": 49,
     "metadata": {},
     "output_type": "execute_result"
    }
   ],
   "source": [
    "df_tipos_mais.head(20)"
   ]
  },
  {
   "cell_type": "code",
   "execution_count": 50,
   "metadata": {},
   "outputs": [
    {
     "data": {
      "text/plain": [
       "474047"
      ]
     },
     "execution_count": 50,
     "metadata": {},
     "output_type": "execute_result"
    }
   ],
   "source": [
    "#qtde total de casos de ocorrência no dataFrame:\n",
    "df_tipos_mais['qtde'].sum() #270152"
   ]
  },
  {
   "cell_type": "code",
   "execution_count": 51,
   "metadata": {},
   "outputs": [],
   "source": [
    "df_tipos_mais.to_csv(nomeArquivoTipoAcidente, sep = ';', encoding='UTF-8')"
   ]
  },
  {
   "cell_type": "code",
   "execution_count": 52,
   "metadata": {},
   "outputs": [
    {
     "name": "stdout",
     "output_type": "stream",
     "text": [
      "<class 'pandas.core.frame.DataFrame'>\n",
      "Index: 20 entries, Corte, Laceracao, Fe to Envenenamento Sistem\n",
      "Data columns (total 1 columns):\n",
      " #   Column  Non-Null Count  Dtype\n",
      "---  ------  --------------  -----\n",
      " 0   qtde    20 non-null     int64\n",
      "dtypes: int64(1)\n",
      "memory usage: 320.0+ bytes\n"
     ]
    }
   ],
   "source": [
    "#Análise da incidência da natureza de acidentes:\n",
    "df_natureza = pd.DataFrame(df_result['natureza'].value_counts())\n",
    "df_natureza.rename(columns={\"natureza\": \"qtde\"}, inplace=True)\n",
    "\n",
    "df_natureza_mais = df_natureza.head(20).copy()  # pode haver alguma opção para 'não informado'\n",
    "df_natureza_mais.index.name='natureza'\n",
    "\n",
    "df_natureza_mais.info()"
   ]
  },
  {
   "cell_type": "code",
   "execution_count": 53,
   "metadata": {},
   "outputs": [
    {
     "data": {
      "text/html": [
       "<div>\n",
       "<style scoped>\n",
       "    .dataframe tbody tr th:only-of-type {\n",
       "        vertical-align: middle;\n",
       "    }\n",
       "\n",
       "    .dataframe tbody tr th {\n",
       "        vertical-align: top;\n",
       "    }\n",
       "\n",
       "    .dataframe thead th {\n",
       "        text-align: right;\n",
       "    }\n",
       "</style>\n",
       "<table border=\"1\" class=\"dataframe\">\n",
       "  <thead>\n",
       "    <tr style=\"text-align: right;\">\n",
       "      <th></th>\n",
       "      <th>qtde</th>\n",
       "    </tr>\n",
       "    <tr>\n",
       "      <th>natureza</th>\n",
       "      <th></th>\n",
       "    </tr>\n",
       "  </thead>\n",
       "  <tbody>\n",
       "    <tr>\n",
       "      <th>Corte, Laceracao, Fe</th>\n",
       "      <td>99688</td>\n",
       "    </tr>\n",
       "    <tr>\n",
       "      <th>Fratura</th>\n",
       "      <td>80367</td>\n",
       "    </tr>\n",
       "    <tr>\n",
       "      <th>Contusao, Esmagament</th>\n",
       "      <td>69097</td>\n",
       "    </tr>\n",
       "    <tr>\n",
       "      <th>Lesao Imediata, Nic</th>\n",
       "      <td>45541</td>\n",
       "    </tr>\n",
       "    <tr>\n",
       "      <th>Distensao, Torcao</th>\n",
       "      <td>43587</td>\n",
       "    </tr>\n",
       "    <tr>\n",
       "      <th>Escoriacao, Abrasao</th>\n",
       "      <td>38689</td>\n",
       "    </tr>\n",
       "    <tr>\n",
       "      <th>Luxacao</th>\n",
       "      <td>24534</td>\n",
       "    </tr>\n",
       "    <tr>\n",
       "      <th>Queimadura ou Escald</th>\n",
       "      <td>12950</td>\n",
       "    </tr>\n",
       "    <tr>\n",
       "      <th>Lesoes Multiplas</th>\n",
       "      <td>11635</td>\n",
       "    </tr>\n",
       "    <tr>\n",
       "      <th>Lesao Imediata</th>\n",
       "      <td>11432</td>\n",
       "    </tr>\n",
       "    <tr>\n",
       "      <th>Doenca, Nic</th>\n",
       "      <td>9705</td>\n",
       "    </tr>\n",
       "    <tr>\n",
       "      <th>Inflamacao de Articu</th>\n",
       "      <td>4755</td>\n",
       "    </tr>\n",
       "    <tr>\n",
       "      <th>Amputacao ou Enuclea</th>\n",
       "      <td>4216</td>\n",
       "    </tr>\n",
       "    <tr>\n",
       "      <th>Queimadura Quimica (</th>\n",
       "      <td>3467</td>\n",
       "    </tr>\n",
       "    <tr>\n",
       "      <th>Doenca Contagiosa ou</th>\n",
       "      <td>3207</td>\n",
       "    </tr>\n",
       "    <tr>\n",
       "      <th>Perda ou Diminuicao</th>\n",
       "      <td>2938</td>\n",
       "    </tr>\n",
       "    <tr>\n",
       "      <th>Concussao Cerebral</th>\n",
       "      <td>2084</td>\n",
       "    </tr>\n",
       "    <tr>\n",
       "      <th>Dermatose (Erupcao,</th>\n",
       "      <td>1639</td>\n",
       "    </tr>\n",
       "    <tr>\n",
       "      <th>Choque Eletrico e El</th>\n",
       "      <td>1362</td>\n",
       "    </tr>\n",
       "    <tr>\n",
       "      <th>Envenenamento Sistem</th>\n",
       "      <td>1173</td>\n",
       "    </tr>\n",
       "  </tbody>\n",
       "</table>\n",
       "</div>"
      ],
      "text/plain": [
       "                       qtde\n",
       "natureza                   \n",
       "Corte, Laceracao, Fe  99688\n",
       "Fratura               80367\n",
       "Contusao, Esmagament  69097\n",
       "Lesao Imediata, Nic   45541\n",
       "Distensao, Torcao     43587\n",
       "Escoriacao, Abrasao   38689\n",
       "Luxacao               24534\n",
       "Queimadura ou Escald  12950\n",
       "Lesoes Multiplas      11635\n",
       "Lesao Imediata        11432\n",
       "Doenca, Nic            9705\n",
       "Inflamacao de Articu   4755\n",
       "Amputacao ou Enuclea   4216\n",
       "Queimadura Quimica (   3467\n",
       "Doenca Contagiosa ou   3207\n",
       "Perda ou Diminuicao    2938\n",
       "Concussao Cerebral     2084\n",
       "Dermatose (Erupcao,    1639\n",
       "Choque Eletrico e El   1362\n",
       "Envenenamento Sistem   1173"
      ]
     },
     "execution_count": 53,
     "metadata": {},
     "output_type": "execute_result"
    }
   ],
   "source": [
    "df_natureza_mais.head(20)"
   ]
  },
  {
   "cell_type": "code",
   "execution_count": 54,
   "metadata": {},
   "outputs": [
    {
     "data": {
      "text/plain": [
       "472066"
      ]
     },
     "execution_count": 54,
     "metadata": {},
     "output_type": "execute_result"
    }
   ],
   "source": [
    "#qtde total de casos de ocorrência no dataFrame:\n",
    "df_natureza_mais['qtde'].sum() # 472066"
   ]
  },
  {
   "cell_type": "code",
   "execution_count": 55,
   "metadata": {},
   "outputs": [],
   "source": [
    "df_natureza_mais.to_csv(nomeArquivoNatureza, sep = ';', encoding='UTF-8')"
   ]
  }
 ],
 "metadata": {
  "kernelspec": {
   "display_name": "Python 3",
   "language": "python",
   "name": "python3"
  },
  "language_info": {
   "codemirror_mode": {
    "name": "ipython",
    "version": 3
   },
   "file_extension": ".py",
   "mimetype": "text/x-python",
   "name": "python",
   "nbconvert_exporter": "python",
   "pygments_lexer": "ipython3",
   "version": "3.8.3"
  }
 },
 "nbformat": 4,
 "nbformat_minor": 4
}
