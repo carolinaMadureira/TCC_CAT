{
 "cells": [
  {
   "cell_type": "code",
   "execution_count": 1,
   "metadata": {},
   "outputs": [],
   "source": [
    "import numpy as np\n",
    "import pandas as pd\n",
    "from scipy import special\n",
    "from random import sample\n",
    "import itertools\n",
    "from datetime import timedelta\n",
    "from IPython.display import display\n",
    "import matplotlib.pyplot as plt\n",
    "import seaborn as sns\n",
    "%matplotlib inline\n",
    "import math\n",
    "import re"
   ]
  },
  {
   "cell_type": "code",
   "execution_count": 2,
   "metadata": {},
   "outputs": [],
   "source": [
    "#os dados dos dois primeiros trimestres de 2018 não estão disponíveis da mesma forma na plataforma\n",
    "arquivoOrigemA = 'datasets/result/dados_cat_201803.csv'\n",
    "arquivoOrigemB = 'datasets/result/dados_cat_201804.csv'\n",
    "nomeArquivoResultado = 'datasets/result/dados_cat_2018.csv'\n",
    "\n",
    "nomeArquivoCid = 'datasets/result/2018/dados_cid_2018.csv'\n",
    "nomeArquivoUF = 'datasets/result/2018/dados_uf_2018.csv'\n",
    "nomeArquivoCBO = 'datasets/result/2018/dados_cbo_2018.csv'\n",
    "nomeArquivoAnoMes = 'datasets/result/2018/dados_anoMes_2018.csv'\n",
    "nomeArquivoCNAE = 'datasets/result/2018/dados_cnae_2018.csv'\n",
    "nomeArquivoParte = 'datasets/result/2018/dados_parte_2018.csv'\n",
    "nomeArquivoSexo = 'datasets/result/2018/dados_sexo_2018.csv'\n",
    "nomeArquivoIdade = 'datasets/result/2018/dados_idade_2018.csv'\n",
    "nomeArquivoObitos = 'datasets/result/2018/dados_obitos_2018.csv'\n",
    "nomeArquivoTipoAcidente = 'datasets/result/2018/dados_tipoAcidente_2018.csv'\n",
    "nomeArquivoNatureza = 'datasets/result/2018/dados_natureza_2018.csv'"
   ]
  },
  {
   "cell_type": "code",
   "execution_count": 3,
   "metadata": {},
   "outputs": [],
   "source": [
    "columns_types = {'agente': str, 'cbo': int, 'cid': str, 'cnae': int, 'obito': str, 'natureza': str, 'parte': str, 'sexo': str, \n",
    "                 'tipo_acidente': str, 'uf_emp': str, 'idade': int, 'anoMes': str}\n",
    "\n",
    "nomes  = ['agente', 'cbo', 'cid', 'cnae', 'obito', 'natureza', 'parte', 'sexo', 'tipo_acidente', 'uf_emp', 'idade', 'anoMes']\n",
    "\n",
    "dados_originaisA = pd.read_csv(arquivoOrigemA, sep = ';', header=0, names=nomes, dtype=columns_types, encoding='utf8')\n",
    "dados_originaisB = pd.read_csv(arquivoOrigemB, sep = ';', header=0, names=nomes, dtype=columns_types, encoding='utf8')\n",
    "\n",
    "\n",
    "df_originalA = pd.DataFrame(data = dados_originaisA)\n",
    "df_originalB = pd.DataFrame(data = dados_originaisB)"
   ]
  },
  {
   "cell_type": "code",
   "execution_count": 4,
   "metadata": {},
   "outputs": [
    {
     "data": {
      "text/plain": [
       "241806"
      ]
     },
     "execution_count": 4,
     "metadata": {},
     "output_type": "execute_result"
    }
   ],
   "source": [
    "df_result = pd.concat([df_originalA, df_originalB], ignore_index= True)\n",
    "df_result.index = range(df_result.shape[0])\n",
    "df_result.shape[0]   # -> qtde total de acidentes analisados de 2018"
   ]
  },
  {
   "cell_type": "code",
   "execution_count": 5,
   "metadata": {},
   "outputs": [],
   "source": [
    "df_result.to_csv(nomeArquivoResultado, sep = ';', index=False, encoding='UTF-8')"
   ]
  },
  {
   "cell_type": "code",
   "execution_count": 6,
   "metadata": {},
   "outputs": [
    {
     "name": "stdout",
     "output_type": "stream",
     "text": [
      "<class 'pandas.core.frame.DataFrame'>\n",
      "Index: 20 entries, S610 to S420\n",
      "Data columns (total 1 columns):\n",
      " #   Column  Non-Null Count  Dtype\n",
      "---  ------  --------------  -----\n",
      " 0   qtde    20 non-null     int64\n",
      "dtypes: int64(1)\n",
      "memory usage: 320.0+ bytes\n"
     ]
    }
   ],
   "source": [
    "#Análise dos 20 CIDs de maior incidência em 2018:\n",
    "df_cid = pd.DataFrame(df_result['cid'].value_counts())\n",
    "df_cid.rename(columns={\"id\": \"cid\", \"cid\": \"qtde\"}, inplace=True)\n",
    "df_cid_mais = df_cid.head(20).copy()\n",
    "df_cid_mais.index.name='cid'\n",
    "\n",
    "df_cid_mais.info()"
   ]
  },
  {
   "cell_type": "code",
   "execution_count": 7,
   "metadata": {},
   "outputs": [
    {
     "data": {
      "text/html": [
       "<div>\n",
       "<style scoped>\n",
       "    .dataframe tbody tr th:only-of-type {\n",
       "        vertical-align: middle;\n",
       "    }\n",
       "\n",
       "    .dataframe tbody tr th {\n",
       "        vertical-align: top;\n",
       "    }\n",
       "\n",
       "    .dataframe thead th {\n",
       "        text-align: right;\n",
       "    }\n",
       "</style>\n",
       "<table border=\"1\" class=\"dataframe\">\n",
       "  <thead>\n",
       "    <tr style=\"text-align: right;\">\n",
       "      <th></th>\n",
       "      <th>qtde</th>\n",
       "    </tr>\n",
       "    <tr>\n",
       "      <th>cid</th>\n",
       "      <th></th>\n",
       "    </tr>\n",
       "  </thead>\n",
       "  <tbody>\n",
       "    <tr>\n",
       "      <th>S610</th>\n",
       "      <td>14498</td>\n",
       "    </tr>\n",
       "    <tr>\n",
       "      <th>S934</th>\n",
       "      <td>9349</td>\n",
       "    </tr>\n",
       "    <tr>\n",
       "      <th>S626</th>\n",
       "      <td>7158</td>\n",
       "    </tr>\n",
       "    <tr>\n",
       "      <th>Z209</th>\n",
       "      <td>6496</td>\n",
       "    </tr>\n",
       "    <tr>\n",
       "      <th>S800</th>\n",
       "      <td>5375</td>\n",
       "    </tr>\n",
       "    <tr>\n",
       "      <th>S600</th>\n",
       "      <td>5046</td>\n",
       "    </tr>\n",
       "    <tr>\n",
       "      <th>S61</th>\n",
       "      <td>4196</td>\n",
       "    </tr>\n",
       "    <tr>\n",
       "      <th>S602</th>\n",
       "      <td>3431</td>\n",
       "    </tr>\n",
       "    <tr>\n",
       "      <th>T07</th>\n",
       "      <td>3398</td>\n",
       "    </tr>\n",
       "    <tr>\n",
       "      <th>S611</th>\n",
       "      <td>3396</td>\n",
       "    </tr>\n",
       "    <tr>\n",
       "      <th>M255</th>\n",
       "      <td>2803</td>\n",
       "    </tr>\n",
       "    <tr>\n",
       "      <th>S900</th>\n",
       "      <td>2770</td>\n",
       "    </tr>\n",
       "    <tr>\n",
       "      <th>S619</th>\n",
       "      <td>2755</td>\n",
       "    </tr>\n",
       "    <tr>\n",
       "      <th>M545</th>\n",
       "      <td>2625</td>\n",
       "    </tr>\n",
       "    <tr>\n",
       "      <th>S400</th>\n",
       "      <td>2574</td>\n",
       "    </tr>\n",
       "    <tr>\n",
       "      <th>S525</th>\n",
       "      <td>2330</td>\n",
       "    </tr>\n",
       "    <tr>\n",
       "      <th>S62</th>\n",
       "      <td>2208</td>\n",
       "    </tr>\n",
       "    <tr>\n",
       "      <th>S903</th>\n",
       "      <td>2204</td>\n",
       "    </tr>\n",
       "    <tr>\n",
       "      <th>S923</th>\n",
       "      <td>2183</td>\n",
       "    </tr>\n",
       "    <tr>\n",
       "      <th>S420</th>\n",
       "      <td>1898</td>\n",
       "    </tr>\n",
       "  </tbody>\n",
       "</table>\n",
       "</div>"
      ],
      "text/plain": [
       "       qtde\n",
       "cid        \n",
       "S610  14498\n",
       "S934   9349\n",
       "S626   7158\n",
       "Z209   6496\n",
       "S800   5375\n",
       "S600   5046\n",
       "S61    4196\n",
       "S602   3431\n",
       "T07    3398\n",
       "S611   3396\n",
       "M255   2803\n",
       "S900   2770\n",
       "S619   2755\n",
       "M545   2625\n",
       "S400   2574\n",
       "S525   2330\n",
       "S62    2208\n",
       "S903   2204\n",
       "S923   2183\n",
       "S420   1898"
      ]
     },
     "execution_count": 7,
     "metadata": {},
     "output_type": "execute_result"
    }
   ],
   "source": [
    "df_cid_mais.head(20)"
   ]
  },
  {
   "cell_type": "code",
   "execution_count": 8,
   "metadata": {},
   "outputs": [],
   "source": [
    "df_cid_mais.to_csv(nomeArquivoCid, sep = ';', encoding='UTF-8')"
   ]
  },
  {
   "cell_type": "code",
   "execution_count": 9,
   "metadata": {},
   "outputs": [
    {
     "data": {
      "text/plain": [
       "86693"
      ]
     },
     "execution_count": 9,
     "metadata": {},
     "output_type": "execute_result"
    }
   ],
   "source": [
    "#qtde total de casos de ocorrência no dataFrame com os 10 maiores CIDs por ordem de ocorrência em 2018:\n",
    "df_cid_mais['qtde'].sum()  #109885"
   ]
  },
  {
   "cell_type": "code",
   "execution_count": 10,
   "metadata": {},
   "outputs": [
    {
     "name": "stdout",
     "output_type": "stream",
     "text": [
      "<class 'pandas.core.frame.DataFrame'>\n",
      "Index: 27 entries, São Paulo to Amapá\n",
      "Data columns (total 1 columns):\n",
      " #   Column  Non-Null Count  Dtype\n",
      "---  ------  --------------  -----\n",
      " 0   qtde    27 non-null     int64\n",
      "dtypes: int64(1)\n",
      "memory usage: 432.0+ bytes\n"
     ]
    }
   ],
   "source": [
    "#Análise das 20 UFs de maior incidência de CAT em 2018:\n",
    "df_uf = pd.DataFrame(df_result['uf_emp'].value_counts())\n",
    "df_uf.rename(columns={\"uf_emp\": \"qtde\"}, inplace=True)\n",
    "df_uf_mais = df_uf.head(30).copy()\n",
    "df_uf_mais.index.name='uf_emp'\n",
    "df_uf_mais.info()"
   ]
  },
  {
   "cell_type": "code",
   "execution_count": 11,
   "metadata": {},
   "outputs": [
    {
     "data": {
      "text/html": [
       "<div>\n",
       "<style scoped>\n",
       "    .dataframe tbody tr th:only-of-type {\n",
       "        vertical-align: middle;\n",
       "    }\n",
       "\n",
       "    .dataframe tbody tr th {\n",
       "        vertical-align: top;\n",
       "    }\n",
       "\n",
       "    .dataframe thead th {\n",
       "        text-align: right;\n",
       "    }\n",
       "</style>\n",
       "<table border=\"1\" class=\"dataframe\">\n",
       "  <thead>\n",
       "    <tr style=\"text-align: right;\">\n",
       "      <th></th>\n",
       "      <th>qtde</th>\n",
       "    </tr>\n",
       "    <tr>\n",
       "      <th>uf_emp</th>\n",
       "      <th></th>\n",
       "    </tr>\n",
       "  </thead>\n",
       "  <tbody>\n",
       "    <tr>\n",
       "      <th>São Paulo</th>\n",
       "      <td>90297</td>\n",
       "    </tr>\n",
       "    <tr>\n",
       "      <th>Minas Gerais</th>\n",
       "      <td>24062</td>\n",
       "    </tr>\n",
       "    <tr>\n",
       "      <th>Rio Grande do Sul</th>\n",
       "      <td>19773</td>\n",
       "    </tr>\n",
       "    <tr>\n",
       "      <th>Paraná</th>\n",
       "      <td>19629</td>\n",
       "    </tr>\n",
       "    <tr>\n",
       "      <th>Rio de Janeiro</th>\n",
       "      <td>16096</td>\n",
       "    </tr>\n",
       "    <tr>\n",
       "      <th>Santa Catarina</th>\n",
       "      <td>13996</td>\n",
       "    </tr>\n",
       "    <tr>\n",
       "      <th>Goiás</th>\n",
       "      <td>6857</td>\n",
       "    </tr>\n",
       "    <tr>\n",
       "      <th>Espírito Santo</th>\n",
       "      <td>5721</td>\n",
       "    </tr>\n",
       "    <tr>\n",
       "      <th>Bahia</th>\n",
       "      <td>5569</td>\n",
       "    </tr>\n",
       "    <tr>\n",
       "      <th>Mato Grosso</th>\n",
       "      <td>5276</td>\n",
       "    </tr>\n",
       "    <tr>\n",
       "      <th>Pernambuco</th>\n",
       "      <td>5116</td>\n",
       "    </tr>\n",
       "    <tr>\n",
       "      <th>Ceará</th>\n",
       "      <td>4955</td>\n",
       "    </tr>\n",
       "    <tr>\n",
       "      <th>Mato Grosso do Sul</th>\n",
       "      <td>4214</td>\n",
       "    </tr>\n",
       "    <tr>\n",
       "      <th>Pará</th>\n",
       "      <td>3902</td>\n",
       "    </tr>\n",
       "    <tr>\n",
       "      <th>Distrito Federal</th>\n",
       "      <td>3136</td>\n",
       "    </tr>\n",
       "    <tr>\n",
       "      <th>Amazonas</th>\n",
       "      <td>2275</td>\n",
       "    </tr>\n",
       "    <tr>\n",
       "      <th>Rio Grande do Norte</th>\n",
       "      <td>1851</td>\n",
       "    </tr>\n",
       "    <tr>\n",
       "      <th>Rondônia</th>\n",
       "      <td>1692</td>\n",
       "    </tr>\n",
       "    <tr>\n",
       "      <th>Alagoas</th>\n",
       "      <td>1508</td>\n",
       "    </tr>\n",
       "    <tr>\n",
       "      <th>Maranhão</th>\n",
       "      <td>1410</td>\n",
       "    </tr>\n",
       "  </tbody>\n",
       "</table>\n",
       "</div>"
      ],
      "text/plain": [
       "                      qtde\n",
       "uf_emp                    \n",
       "São Paulo            90297\n",
       "Minas Gerais         24062\n",
       "Rio Grande do Sul    19773\n",
       "Paraná               19629\n",
       "Rio de Janeiro       16096\n",
       "Santa Catarina       13996\n",
       "Goiás                 6857\n",
       "Espírito Santo        5721\n",
       "Bahia                 5569\n",
       "Mato Grosso           5276\n",
       "Pernambuco            5116\n",
       "Ceará                 4955\n",
       "Mato Grosso do Sul    4214\n",
       "Pará                  3902\n",
       "Distrito Federal      3136\n",
       "Amazonas              2275\n",
       "Rio Grande do Norte   1851\n",
       "Rondônia              1692\n",
       "Alagoas               1508\n",
       "Maranhão              1410"
      ]
     },
     "execution_count": 11,
     "metadata": {},
     "output_type": "execute_result"
    }
   ],
   "source": [
    "df_uf_mais.head(20)"
   ]
  },
  {
   "cell_type": "code",
   "execution_count": 12,
   "metadata": {},
   "outputs": [
    {
     "data": {
      "text/plain": [
       "241806"
      ]
     },
     "execution_count": 12,
     "metadata": {},
     "output_type": "execute_result"
    }
   ],
   "source": [
    "#qtde total de casos de ocorrência no dataFrame com os 10 maiores UFs por ordem de ocorrência em 2020:\n",
    "df_uf_mais['qtde'].sum() #236188"
   ]
  },
  {
   "cell_type": "code",
   "execution_count": 13,
   "metadata": {},
   "outputs": [],
   "source": [
    "df_uf_mais.to_csv(nomeArquivoUF, sep = ';', encoding='UTF-8')"
   ]
  },
  {
   "cell_type": "code",
   "execution_count": 14,
   "metadata": {},
   "outputs": [
    {
     "name": "stdout",
     "output_type": "stream",
     "text": [
      "<class 'pandas.core.frame.DataFrame'>\n",
      "Int64Index: 20 entries, 322205 to 514225\n",
      "Data columns (total 1 columns):\n",
      " #   Column  Non-Null Count  Dtype\n",
      "---  ------  --------------  -----\n",
      " 0   qtde    20 non-null     int64\n",
      "dtypes: int64(1)\n",
      "memory usage: 320.0 bytes\n"
     ]
    }
   ],
   "source": [
    "#Análise das 20 CBOs de maior incidência de CAT em 2018:\n",
    "df_cbo = pd.DataFrame(df_result['cbo'].value_counts())\n",
    "df_cbo.rename(columns={\"cbo\": \"qtde\"}, inplace=True)\n",
    "df_cbo_mais = df_cbo.head(20).copy()\n",
    "df_cbo_mais.index.name='cbo'\n",
    "df_cbo_mais.info()"
   ]
  },
  {
   "cell_type": "code",
   "execution_count": 15,
   "metadata": {},
   "outputs": [
    {
     "data": {
      "text/html": [
       "<div>\n",
       "<style scoped>\n",
       "    .dataframe tbody tr th:only-of-type {\n",
       "        vertical-align: middle;\n",
       "    }\n",
       "\n",
       "    .dataframe tbody tr th {\n",
       "        vertical-align: top;\n",
       "    }\n",
       "\n",
       "    .dataframe thead th {\n",
       "        text-align: right;\n",
       "    }\n",
       "</style>\n",
       "<table border=\"1\" class=\"dataframe\">\n",
       "  <thead>\n",
       "    <tr style=\"text-align: right;\">\n",
       "      <th></th>\n",
       "      <th>qtde</th>\n",
       "    </tr>\n",
       "    <tr>\n",
       "      <th>cbo</th>\n",
       "      <th></th>\n",
       "    </tr>\n",
       "  </thead>\n",
       "  <tbody>\n",
       "    <tr>\n",
       "      <th>322205</th>\n",
       "      <td>14578</td>\n",
       "    </tr>\n",
       "    <tr>\n",
       "      <th>784205</th>\n",
       "      <td>13985</td>\n",
       "    </tr>\n",
       "    <tr>\n",
       "      <th>514320</th>\n",
       "      <td>9206</td>\n",
       "    </tr>\n",
       "    <tr>\n",
       "      <th>782510</th>\n",
       "      <td>5764</td>\n",
       "    </tr>\n",
       "    <tr>\n",
       "      <th>717020</th>\n",
       "      <td>4685</td>\n",
       "    </tr>\n",
       "    <tr>\n",
       "      <th>521110</th>\n",
       "      <td>4222</td>\n",
       "    </tr>\n",
       "    <tr>\n",
       "      <th>411005</th>\n",
       "      <td>3944</td>\n",
       "    </tr>\n",
       "    <tr>\n",
       "      <th>411010</th>\n",
       "      <td>3551</td>\n",
       "    </tr>\n",
       "    <tr>\n",
       "      <th>521125</th>\n",
       "      <td>3453</td>\n",
       "    </tr>\n",
       "    <tr>\n",
       "      <th>514205</th>\n",
       "      <td>3378</td>\n",
       "    </tr>\n",
       "    <tr>\n",
       "      <th>322230</th>\n",
       "      <td>3312</td>\n",
       "    </tr>\n",
       "    <tr>\n",
       "      <th>415205</th>\n",
       "      <td>3233</td>\n",
       "    </tr>\n",
       "    <tr>\n",
       "      <th>223505</th>\n",
       "      <td>3180</td>\n",
       "    </tr>\n",
       "    <tr>\n",
       "      <th>513505</th>\n",
       "      <td>3175</td>\n",
       "    </tr>\n",
       "    <tr>\n",
       "      <th>783225</th>\n",
       "      <td>2952</td>\n",
       "    </tr>\n",
       "    <tr>\n",
       "      <th>848510</th>\n",
       "      <td>2905</td>\n",
       "    </tr>\n",
       "    <tr>\n",
       "      <th>513205</th>\n",
       "      <td>2840</td>\n",
       "    </tr>\n",
       "    <tr>\n",
       "      <th>911305</th>\n",
       "      <td>2815</td>\n",
       "    </tr>\n",
       "    <tr>\n",
       "      <th>414105</th>\n",
       "      <td>2733</td>\n",
       "    </tr>\n",
       "    <tr>\n",
       "      <th>514225</th>\n",
       "      <td>2699</td>\n",
       "    </tr>\n",
       "  </tbody>\n",
       "</table>\n",
       "</div>"
      ],
      "text/plain": [
       "         qtde\n",
       "cbo          \n",
       "322205  14578\n",
       "784205  13985\n",
       "514320   9206\n",
       "782510   5764\n",
       "717020   4685\n",
       "521110   4222\n",
       "411005   3944\n",
       "411010   3551\n",
       "521125   3453\n",
       "514205   3378\n",
       "322230   3312\n",
       "415205   3233\n",
       "223505   3180\n",
       "513505   3175\n",
       "783225   2952\n",
       "848510   2905\n",
       "513205   2840\n",
       "911305   2815\n",
       "414105   2733\n",
       "514225   2699"
      ]
     },
     "execution_count": 15,
     "metadata": {},
     "output_type": "execute_result"
    }
   ],
   "source": [
    "df_cbo_mais.head(20)"
   ]
  },
  {
   "cell_type": "code",
   "execution_count": 16,
   "metadata": {},
   "outputs": [
    {
     "data": {
      "text/plain": [
       "96610"
      ]
     },
     "execution_count": 16,
     "metadata": {},
     "output_type": "execute_result"
    }
   ],
   "source": [
    "#qtde total de casos de ocorrência no dataFrame com os 20 maiores CBOs por ordem de ocorrência em 2018:\n",
    "df_cbo_mais['qtde'].sum() #86776"
   ]
  },
  {
   "cell_type": "code",
   "execution_count": 17,
   "metadata": {},
   "outputs": [],
   "source": [
    "df_cbo_mais.to_csv(nomeArquivoCBO, sep = ';', encoding='UTF-8')"
   ]
  },
  {
   "cell_type": "code",
   "execution_count": 18,
   "metadata": {},
   "outputs": [
    {
     "data": {
      "text/html": [
       "<div>\n",
       "<style scoped>\n",
       "    .dataframe tbody tr th:only-of-type {\n",
       "        vertical-align: middle;\n",
       "    }\n",
       "\n",
       "    .dataframe tbody tr th {\n",
       "        vertical-align: top;\n",
       "    }\n",
       "\n",
       "    .dataframe thead th {\n",
       "        text-align: right;\n",
       "    }\n",
       "</style>\n",
       "<table border=\"1\" class=\"dataframe\">\n",
       "  <thead>\n",
       "    <tr style=\"text-align: right;\">\n",
       "      <th></th>\n",
       "      <th>qtde</th>\n",
       "    </tr>\n",
       "    <tr>\n",
       "      <th>anoMes</th>\n",
       "      <th></th>\n",
       "    </tr>\n",
       "  </thead>\n",
       "  <tbody>\n",
       "    <tr>\n",
       "      <th>201808</th>\n",
       "      <td>44441</td>\n",
       "    </tr>\n",
       "    <tr>\n",
       "      <th>201810</th>\n",
       "      <td>43448</td>\n",
       "    </tr>\n",
       "    <tr>\n",
       "      <th>201807</th>\n",
       "      <td>40512</td>\n",
       "    </tr>\n",
       "    <tr>\n",
       "      <th>201809</th>\n",
       "      <td>37875</td>\n",
       "    </tr>\n",
       "    <tr>\n",
       "      <th>201811</th>\n",
       "      <td>37546</td>\n",
       "    </tr>\n",
       "    <tr>\n",
       "      <th>201812</th>\n",
       "      <td>27952</td>\n",
       "    </tr>\n",
       "    <tr>\n",
       "      <th>201806</th>\n",
       "      <td>7145</td>\n",
       "    </tr>\n",
       "    <tr>\n",
       "      <th>201805</th>\n",
       "      <td>1174</td>\n",
       "    </tr>\n",
       "    <tr>\n",
       "      <th>201804</th>\n",
       "      <td>670</td>\n",
       "    </tr>\n",
       "    <tr>\n",
       "      <th>201803</th>\n",
       "      <td>498</td>\n",
       "    </tr>\n",
       "    <tr>\n",
       "      <th>201802</th>\n",
       "      <td>295</td>\n",
       "    </tr>\n",
       "    <tr>\n",
       "      <th>201801</th>\n",
       "      <td>250</td>\n",
       "    </tr>\n",
       "  </tbody>\n",
       "</table>\n",
       "</div>"
      ],
      "text/plain": [
       "         qtde\n",
       "anoMes       \n",
       "201808  44441\n",
       "201810  43448\n",
       "201807  40512\n",
       "201809  37875\n",
       "201811  37546\n",
       "201812  27952\n",
       "201806   7145\n",
       "201805   1174\n",
       "201804    670\n",
       "201803    498\n",
       "201802    295\n",
       "201801    250"
      ]
     },
     "execution_count": 18,
     "metadata": {},
     "output_type": "execute_result"
    }
   ],
   "source": [
    "#Análise da incidência dos acidentes em meses de 2018:\n",
    "df_mes = pd.DataFrame(df_result['anoMes'].value_counts())\n",
    "df_mes.rename(columns={\"anoMes\": \"qtde\"}, inplace=True)\n",
    "df_mes_mais = df_mes.head(12).copy()\n",
    "df_mes_mais.index.name='anoMes'\n",
    "\n",
    "df_mes_mais.head(12)"
   ]
  },
  {
   "cell_type": "code",
   "execution_count": 19,
   "metadata": {},
   "outputs": [],
   "source": [
    "df_mes_mais.to_csv(nomeArquivoAnoMes, sep = ';', encoding='UTF-8')"
   ]
  },
  {
   "cell_type": "code",
   "execution_count": 20,
   "metadata": {},
   "outputs": [
    {
     "name": "stdout",
     "output_type": "stream",
     "text": [
      "<class 'pandas.core.frame.DataFrame'>\n",
      "Int64Index: 20 entries, 8610 to 2949\n",
      "Data columns (total 1 columns):\n",
      " #   Column  Non-Null Count  Dtype\n",
      "---  ------  --------------  -----\n",
      " 0   qtde    20 non-null     int64\n",
      "dtypes: int64(1)\n",
      "memory usage: 320.0 bytes\n"
     ]
    }
   ],
   "source": [
    "#Análise da incidência dos acidentes por CNAE:\n",
    "df_cnae = pd.DataFrame(df_result['cnae'].value_counts())\n",
    "df_cnae.rename(columns={\"cnae\": \"qtde\"}, inplace=True)\n",
    "\n",
    "df_cnae_mais = df_cnae.head(20).copy()\n",
    "df_cnae_mais.index.name='cnae'\n",
    "\n",
    "df_cnae_mais.info()"
   ]
  },
  {
   "cell_type": "code",
   "execution_count": 21,
   "metadata": {},
   "outputs": [
    {
     "data": {
      "text/html": [
       "<div>\n",
       "<style scoped>\n",
       "    .dataframe tbody tr th:only-of-type {\n",
       "        vertical-align: middle;\n",
       "    }\n",
       "\n",
       "    .dataframe tbody tr th {\n",
       "        vertical-align: top;\n",
       "    }\n",
       "\n",
       "    .dataframe thead th {\n",
       "        text-align: right;\n",
       "    }\n",
       "</style>\n",
       "<table border=\"1\" class=\"dataframe\">\n",
       "  <thead>\n",
       "    <tr style=\"text-align: right;\">\n",
       "      <th></th>\n",
       "      <th>qtde</th>\n",
       "    </tr>\n",
       "    <tr>\n",
       "      <th>cnae</th>\n",
       "      <th></th>\n",
       "    </tr>\n",
       "  </thead>\n",
       "  <tbody>\n",
       "    <tr>\n",
       "      <th>8610</th>\n",
       "      <td>25754</td>\n",
       "    </tr>\n",
       "    <tr>\n",
       "      <th>4711</th>\n",
       "      <td>9918</td>\n",
       "    </tr>\n",
       "    <tr>\n",
       "      <th>4930</th>\n",
       "      <td>6424</td>\n",
       "    </tr>\n",
       "    <tr>\n",
       "      <th>8411</th>\n",
       "      <td>6193</td>\n",
       "    </tr>\n",
       "    <tr>\n",
       "      <th>1012</th>\n",
       "      <td>5204</td>\n",
       "    </tr>\n",
       "    <tr>\n",
       "      <th>5611</th>\n",
       "      <td>5118</td>\n",
       "    </tr>\n",
       "    <tr>\n",
       "      <th>5310</th>\n",
       "      <td>4536</td>\n",
       "    </tr>\n",
       "    <tr>\n",
       "      <th>4120</th>\n",
       "      <td>4378</td>\n",
       "    </tr>\n",
       "    <tr>\n",
       "      <th>1011</th>\n",
       "      <td>3825</td>\n",
       "    </tr>\n",
       "    <tr>\n",
       "      <th>3811</th>\n",
       "      <td>3636</td>\n",
       "    </tr>\n",
       "    <tr>\n",
       "      <th>8121</th>\n",
       "      <td>2954</td>\n",
       "    </tr>\n",
       "    <tr>\n",
       "      <th>1071</th>\n",
       "      <td>2795</td>\n",
       "    </tr>\n",
       "    <tr>\n",
       "      <th>5620</th>\n",
       "      <td>2591</td>\n",
       "    </tr>\n",
       "    <tr>\n",
       "      <th>4744</th>\n",
       "      <td>2459</td>\n",
       "    </tr>\n",
       "    <tr>\n",
       "      <th>8640</th>\n",
       "      <td>2362</td>\n",
       "    </tr>\n",
       "    <tr>\n",
       "      <th>7820</th>\n",
       "      <td>2334</td>\n",
       "    </tr>\n",
       "    <tr>\n",
       "      <th>8630</th>\n",
       "      <td>2298</td>\n",
       "    </tr>\n",
       "    <tr>\n",
       "      <th>4921</th>\n",
       "      <td>2045</td>\n",
       "    </tr>\n",
       "    <tr>\n",
       "      <th>4530</th>\n",
       "      <td>1871</td>\n",
       "    </tr>\n",
       "    <tr>\n",
       "      <th>2949</th>\n",
       "      <td>1830</td>\n",
       "    </tr>\n",
       "  </tbody>\n",
       "</table>\n",
       "</div>"
      ],
      "text/plain": [
       "       qtde\n",
       "cnae       \n",
       "8610  25754\n",
       "4711   9918\n",
       "4930   6424\n",
       "8411   6193\n",
       "1012   5204\n",
       "5611   5118\n",
       "5310   4536\n",
       "4120   4378\n",
       "1011   3825\n",
       "3811   3636\n",
       "8121   2954\n",
       "1071   2795\n",
       "5620   2591\n",
       "4744   2459\n",
       "8640   2362\n",
       "7820   2334\n",
       "8630   2298\n",
       "4921   2045\n",
       "4530   1871\n",
       "2949   1830"
      ]
     },
     "execution_count": 21,
     "metadata": {},
     "output_type": "execute_result"
    }
   ],
   "source": [
    "df_cnae_mais.head(20)"
   ]
  },
  {
   "cell_type": "code",
   "execution_count": 22,
   "metadata": {},
   "outputs": [
    {
     "data": {
      "text/plain": [
       "98525"
      ]
     },
     "execution_count": 22,
     "metadata": {},
     "output_type": "execute_result"
    }
   ],
   "source": [
    "#qtde total de casos de ocorrência no dataFrame com os 20 maiores CNAEs por ordem de ocorrência em 2018:\n",
    "df_cnae_mais['qtde'].sum() #"
   ]
  },
  {
   "cell_type": "code",
   "execution_count": 23,
   "metadata": {},
   "outputs": [],
   "source": [
    "df_cnae_mais.to_csv(nomeArquivoCNAE, sep = ';', encoding='UTF-8')"
   ]
  },
  {
   "cell_type": "code",
   "execution_count": 24,
   "metadata": {},
   "outputs": [
    {
     "name": "stdout",
     "output_type": "stream",
     "text": [
      "<class 'pandas.core.frame.DataFrame'>\n",
      "Index: 20 entries, Dedo to Cabeca, Partes Multi\n",
      "Data columns (total 1 columns):\n",
      " #   Column  Non-Null Count  Dtype\n",
      "---  ------  --------------  -----\n",
      " 0   qtde    20 non-null     int64\n",
      "dtypes: int64(1)\n",
      "memory usage: 320.0+ bytes\n"
     ]
    }
   ],
   "source": [
    "#Análise da incidência dos acidentes por parte do corpo atingida:\n",
    "df_parte = pd.DataFrame(df_result['parte'].value_counts())\n",
    "df_parte.rename(columns={\"parte\": \"qtde\"}, inplace=True)\n",
    "\n",
    "df_parte_mais = df_parte.head(20).copy()\n",
    "df_parte_mais.index.name='parte'\n",
    "\n",
    "df_parte_mais.info()"
   ]
  },
  {
   "cell_type": "code",
   "execution_count": 25,
   "metadata": {},
   "outputs": [
    {
     "data": {
      "text/html": [
       "<div>\n",
       "<style scoped>\n",
       "    .dataframe tbody tr th:only-of-type {\n",
       "        vertical-align: middle;\n",
       "    }\n",
       "\n",
       "    .dataframe tbody tr th {\n",
       "        vertical-align: top;\n",
       "    }\n",
       "\n",
       "    .dataframe thead th {\n",
       "        text-align: right;\n",
       "    }\n",
       "</style>\n",
       "<table border=\"1\" class=\"dataframe\">\n",
       "  <thead>\n",
       "    <tr style=\"text-align: right;\">\n",
       "      <th></th>\n",
       "      <th>qtde</th>\n",
       "    </tr>\n",
       "    <tr>\n",
       "      <th>parte</th>\n",
       "      <th></th>\n",
       "    </tr>\n",
       "  </thead>\n",
       "  <tbody>\n",
       "    <tr>\n",
       "      <th>Dedo</th>\n",
       "      <td>56395</td>\n",
       "    </tr>\n",
       "    <tr>\n",
       "      <th>Pe (Exceto Artelhos)</th>\n",
       "      <td>19670</td>\n",
       "    </tr>\n",
       "    <tr>\n",
       "      <th>Mao (Exceto Punho ou</th>\n",
       "      <td>17647</td>\n",
       "    </tr>\n",
       "    <tr>\n",
       "      <th>Joelho</th>\n",
       "      <td>12949</td>\n",
       "    </tr>\n",
       "    <tr>\n",
       "      <th>Partes Multiplas - A</th>\n",
       "      <td>11296</td>\n",
       "    </tr>\n",
       "    <tr>\n",
       "      <th>Articulacao do Torno</th>\n",
       "      <td>10300</td>\n",
       "    </tr>\n",
       "    <tr>\n",
       "      <th>Perna (Do Tornozelo,</th>\n",
       "      <td>8763</td>\n",
       "    </tr>\n",
       "    <tr>\n",
       "      <th>Antebraco (Entre O P</th>\n",
       "      <td>8514</td>\n",
       "    </tr>\n",
       "    <tr>\n",
       "      <th>Ombro</th>\n",
       "      <td>8157</td>\n",
       "    </tr>\n",
       "    <tr>\n",
       "      <th>Perna (Entre O Torno</th>\n",
       "      <td>8149</td>\n",
       "    </tr>\n",
       "    <tr>\n",
       "      <th>Braco (Entre O Punho</th>\n",
       "      <td>7805</td>\n",
       "    </tr>\n",
       "    <tr>\n",
       "      <th>Cabeca, Nic</th>\n",
       "      <td>7258</td>\n",
       "    </tr>\n",
       "    <tr>\n",
       "      <th>Dorso (Inclusive Mus</th>\n",
       "      <td>6943</td>\n",
       "    </tr>\n",
       "    <tr>\n",
       "      <th>Olho (Inclusive Nerv</th>\n",
       "      <td>6714</td>\n",
       "    </tr>\n",
       "    <tr>\n",
       "      <th>Membros Superiores,</th>\n",
       "      <td>6255</td>\n",
       "    </tr>\n",
       "    <tr>\n",
       "      <th>Punho</th>\n",
       "      <td>5893</td>\n",
       "    </tr>\n",
       "    <tr>\n",
       "      <th>Membros Inferiores,</th>\n",
       "      <td>5589</td>\n",
       "    </tr>\n",
       "    <tr>\n",
       "      <th>Sistema Nervoso</th>\n",
       "      <td>4075</td>\n",
       "    </tr>\n",
       "    <tr>\n",
       "      <th>Face, Partes Multipl</th>\n",
       "      <td>4012</td>\n",
       "    </tr>\n",
       "    <tr>\n",
       "      <th>Cabeca, Partes Multi</th>\n",
       "      <td>2929</td>\n",
       "    </tr>\n",
       "  </tbody>\n",
       "</table>\n",
       "</div>"
      ],
      "text/plain": [
       "                       qtde\n",
       "parte                      \n",
       "Dedo                  56395\n",
       "Pe (Exceto Artelhos)  19670\n",
       "Mao (Exceto Punho ou  17647\n",
       "Joelho                12949\n",
       "Partes Multiplas - A  11296\n",
       "Articulacao do Torno  10300\n",
       "Perna (Do Tornozelo,   8763\n",
       "Antebraco (Entre O P   8514\n",
       "Ombro                  8157\n",
       "Perna (Entre O Torno   8149\n",
       "Braco (Entre O Punho   7805\n",
       "Cabeca, Nic            7258\n",
       "Dorso (Inclusive Mus   6943\n",
       "Olho (Inclusive Nerv   6714\n",
       "Membros Superiores,    6255\n",
       "Punho                  5893\n",
       "Membros Inferiores,    5589\n",
       "Sistema Nervoso        4075\n",
       "Face, Partes Multipl   4012\n",
       "Cabeca, Partes Multi   2929"
      ]
     },
     "execution_count": 25,
     "metadata": {},
     "output_type": "execute_result"
    }
   ],
   "source": [
    "df_parte_mais.head(20)"
   ]
  },
  {
   "cell_type": "code",
   "execution_count": 26,
   "metadata": {},
   "outputs": [
    {
     "data": {
      "text/plain": [
       "219313"
      ]
     },
     "execution_count": 26,
     "metadata": {},
     "output_type": "execute_result"
    }
   ],
   "source": [
    "#qtde total de casos de ocorrência no dataFrame com os 20 maiores CNAEs por ordem de ocorrência em 2018:\n",
    "df_parte_mais['qtde'].sum() #"
   ]
  },
  {
   "cell_type": "code",
   "execution_count": 27,
   "metadata": {},
   "outputs": [],
   "source": [
    "df_parte_mais.to_csv(nomeArquivoParte, sep = ';', encoding='UTF-8')"
   ]
  },
  {
   "cell_type": "code",
   "execution_count": 28,
   "metadata": {},
   "outputs": [
    {
     "name": "stdout",
     "output_type": "stream",
     "text": [
      "<class 'pandas.core.frame.DataFrame'>\n",
      "Index: 4 entries, Masculino to Indeterminado\n",
      "Data columns (total 1 columns):\n",
      " #   Column  Non-Null Count  Dtype\n",
      "---  ------  --------------  -----\n",
      " 0   qtde    4 non-null      int64\n",
      "dtypes: int64(1)\n",
      "memory usage: 64.0+ bytes\n"
     ]
    }
   ],
   "source": [
    "#Análise da incidência dos acidentes, separados por sexo (M ou F):\n",
    "df_sexo = pd.DataFrame(df_result['sexo'].value_counts())\n",
    "df_sexo.rename(columns={\"sexo\": \"qtde\"}, inplace=True)\n",
    "\n",
    "df_sexo_mais = df_sexo.head(5).copy()  # pode haver alguma opção para 'não informado'\n",
    "df_sexo_mais.index.name='sexo'\n",
    "\n",
    "df_sexo_mais.info()"
   ]
  },
  {
   "cell_type": "code",
   "execution_count": 29,
   "metadata": {},
   "outputs": [
    {
     "data": {
      "text/html": [
       "<div>\n",
       "<style scoped>\n",
       "    .dataframe tbody tr th:only-of-type {\n",
       "        vertical-align: middle;\n",
       "    }\n",
       "\n",
       "    .dataframe tbody tr th {\n",
       "        vertical-align: top;\n",
       "    }\n",
       "\n",
       "    .dataframe thead th {\n",
       "        text-align: right;\n",
       "    }\n",
       "</style>\n",
       "<table border=\"1\" class=\"dataframe\">\n",
       "  <thead>\n",
       "    <tr style=\"text-align: right;\">\n",
       "      <th></th>\n",
       "      <th>qtde</th>\n",
       "    </tr>\n",
       "    <tr>\n",
       "      <th>sexo</th>\n",
       "      <th></th>\n",
       "    </tr>\n",
       "  </thead>\n",
       "  <tbody>\n",
       "    <tr>\n",
       "      <th>Masculino</th>\n",
       "      <td>160788</td>\n",
       "    </tr>\n",
       "    <tr>\n",
       "      <th>Feminino</th>\n",
       "      <td>81002</td>\n",
       "    </tr>\n",
       "    <tr>\n",
       "      <th>Não Informado</th>\n",
       "      <td>14</td>\n",
       "    </tr>\n",
       "    <tr>\n",
       "      <th>Indeterminado</th>\n",
       "      <td>2</td>\n",
       "    </tr>\n",
       "  </tbody>\n",
       "</table>\n",
       "</div>"
      ],
      "text/plain": [
       "                 qtde\n",
       "sexo                 \n",
       "Masculino      160788\n",
       "Feminino        81002\n",
       "Não Informado      14\n",
       "Indeterminado       2"
      ]
     },
     "execution_count": 29,
     "metadata": {},
     "output_type": "execute_result"
    }
   ],
   "source": [
    "df_sexo_mais.head()"
   ]
  },
  {
   "cell_type": "code",
   "execution_count": 30,
   "metadata": {},
   "outputs": [
    {
     "data": {
      "text/plain": [
       "241806"
      ]
     },
     "execution_count": 30,
     "metadata": {},
     "output_type": "execute_result"
    }
   ],
   "source": [
    "#qtde total de casos de ocorrência no dataFrame com os 20 maiores CNAEs por ordem de ocorrência em 2018:\n",
    "df_sexo_mais['qtde'].sum() #"
   ]
  },
  {
   "cell_type": "code",
   "execution_count": 31,
   "metadata": {},
   "outputs": [],
   "source": [
    "df_sexo_mais.to_csv(nomeArquivoSexo, sep = ';', encoding='UTF-8')"
   ]
  },
  {
   "cell_type": "code",
   "execution_count": 32,
   "metadata": {},
   "outputs": [
    {
     "data": {
      "text/plain": [
       "10"
      ]
     },
     "execution_count": 32,
     "metadata": {},
     "output_type": "execute_result"
    }
   ],
   "source": [
    "df_result['idade'].min() #10 ???"
   ]
  },
  {
   "cell_type": "code",
   "execution_count": 33,
   "metadata": {},
   "outputs": [
    {
     "data": {
      "text/plain": [
       "2"
      ]
     },
     "execution_count": 33,
     "metadata": {},
     "output_type": "execute_result"
    }
   ],
   "source": [
    "selecao = df_result['idade'] < 14 # idade mínima para jovem aprendiz é de 14 anos, porém foi encontrado 1 registro < 14\n",
    "df_min = df_result[selecao]\n",
    "df_min.head(10)\n",
    "df_min.shape[0]   # <=20 -> 9024    <=14 -> 2    <= 15 -> 7"
   ]
  },
  {
   "cell_type": "code",
   "execution_count": 34,
   "metadata": {},
   "outputs": [
    {
     "data": {
      "text/plain": [
       "95"
      ]
     },
     "execution_count": 34,
     "metadata": {},
     "output_type": "execute_result"
    }
   ],
   "source": [
    "df_result['idade'].max()  #86"
   ]
  },
  {
   "cell_type": "code",
   "execution_count": 35,
   "metadata": {},
   "outputs": [],
   "source": [
    "classes = [13, 19, 24, 29, 34, 39, 44, 49, 54, 59, 64, 69, 100]\n",
    "faixas = pd.cut(df_result.idade, classes)"
   ]
  },
  {
   "cell_type": "code",
   "execution_count": 36,
   "metadata": {},
   "outputs": [
    {
     "data": {
      "text/plain": [
       "(29, 34]     40314\n",
       "(34, 39]     39420\n",
       "(24, 29]     37997\n",
       "(39, 44]     32621\n",
       "(19, 24]     24642\n",
       "(44, 49]     24544\n",
       "(49, 54]     18811\n",
       "(54, 59]     13132\n",
       "(59, 64]      6747\n",
       "(64, 69]      2263\n",
       "(69, 100]      778\n",
       "(13, 19]       535\n",
       "Name: idade, dtype: int64"
      ]
     },
     "execution_count": 36,
     "metadata": {},
     "output_type": "execute_result"
    }
   ],
   "source": [
    "pd.value_counts(faixas)"
   ]
  },
  {
   "cell_type": "code",
   "execution_count": 37,
   "metadata": {},
   "outputs": [
    {
     "data": {
      "text/plain": [
       "30 a 34 anos:     40314\n",
       "35 a 39 anos:     39420\n",
       "25 a 29 anos:     37997\n",
       "40 a 44 anos:     32621\n",
       "20 a 24 anos:     24642\n",
       "45 a 49 anos:     24544\n",
       "50 a 54 anos:     18811\n",
       "55 a 59 anos:     13132\n",
       "60 a 64 anos:      6747\n",
       "65 a 69 anos:      2263\n",
       "70 a 100 anos:      778\n",
       "14 a 19 anos:       535\n",
       "Name: idade, dtype: int64"
      ]
     },
     "execution_count": 37,
     "metadata": {},
     "output_type": "execute_result"
    }
   ],
   "source": [
    "labels = ['14 a 19 anos: ', '20 a 24 anos:', '25 a 29 anos:', '30 a 34 anos:', '35 a 39 anos:', '40 a 44 anos:', \n",
    "          '45 a 49 anos:', '50 a 54 anos:', '55 a 59 anos:', '60 a 64 anos:', '65 a 69 anos:', '70 a 100 anos:']\n",
    "faixas_labels = pd.cut(df_result.idade, classes, labels = labels)\n",
    "pd.value_counts(faixas_labels)"
   ]
  },
  {
   "cell_type": "code",
   "execution_count": 38,
   "metadata": {},
   "outputs": [],
   "source": [
    "df_faixasEtarias = pd.DataFrame(pd.value_counts(faixas_labels))\n"
   ]
  },
  {
   "cell_type": "code",
   "execution_count": 39,
   "metadata": {},
   "outputs": [
    {
     "data": {
      "text/html": [
       "<div>\n",
       "<style scoped>\n",
       "    .dataframe tbody tr th:only-of-type {\n",
       "        vertical-align: middle;\n",
       "    }\n",
       "\n",
       "    .dataframe tbody tr th {\n",
       "        vertical-align: top;\n",
       "    }\n",
       "\n",
       "    .dataframe thead th {\n",
       "        text-align: right;\n",
       "    }\n",
       "</style>\n",
       "<table border=\"1\" class=\"dataframe\">\n",
       "  <thead>\n",
       "    <tr style=\"text-align: right;\">\n",
       "      <th></th>\n",
       "      <th>idade</th>\n",
       "    </tr>\n",
       "  </thead>\n",
       "  <tbody>\n",
       "    <tr>\n",
       "      <th>30 a 34 anos:</th>\n",
       "      <td>40314</td>\n",
       "    </tr>\n",
       "    <tr>\n",
       "      <th>35 a 39 anos:</th>\n",
       "      <td>39420</td>\n",
       "    </tr>\n",
       "    <tr>\n",
       "      <th>25 a 29 anos:</th>\n",
       "      <td>37997</td>\n",
       "    </tr>\n",
       "    <tr>\n",
       "      <th>40 a 44 anos:</th>\n",
       "      <td>32621</td>\n",
       "    </tr>\n",
       "    <tr>\n",
       "      <th>20 a 24 anos:</th>\n",
       "      <td>24642</td>\n",
       "    </tr>\n",
       "    <tr>\n",
       "      <th>45 a 49 anos:</th>\n",
       "      <td>24544</td>\n",
       "    </tr>\n",
       "    <tr>\n",
       "      <th>50 a 54 anos:</th>\n",
       "      <td>18811</td>\n",
       "    </tr>\n",
       "    <tr>\n",
       "      <th>55 a 59 anos:</th>\n",
       "      <td>13132</td>\n",
       "    </tr>\n",
       "    <tr>\n",
       "      <th>60 a 64 anos:</th>\n",
       "      <td>6747</td>\n",
       "    </tr>\n",
       "    <tr>\n",
       "      <th>65 a 69 anos:</th>\n",
       "      <td>2263</td>\n",
       "    </tr>\n",
       "  </tbody>\n",
       "</table>\n",
       "</div>"
      ],
      "text/plain": [
       "               idade\n",
       "30 a 34 anos:  40314\n",
       "35 a 39 anos:  39420\n",
       "25 a 29 anos:  37997\n",
       "40 a 44 anos:  32621\n",
       "20 a 24 anos:  24642\n",
       "45 a 49 anos:  24544\n",
       "50 a 54 anos:  18811\n",
       "55 a 59 anos:  13132\n",
       "60 a 64 anos:   6747\n",
       "65 a 69 anos:   2263"
      ]
     },
     "execution_count": 39,
     "metadata": {},
     "output_type": "execute_result"
    }
   ],
   "source": [
    "df_faixasEtarias.head(10)"
   ]
  },
  {
   "cell_type": "code",
   "execution_count": 40,
   "metadata": {},
   "outputs": [],
   "source": [
    "df_faixasEtarias['desc_faixa'] = df_faixasEtarias.index"
   ]
  },
  {
   "cell_type": "code",
   "execution_count": 41,
   "metadata": {},
   "outputs": [
    {
     "data": {
      "text/html": [
       "<div>\n",
       "<style scoped>\n",
       "    .dataframe tbody tr th:only-of-type {\n",
       "        vertical-align: middle;\n",
       "    }\n",
       "\n",
       "    .dataframe tbody tr th {\n",
       "        vertical-align: top;\n",
       "    }\n",
       "\n",
       "    .dataframe thead th {\n",
       "        text-align: right;\n",
       "    }\n",
       "</style>\n",
       "<table border=\"1\" class=\"dataframe\">\n",
       "  <thead>\n",
       "    <tr style=\"text-align: right;\">\n",
       "      <th></th>\n",
       "      <th>idade</th>\n",
       "      <th>desc_faixa</th>\n",
       "    </tr>\n",
       "  </thead>\n",
       "  <tbody>\n",
       "    <tr>\n",
       "      <th>30 a 34 anos:</th>\n",
       "      <td>40314</td>\n",
       "      <td>30 a 34 anos:</td>\n",
       "    </tr>\n",
       "    <tr>\n",
       "      <th>35 a 39 anos:</th>\n",
       "      <td>39420</td>\n",
       "      <td>35 a 39 anos:</td>\n",
       "    </tr>\n",
       "    <tr>\n",
       "      <th>25 a 29 anos:</th>\n",
       "      <td>37997</td>\n",
       "      <td>25 a 29 anos:</td>\n",
       "    </tr>\n",
       "    <tr>\n",
       "      <th>40 a 44 anos:</th>\n",
       "      <td>32621</td>\n",
       "      <td>40 a 44 anos:</td>\n",
       "    </tr>\n",
       "    <tr>\n",
       "      <th>20 a 24 anos:</th>\n",
       "      <td>24642</td>\n",
       "      <td>20 a 24 anos:</td>\n",
       "    </tr>\n",
       "    <tr>\n",
       "      <th>45 a 49 anos:</th>\n",
       "      <td>24544</td>\n",
       "      <td>45 a 49 anos:</td>\n",
       "    </tr>\n",
       "    <tr>\n",
       "      <th>50 a 54 anos:</th>\n",
       "      <td>18811</td>\n",
       "      <td>50 a 54 anos:</td>\n",
       "    </tr>\n",
       "    <tr>\n",
       "      <th>55 a 59 anos:</th>\n",
       "      <td>13132</td>\n",
       "      <td>55 a 59 anos:</td>\n",
       "    </tr>\n",
       "    <tr>\n",
       "      <th>60 a 64 anos:</th>\n",
       "      <td>6747</td>\n",
       "      <td>60 a 64 anos:</td>\n",
       "    </tr>\n",
       "    <tr>\n",
       "      <th>65 a 69 anos:</th>\n",
       "      <td>2263</td>\n",
       "      <td>65 a 69 anos:</td>\n",
       "    </tr>\n",
       "  </tbody>\n",
       "</table>\n",
       "</div>"
      ],
      "text/plain": [
       "               idade     desc_faixa\n",
       "30 a 34 anos:  40314  30 a 34 anos:\n",
       "35 a 39 anos:  39420  35 a 39 anos:\n",
       "25 a 29 anos:  37997  25 a 29 anos:\n",
       "40 a 44 anos:  32621  40 a 44 anos:\n",
       "20 a 24 anos:  24642  20 a 24 anos:\n",
       "45 a 49 anos:  24544  45 a 49 anos:\n",
       "50 a 54 anos:  18811  50 a 54 anos:\n",
       "55 a 59 anos:  13132  55 a 59 anos:\n",
       "60 a 64 anos:   6747  60 a 64 anos:\n",
       "65 a 69 anos:   2263  65 a 69 anos:"
      ]
     },
     "execution_count": 41,
     "metadata": {},
     "output_type": "execute_result"
    }
   ],
   "source": [
    "df_faixasEtarias.head(10)"
   ]
  },
  {
   "cell_type": "code",
   "execution_count": 42,
   "metadata": {},
   "outputs": [
    {
     "data": {
      "text/html": [
       "<div>\n",
       "<style scoped>\n",
       "    .dataframe tbody tr th:only-of-type {\n",
       "        vertical-align: middle;\n",
       "    }\n",
       "\n",
       "    .dataframe tbody tr th {\n",
       "        vertical-align: top;\n",
       "    }\n",
       "\n",
       "    .dataframe thead th {\n",
       "        text-align: right;\n",
       "    }\n",
       "</style>\n",
       "<table border=\"1\" class=\"dataframe\">\n",
       "  <thead>\n",
       "    <tr style=\"text-align: right;\">\n",
       "      <th></th>\n",
       "      <th>qtde</th>\n",
       "      <th>desc_faixa</th>\n",
       "    </tr>\n",
       "    <tr>\n",
       "      <th>id</th>\n",
       "      <th></th>\n",
       "      <th></th>\n",
       "    </tr>\n",
       "  </thead>\n",
       "  <tbody>\n",
       "    <tr>\n",
       "      <th>0</th>\n",
       "      <td>40314</td>\n",
       "      <td>30 a 34 anos:</td>\n",
       "    </tr>\n",
       "    <tr>\n",
       "      <th>1</th>\n",
       "      <td>39420</td>\n",
       "      <td>35 a 39 anos:</td>\n",
       "    </tr>\n",
       "    <tr>\n",
       "      <th>2</th>\n",
       "      <td>37997</td>\n",
       "      <td>25 a 29 anos:</td>\n",
       "    </tr>\n",
       "    <tr>\n",
       "      <th>3</th>\n",
       "      <td>32621</td>\n",
       "      <td>40 a 44 anos:</td>\n",
       "    </tr>\n",
       "    <tr>\n",
       "      <th>4</th>\n",
       "      <td>24642</td>\n",
       "      <td>20 a 24 anos:</td>\n",
       "    </tr>\n",
       "    <tr>\n",
       "      <th>5</th>\n",
       "      <td>24544</td>\n",
       "      <td>45 a 49 anos:</td>\n",
       "    </tr>\n",
       "    <tr>\n",
       "      <th>6</th>\n",
       "      <td>18811</td>\n",
       "      <td>50 a 54 anos:</td>\n",
       "    </tr>\n",
       "    <tr>\n",
       "      <th>7</th>\n",
       "      <td>13132</td>\n",
       "      <td>55 a 59 anos:</td>\n",
       "    </tr>\n",
       "    <tr>\n",
       "      <th>8</th>\n",
       "      <td>6747</td>\n",
       "      <td>60 a 64 anos:</td>\n",
       "    </tr>\n",
       "    <tr>\n",
       "      <th>9</th>\n",
       "      <td>2263</td>\n",
       "      <td>65 a 69 anos:</td>\n",
       "    </tr>\n",
       "  </tbody>\n",
       "</table>\n",
       "</div>"
      ],
      "text/plain": [
       "     qtde     desc_faixa\n",
       "id                      \n",
       "0   40314  30 a 34 anos:\n",
       "1   39420  35 a 39 anos:\n",
       "2   37997  25 a 29 anos:\n",
       "3   32621  40 a 44 anos:\n",
       "4   24642  20 a 24 anos:\n",
       "5   24544  45 a 49 anos:\n",
       "6   18811  50 a 54 anos:\n",
       "7   13132  55 a 59 anos:\n",
       "8    6747  60 a 64 anos:\n",
       "9    2263  65 a 69 anos:"
      ]
     },
     "execution_count": 42,
     "metadata": {},
     "output_type": "execute_result"
    }
   ],
   "source": [
    "df_faixasEtarias.index = range(df_faixasEtarias.shape[0])\n",
    "df_faixasEtarias.index.name = 'id'\n",
    "df_faixasEtarias.rename(columns={\"idade\": \"qtde\"}, inplace=True)\n",
    "df_faixasEtarias.head(10)"
   ]
  },
  {
   "cell_type": "code",
   "execution_count": 43,
   "metadata": {},
   "outputs": [
    {
     "data": {
      "text/plain": [
       "241804"
      ]
     },
     "execution_count": 43,
     "metadata": {},
     "output_type": "execute_result"
    }
   ],
   "source": [
    "df_faixasEtarias.to_csv(nomeArquivoIdade, sep = ';', encoding='UTF-8')\n",
    "df_faixasEtarias['qtde'].sum()"
   ]
  },
  {
   "cell_type": "code",
   "execution_count": 44,
   "metadata": {},
   "outputs": [
    {
     "name": "stdout",
     "output_type": "stream",
     "text": [
      "<class 'pandas.core.frame.DataFrame'>\n",
      "Index: 2 entries, Não to Sim\n",
      "Data columns (total 1 columns):\n",
      " #   Column  Non-Null Count  Dtype\n",
      "---  ------  --------------  -----\n",
      " 0   qtde    2 non-null      int64\n",
      "dtypes: int64(1)\n",
      "memory usage: 32.0+ bytes\n"
     ]
    }
   ],
   "source": [
    "#Análise da incidência de óbitos decorrentes dos acidente:\n",
    "df_obitos = pd.DataFrame(df_result['obito'].value_counts())\n",
    "df_obitos.rename(columns={\"obito\": \"qtde\"}, inplace=True)\n",
    "\n",
    "df_obitos_mais = df_obitos.head(5).copy()  # pode haver alguma opção para 'não informado'\n",
    "df_obitos_mais.index.name='obito'\n",
    "\n",
    "df_obitos_mais.info()"
   ]
  },
  {
   "cell_type": "code",
   "execution_count": 45,
   "metadata": {},
   "outputs": [
    {
     "data": {
      "text/html": [
       "<div>\n",
       "<style scoped>\n",
       "    .dataframe tbody tr th:only-of-type {\n",
       "        vertical-align: middle;\n",
       "    }\n",
       "\n",
       "    .dataframe tbody tr th {\n",
       "        vertical-align: top;\n",
       "    }\n",
       "\n",
       "    .dataframe thead th {\n",
       "        text-align: right;\n",
       "    }\n",
       "</style>\n",
       "<table border=\"1\" class=\"dataframe\">\n",
       "  <thead>\n",
       "    <tr style=\"text-align: right;\">\n",
       "      <th></th>\n",
       "      <th>qtde</th>\n",
       "    </tr>\n",
       "    <tr>\n",
       "      <th>obito</th>\n",
       "      <th></th>\n",
       "    </tr>\n",
       "  </thead>\n",
       "  <tbody>\n",
       "    <tr>\n",
       "      <th>Não</th>\n",
       "      <td>240750</td>\n",
       "    </tr>\n",
       "    <tr>\n",
       "      <th>Sim</th>\n",
       "      <td>1056</td>\n",
       "    </tr>\n",
       "  </tbody>\n",
       "</table>\n",
       "</div>"
      ],
      "text/plain": [
       "         qtde\n",
       "obito        \n",
       "Não    240750\n",
       "Sim      1056"
      ]
     },
     "execution_count": 45,
     "metadata": {},
     "output_type": "execute_result"
    }
   ],
   "source": [
    "df_obitos_mais.head()"
   ]
  },
  {
   "cell_type": "code",
   "execution_count": 46,
   "metadata": {},
   "outputs": [
    {
     "data": {
      "text/plain": [
       "241806"
      ]
     },
     "execution_count": 46,
     "metadata": {},
     "output_type": "execute_result"
    }
   ],
   "source": [
    "#qtde total de casos de ocorrência no dataFrame:\n",
    "df_obitos_mais['qtde'].sum() #"
   ]
  },
  {
   "cell_type": "code",
   "execution_count": 47,
   "metadata": {},
   "outputs": [],
   "source": [
    "df_obitos_mais.to_csv(nomeArquivoObitos, sep = ';', encoding='UTF-8')"
   ]
  },
  {
   "cell_type": "code",
   "execution_count": 48,
   "metadata": {},
   "outputs": [
    {
     "name": "stdout",
     "output_type": "stream",
     "text": [
      "<class 'pandas.core.frame.DataFrame'>\n",
      "Index: 3 entries, Típico to Doença\n",
      "Data columns (total 1 columns):\n",
      " #   Column  Non-Null Count  Dtype\n",
      "---  ------  --------------  -----\n",
      " 0   qtde    3 non-null      int64\n",
      "dtypes: int64(1)\n",
      "memory usage: 48.0+ bytes\n"
     ]
    }
   ],
   "source": [
    "#Análise da incidência de tipos de acidentes:\n",
    "df_tipos = pd.DataFrame(df_result['tipo_acidente'].value_counts())\n",
    "df_tipos.rename(columns={\"tipo_acidente\": \"qtde\"}, inplace=True)\n",
    "\n",
    "df_tipos_mais = df_tipos.head(20).copy()  # pode haver alguma opção para 'não informado'\n",
    "df_tipos_mais.index.name='tipo_acidente'\n",
    "\n",
    "df_tipos_mais.info()"
   ]
  },
  {
   "cell_type": "code",
   "execution_count": 49,
   "metadata": {},
   "outputs": [
    {
     "data": {
      "text/html": [
       "<div>\n",
       "<style scoped>\n",
       "    .dataframe tbody tr th:only-of-type {\n",
       "        vertical-align: middle;\n",
       "    }\n",
       "\n",
       "    .dataframe tbody tr th {\n",
       "        vertical-align: top;\n",
       "    }\n",
       "\n",
       "    .dataframe thead th {\n",
       "        text-align: right;\n",
       "    }\n",
       "</style>\n",
       "<table border=\"1\" class=\"dataframe\">\n",
       "  <thead>\n",
       "    <tr style=\"text-align: right;\">\n",
       "      <th></th>\n",
       "      <th>qtde</th>\n",
       "    </tr>\n",
       "    <tr>\n",
       "      <th>tipo_acidente</th>\n",
       "      <th></th>\n",
       "    </tr>\n",
       "  </thead>\n",
       "  <tbody>\n",
       "    <tr>\n",
       "      <th>Típico</th>\n",
       "      <td>182056</td>\n",
       "    </tr>\n",
       "    <tr>\n",
       "      <th>Trajeto</th>\n",
       "      <td>54964</td>\n",
       "    </tr>\n",
       "    <tr>\n",
       "      <th>Doença</th>\n",
       "      <td>4786</td>\n",
       "    </tr>\n",
       "  </tbody>\n",
       "</table>\n",
       "</div>"
      ],
      "text/plain": [
       "                 qtde\n",
       "tipo_acidente        \n",
       "Típico         182056\n",
       "Trajeto         54964\n",
       "Doença           4786"
      ]
     },
     "execution_count": 49,
     "metadata": {},
     "output_type": "execute_result"
    }
   ],
   "source": [
    "df_tipos_mais.head(20)"
   ]
  },
  {
   "cell_type": "code",
   "execution_count": 50,
   "metadata": {},
   "outputs": [
    {
     "data": {
      "text/plain": [
       "241806"
      ]
     },
     "execution_count": 50,
     "metadata": {},
     "output_type": "execute_result"
    }
   ],
   "source": [
    "#qtde total de casos de ocorrência no dataFrame:\n",
    "df_tipos_mais['qtde'].sum() #270152"
   ]
  },
  {
   "cell_type": "code",
   "execution_count": 51,
   "metadata": {},
   "outputs": [],
   "source": [
    "df_tipos_mais.to_csv(nomeArquivoTipoAcidente, sep = ';', encoding='UTF-8')"
   ]
  },
  {
   "cell_type": "code",
   "execution_count": 52,
   "metadata": {},
   "outputs": [
    {
     "name": "stdout",
     "output_type": "stream",
     "text": [
      "<class 'pandas.core.frame.DataFrame'>\n",
      "Index: 20 entries, Corte, Laceracao, Fe to Choque Eletrico e El\n",
      "Data columns (total 1 columns):\n",
      " #   Column  Non-Null Count  Dtype\n",
      "---  ------  --------------  -----\n",
      " 0   qtde    20 non-null     int64\n",
      "dtypes: int64(1)\n",
      "memory usage: 320.0+ bytes\n"
     ]
    }
   ],
   "source": [
    "#Análise da incidência da natureza de acidentes:\n",
    "df_natureza = pd.DataFrame(df_result['natureza'].value_counts())\n",
    "df_natureza.rename(columns={\"natureza\": \"qtde\"}, inplace=True)\n",
    "\n",
    "df_natureza_mais = df_natureza.head(20).copy()  # pode haver alguma opção para 'não informado'\n",
    "df_natureza_mais.index.name='natureza'\n",
    "\n",
    "df_natureza_mais.info()"
   ]
  },
  {
   "cell_type": "code",
   "execution_count": 53,
   "metadata": {},
   "outputs": [
    {
     "data": {
      "text/html": [
       "<div>\n",
       "<style scoped>\n",
       "    .dataframe tbody tr th:only-of-type {\n",
       "        vertical-align: middle;\n",
       "    }\n",
       "\n",
       "    .dataframe tbody tr th {\n",
       "        vertical-align: top;\n",
       "    }\n",
       "\n",
       "    .dataframe thead th {\n",
       "        text-align: right;\n",
       "    }\n",
       "</style>\n",
       "<table border=\"1\" class=\"dataframe\">\n",
       "  <thead>\n",
       "    <tr style=\"text-align: right;\">\n",
       "      <th></th>\n",
       "      <th>qtde</th>\n",
       "    </tr>\n",
       "    <tr>\n",
       "      <th>natureza</th>\n",
       "      <th></th>\n",
       "    </tr>\n",
       "  </thead>\n",
       "  <tbody>\n",
       "    <tr>\n",
       "      <th>Corte, Laceracao, Fe</th>\n",
       "      <td>49984</td>\n",
       "    </tr>\n",
       "    <tr>\n",
       "      <th>Fratura</th>\n",
       "      <td>41732</td>\n",
       "    </tr>\n",
       "    <tr>\n",
       "      <th>Contusao, Esmagament</th>\n",
       "      <td>36536</td>\n",
       "    </tr>\n",
       "    <tr>\n",
       "      <th>Distensao, Torcao</th>\n",
       "      <td>22747</td>\n",
       "    </tr>\n",
       "    <tr>\n",
       "      <th>Lesao Imediata, Nic</th>\n",
       "      <td>21668</td>\n",
       "    </tr>\n",
       "    <tr>\n",
       "      <th>Escoriacao, Abrasao</th>\n",
       "      <td>19507</td>\n",
       "    </tr>\n",
       "    <tr>\n",
       "      <th>Luxacao</th>\n",
       "      <td>12253</td>\n",
       "    </tr>\n",
       "    <tr>\n",
       "      <th>Queimadura ou Escald</th>\n",
       "      <td>6694</td>\n",
       "    </tr>\n",
       "    <tr>\n",
       "      <th>Lesao Imediata</th>\n",
       "      <td>5773</td>\n",
       "    </tr>\n",
       "    <tr>\n",
       "      <th>Doenca, Nic</th>\n",
       "      <td>5613</td>\n",
       "    </tr>\n",
       "    <tr>\n",
       "      <th>Lesoes Multiplas</th>\n",
       "      <td>5534</td>\n",
       "    </tr>\n",
       "    <tr>\n",
       "      <th>Inflamacao de Articu</th>\n",
       "      <td>2754</td>\n",
       "    </tr>\n",
       "    <tr>\n",
       "      <th>Amputacao ou Enuclea</th>\n",
       "      <td>2267</td>\n",
       "    </tr>\n",
       "    <tr>\n",
       "      <th>Queimadura Quimica (</th>\n",
       "      <td>1686</td>\n",
       "    </tr>\n",
       "    <tr>\n",
       "      <th>Perda ou Diminuicao</th>\n",
       "      <td>1375</td>\n",
       "    </tr>\n",
       "    <tr>\n",
       "      <th>Doenca Contagiosa ou</th>\n",
       "      <td>1366</td>\n",
       "    </tr>\n",
       "    <tr>\n",
       "      <th>Concussao Cerebral</th>\n",
       "      <td>1313</td>\n",
       "    </tr>\n",
       "    <tr>\n",
       "      <th>Dermatose (Erupcao,</th>\n",
       "      <td>856</td>\n",
       "    </tr>\n",
       "    <tr>\n",
       "      <th>Envenenamento Sistem</th>\n",
       "      <td>596</td>\n",
       "    </tr>\n",
       "    <tr>\n",
       "      <th>Choque Eletrico e El</th>\n",
       "      <td>595</td>\n",
       "    </tr>\n",
       "  </tbody>\n",
       "</table>\n",
       "</div>"
      ],
      "text/plain": [
       "                       qtde\n",
       "natureza                   \n",
       "Corte, Laceracao, Fe  49984\n",
       "Fratura               41732\n",
       "Contusao, Esmagament  36536\n",
       "Distensao, Torcao     22747\n",
       "Lesao Imediata, Nic   21668\n",
       "Escoriacao, Abrasao   19507\n",
       "Luxacao               12253\n",
       "Queimadura ou Escald   6694\n",
       "Lesao Imediata         5773\n",
       "Doenca, Nic            5613\n",
       "Lesoes Multiplas       5534\n",
       "Inflamacao de Articu   2754\n",
       "Amputacao ou Enuclea   2267\n",
       "Queimadura Quimica (   1686\n",
       "Perda ou Diminuicao    1375\n",
       "Doenca Contagiosa ou   1366\n",
       "Concussao Cerebral     1313\n",
       "Dermatose (Erupcao,     856\n",
       "Envenenamento Sistem    596\n",
       "Choque Eletrico e El    595"
      ]
     },
     "execution_count": 53,
     "metadata": {},
     "output_type": "execute_result"
    }
   ],
   "source": [
    "df_natureza_mais.head(20)"
   ]
  },
  {
   "cell_type": "code",
   "execution_count": 54,
   "metadata": {},
   "outputs": [
    {
     "data": {
      "text/plain": [
       "240849"
      ]
     },
     "execution_count": 54,
     "metadata": {},
     "output_type": "execute_result"
    }
   ],
   "source": [
    "#qtde total de casos de ocorrência no dataFrame:\n",
    "df_natureza_mais['qtde'].sum() # 240849"
   ]
  },
  {
   "cell_type": "code",
   "execution_count": 55,
   "metadata": {},
   "outputs": [],
   "source": [
    "df_natureza_mais.to_csv(nomeArquivoNatureza, sep = ';', encoding='UTF-8')"
   ]
  }
 ],
 "metadata": {
  "kernelspec": {
   "display_name": "Python 3",
   "language": "python",
   "name": "python3"
  },
  "language_info": {
   "codemirror_mode": {
    "name": "ipython",
    "version": 3
   },
   "file_extension": ".py",
   "mimetype": "text/x-python",
   "name": "python",
   "nbconvert_exporter": "python",
   "pygments_lexer": "ipython3",
   "version": "3.8.3"
  }
 },
 "nbformat": 4,
 "nbformat_minor": 4
}
