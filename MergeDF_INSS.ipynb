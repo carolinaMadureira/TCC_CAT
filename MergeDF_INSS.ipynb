{
 "cells": [
  {
   "cell_type": "code",
   "execution_count": 1,
   "metadata": {},
   "outputs": [],
   "source": [
    "import numpy as np\n",
    "import pandas as pd\n",
    "from scipy import special\n",
    "from random import sample\n",
    "import itertools\n",
    "from datetime import timedelta\n",
    "from IPython.display import display\n",
    "import matplotlib.pyplot as plt\n",
    "import seaborn as sns\n",
    "%matplotlib inline\n",
    "import math\n",
    "import re"
   ]
  },
  {
   "cell_type": "code",
   "execution_count": 2,
   "metadata": {},
   "outputs": [],
   "source": [
    "arquivoOrigemA = 'datasets/result/dados_cat_202001.csv'\n",
    "arquivoOrigemB = 'datasets/result/dados_cat_202002.csv'\n",
    "arquivoOrigemC = 'datasets/result/dados_cat_202003.csv'\n",
    "nomeArquivoResultado = 'datasets/result/dados_cat_2020.csv'\n",
    "\n",
    "nomeArquivoCid = 'datasets/result/dados_cid_2020.csv'\n",
    "nomeArquivoUF = 'datasets/result/dados_uf_2020.csv'\n",
    "nomeArquivoCBO = 'datasets/result/dados_cbo_2020.csv'"
   ]
  },
  {
   "cell_type": "code",
   "execution_count": 3,
   "metadata": {},
   "outputs": [],
   "source": [
    "dados_originaisA = pd.read_csv(arquivoOrigemA, sep = ';', header=0)\n",
    "dados_originaisB = pd.read_csv(arquivoOrigemB, sep = ';', header=0)\n",
    "dados_originaisC = pd.read_csv(arquivoOrigemC, sep = ';', header=0)\n",
    "\n",
    "df_originalA = pd.DataFrame(data = dados_originaisA)\n",
    "df_originalB = pd.DataFrame(data = dados_originaisB)\n",
    "df_originalC = pd.DataFrame(data = dados_originaisC)"
   ]
  },
  {
   "cell_type": "code",
   "execution_count": 4,
   "metadata": {},
   "outputs": [
    {
     "data": {
      "text/plain": [
       "270152"
      ]
     },
     "execution_count": 4,
     "metadata": {},
     "output_type": "execute_result"
    }
   ],
   "source": [
    "#df_original.shape[0] #117439\n",
    "\n",
    "df_result = pd.concat([df_originalA, df_originalB, df_originalC], ignore_index= True)\n",
    "df_result.index = range(df_result.shape[0])\n",
    "df_result.shape[0]   #273997"
   ]
  },
  {
   "cell_type": "code",
   "execution_count": 5,
   "metadata": {},
   "outputs": [
    {
     "data": {
      "text/html": [
       "<div>\n",
       "<style scoped>\n",
       "    .dataframe tbody tr th:only-of-type {\n",
       "        vertical-align: middle;\n",
       "    }\n",
       "\n",
       "    .dataframe tbody tr th {\n",
       "        vertical-align: top;\n",
       "    }\n",
       "\n",
       "    .dataframe thead th {\n",
       "        text-align: right;\n",
       "    }\n",
       "</style>\n",
       "<table border=\"1\" class=\"dataframe\">\n",
       "  <thead>\n",
       "    <tr style=\"text-align: right;\">\n",
       "      <th></th>\n",
       "      <th>agente</th>\n",
       "      <th>cbo</th>\n",
       "      <th>cid</th>\n",
       "      <th>cnae</th>\n",
       "      <th>obito</th>\n",
       "      <th>natureza</th>\n",
       "      <th>parte</th>\n",
       "      <th>sexo</th>\n",
       "      <th>tipo_acidente</th>\n",
       "      <th>uf_emp</th>\n",
       "      <th>idade</th>\n",
       "      <th>anoMes</th>\n",
       "    </tr>\n",
       "  </thead>\n",
       "  <tbody>\n",
       "    <tr>\n",
       "      <th>0</th>\n",
       "      <td>Vidraria, Fibra de V</td>\n",
       "      <td>322230</td>\n",
       "      <td>S610</td>\n",
       "      <td>9491</td>\n",
       "      <td>Não</td>\n",
       "      <td>Lesao Imediata</td>\n",
       "      <td>Dedo</td>\n",
       "      <td>Feminino</td>\n",
       "      <td>Típico</td>\n",
       "      <td>São Paulo</td>\n",
       "      <td>43.0</td>\n",
       "      <td>202001</td>\n",
       "    </tr>\n",
       "    <tr>\n",
       "      <th>1</th>\n",
       "      <td>Agente Infeccioso ou</td>\n",
       "      <td>322205</td>\n",
       "      <td>Z209</td>\n",
       "      <td>8610</td>\n",
       "      <td>Não</td>\n",
       "      <td>Corte, Laceracao, Fe</td>\n",
       "      <td>Dedo</td>\n",
       "      <td>Feminino</td>\n",
       "      <td>Típico</td>\n",
       "      <td>Ceará</td>\n",
       "      <td>33.0</td>\n",
       "      <td>202001</td>\n",
       "    </tr>\n",
       "    <tr>\n",
       "      <th>2</th>\n",
       "      <td>{ñ class}</td>\n",
       "      <td>322205</td>\n",
       "      <td>Y289</td>\n",
       "      <td>8610</td>\n",
       "      <td>Não</td>\n",
       "      <td>Corte, Laceracao, Fe</td>\n",
       "      <td>Dedo</td>\n",
       "      <td>Masculino</td>\n",
       "      <td>Típico</td>\n",
       "      <td>São Paulo</td>\n",
       "      <td>38.0</td>\n",
       "      <td>202001</td>\n",
       "    </tr>\n",
       "    <tr>\n",
       "      <th>3</th>\n",
       "      <td>Motor, Bomba, Turbin</td>\n",
       "      <td>314410</td>\n",
       "      <td>S610</td>\n",
       "      <td>1012</td>\n",
       "      <td>Não</td>\n",
       "      <td>Corte, Laceracao, Fe</td>\n",
       "      <td>Dedo</td>\n",
       "      <td>Masculino</td>\n",
       "      <td>Típico</td>\n",
       "      <td>Santa Catarina</td>\n",
       "      <td>32.0</td>\n",
       "      <td>202001</td>\n",
       "    </tr>\n",
       "    <tr>\n",
       "      <th>4</th>\n",
       "      <td>Ferramenta Portatil</td>\n",
       "      <td>724315</td>\n",
       "      <td>S610</td>\n",
       "      <td>2599</td>\n",
       "      <td>Não</td>\n",
       "      <td>Corte, Laceracao, Fe</td>\n",
       "      <td>Dedo</td>\n",
       "      <td>Masculino</td>\n",
       "      <td>Típico</td>\n",
       "      <td>Minas Gerais</td>\n",
       "      <td>44.0</td>\n",
       "      <td>202001</td>\n",
       "    </tr>\n",
       "  </tbody>\n",
       "</table>\n",
       "</div>"
      ],
      "text/plain": [
       "                 agente     cbo   cid  cnae obito              natureza parte  \\\n",
       "0  Vidraria, Fibra de V  322230  S610  9491   Não        Lesao Imediata  Dedo   \n",
       "1  Agente Infeccioso ou  322205  Z209  8610   Não  Corte, Laceracao, Fe  Dedo   \n",
       "2             {ñ class}  322205  Y289  8610   Não  Corte, Laceracao, Fe  Dedo   \n",
       "3  Motor, Bomba, Turbin  314410  S610  1012   Não  Corte, Laceracao, Fe  Dedo   \n",
       "4   Ferramenta Portatil  724315  S610  2599   Não  Corte, Laceracao, Fe  Dedo   \n",
       "\n",
       "        sexo tipo_acidente          uf_emp  idade  anoMes  \n",
       "0   Feminino        Típico       São Paulo   43.0  202001  \n",
       "1   Feminino        Típico           Ceará   33.0  202001  \n",
       "2  Masculino        Típico       São Paulo   38.0  202001  \n",
       "3  Masculino        Típico  Santa Catarina   32.0  202001  \n",
       "4  Masculino        Típico    Minas Gerais   44.0  202001  "
      ]
     },
     "execution_count": 5,
     "metadata": {},
     "output_type": "execute_result"
    }
   ],
   "source": [
    "df_result.head()"
   ]
  },
  {
   "cell_type": "code",
   "execution_count": 6,
   "metadata": {},
   "outputs": [],
   "source": [
    "df_result.to_csv(nomeArquivoResultado, sep = ';', index=False)"
   ]
  },
  {
   "cell_type": "code",
   "execution_count": 7,
   "metadata": {},
   "outputs": [
    {
     "name": "stdout",
     "output_type": "stream",
     "text": [
      "<class 'pandas.core.frame.DataFrame'>\n",
      "Int64Index: 10 entries, 0 to 9\n",
      "Data columns (total 2 columns):\n",
      " #   Column  Non-Null Count  Dtype \n",
      "---  ------  --------------  ----- \n",
      " 0   cid     10 non-null     object\n",
      " 1   qtde    10 non-null     int64 \n",
      "dtypes: int64(1), object(1)\n",
      "memory usage: 240.0+ bytes\n"
     ]
    }
   ],
   "source": [
    "#Análise dos 10 CIDs de maior incidência em 2020:\n",
    "df_cid = (df_result['cid'].value_counts().to_frame().reset_index()).sort_values('cid', ascending=False)\n",
    "df_cid.rename(columns={\"index\": \"cid\", \"cid\": \"qtde\"}, inplace=True)\n",
    "df_cid_mais = df_cid.head(10).copy()\n",
    "df_cid_mais.index.name='id'\n",
    "df_cid_mais.info()"
   ]
  },
  {
   "cell_type": "code",
   "execution_count": 8,
   "metadata": {},
   "outputs": [
    {
     "data": {
      "text/html": [
       "<div>\n",
       "<style scoped>\n",
       "    .dataframe tbody tr th:only-of-type {\n",
       "        vertical-align: middle;\n",
       "    }\n",
       "\n",
       "    .dataframe tbody tr th {\n",
       "        vertical-align: top;\n",
       "    }\n",
       "\n",
       "    .dataframe thead th {\n",
       "        text-align: right;\n",
       "    }\n",
       "</style>\n",
       "<table border=\"1\" class=\"dataframe\">\n",
       "  <thead>\n",
       "    <tr style=\"text-align: right;\">\n",
       "      <th></th>\n",
       "      <th>cid</th>\n",
       "      <th>qtde</th>\n",
       "    </tr>\n",
       "    <tr>\n",
       "      <th>id</th>\n",
       "      <th></th>\n",
       "      <th></th>\n",
       "    </tr>\n",
       "  </thead>\n",
       "  <tbody>\n",
       "    <tr>\n",
       "      <th>0</th>\n",
       "      <td>S610</td>\n",
       "      <td>17097</td>\n",
       "    </tr>\n",
       "    <tr>\n",
       "      <th>1</th>\n",
       "      <td>B342</td>\n",
       "      <td>12325</td>\n",
       "    </tr>\n",
       "    <tr>\n",
       "      <th>2</th>\n",
       "      <td>S611</td>\n",
       "      <td>9690</td>\n",
       "    </tr>\n",
       "    <tr>\n",
       "      <th>3</th>\n",
       "      <td>Z209</td>\n",
       "      <td>9507</td>\n",
       "    </tr>\n",
       "    <tr>\n",
       "      <th>4</th>\n",
       "      <td>S626</td>\n",
       "      <td>8427</td>\n",
       "    </tr>\n",
       "  </tbody>\n",
       "</table>\n",
       "</div>"
      ],
      "text/plain": [
       "     cid   qtde\n",
       "id             \n",
       "0   S610  17097\n",
       "1   B342  12325\n",
       "2   S611   9690\n",
       "3   Z209   9507\n",
       "4   S626   8427"
      ]
     },
     "execution_count": 8,
     "metadata": {},
     "output_type": "execute_result"
    }
   ],
   "source": [
    "df_cid_mais.head()"
   ]
  },
  {
   "cell_type": "code",
   "execution_count": 9,
   "metadata": {},
   "outputs": [],
   "source": [
    "df_cid_mais.to_csv(nomeArquivoCid, sep = ';', index=False)"
   ]
  },
  {
   "cell_type": "code",
   "execution_count": 10,
   "metadata": {},
   "outputs": [
    {
     "data": {
      "text/plain": [
       "83838"
      ]
     },
     "execution_count": 10,
     "metadata": {},
     "output_type": "execute_result"
    }
   ],
   "source": [
    "#qtde total de casos de ocorrência no dataFrame com os 10 maiores CIDs por ordem de ocorrência em 2020:\n",
    "df_cid_mais['qtde'].sum()  #84402"
   ]
  },
  {
   "cell_type": "code",
   "execution_count": 11,
   "metadata": {},
   "outputs": [
    {
     "name": "stdout",
     "output_type": "stream",
     "text": [
      "<class 'pandas.core.frame.DataFrame'>\n",
      "Int64Index: 10 entries, 0 to 9\n",
      "Data columns (total 2 columns):\n",
      " #   Column  Non-Null Count  Dtype \n",
      "---  ------  --------------  ----- \n",
      " 0   uf_emp  10 non-null     object\n",
      " 1   qtde    10 non-null     int64 \n",
      "dtypes: int64(1), object(1)\n",
      "memory usage: 240.0+ bytes\n"
     ]
    }
   ],
   "source": [
    "#Análise das 10 UFs de maior incidência de CAT em 2020:\n",
    "df_uf = (df_result['uf_emp'].value_counts().to_frame().reset_index()).sort_values('uf_emp', ascending=False)\n",
    "df_uf.rename(columns={\"index\": \"uf_emp\", \"uf_emp\": \"qtde\"}, inplace=True)\n",
    "df_uf_mais = df_uf.head(10).copy()\n",
    "df_uf_mais.index.name='id'\n",
    "df_uf_mais.info()"
   ]
  },
  {
   "cell_type": "code",
   "execution_count": 12,
   "metadata": {},
   "outputs": [
    {
     "data": {
      "text/html": [
       "<div>\n",
       "<style scoped>\n",
       "    .dataframe tbody tr th:only-of-type {\n",
       "        vertical-align: middle;\n",
       "    }\n",
       "\n",
       "    .dataframe tbody tr th {\n",
       "        vertical-align: top;\n",
       "    }\n",
       "\n",
       "    .dataframe thead th {\n",
       "        text-align: right;\n",
       "    }\n",
       "</style>\n",
       "<table border=\"1\" class=\"dataframe\">\n",
       "  <thead>\n",
       "    <tr style=\"text-align: right;\">\n",
       "      <th></th>\n",
       "      <th>uf_emp</th>\n",
       "      <th>qtde</th>\n",
       "    </tr>\n",
       "    <tr>\n",
       "      <th>id</th>\n",
       "      <th></th>\n",
       "      <th></th>\n",
       "    </tr>\n",
       "  </thead>\n",
       "  <tbody>\n",
       "    <tr>\n",
       "      <th>0</th>\n",
       "      <td>São Paulo</td>\n",
       "      <td>95423</td>\n",
       "    </tr>\n",
       "    <tr>\n",
       "      <th>1</th>\n",
       "      <td>Minas Gerais</td>\n",
       "      <td>29667</td>\n",
       "    </tr>\n",
       "    <tr>\n",
       "      <th>2</th>\n",
       "      <td>Rio Grande do Sul</td>\n",
       "      <td>23743</td>\n",
       "    </tr>\n",
       "    <tr>\n",
       "      <th>3</th>\n",
       "      <td>Paraná</td>\n",
       "      <td>21736</td>\n",
       "    </tr>\n",
       "    <tr>\n",
       "      <th>4</th>\n",
       "      <td>Santa Catarina</td>\n",
       "      <td>17341</td>\n",
       "    </tr>\n",
       "    <tr>\n",
       "      <th>5</th>\n",
       "      <td>Rio de Janeiro</td>\n",
       "      <td>16048</td>\n",
       "    </tr>\n",
       "    <tr>\n",
       "      <th>6</th>\n",
       "      <td>Goiás</td>\n",
       "      <td>7911</td>\n",
       "    </tr>\n",
       "    <tr>\n",
       "      <th>7</th>\n",
       "      <td>Bahia</td>\n",
       "      <td>7134</td>\n",
       "    </tr>\n",
       "    <tr>\n",
       "      <th>8</th>\n",
       "      <td>Mato Grosso</td>\n",
       "      <td>7052</td>\n",
       "    </tr>\n",
       "    <tr>\n",
       "      <th>9</th>\n",
       "      <td>Espírito Santo</td>\n",
       "      <td>6907</td>\n",
       "    </tr>\n",
       "  </tbody>\n",
       "</table>\n",
       "</div>"
      ],
      "text/plain": [
       "               uf_emp   qtde\n",
       "id                          \n",
       "0           São Paulo  95423\n",
       "1        Minas Gerais  29667\n",
       "2   Rio Grande do Sul  23743\n",
       "3              Paraná  21736\n",
       "4      Santa Catarina  17341\n",
       "5      Rio de Janeiro  16048\n",
       "6               Goiás   7911\n",
       "7               Bahia   7134\n",
       "8         Mato Grosso   7052\n",
       "9      Espírito Santo   6907"
      ]
     },
     "execution_count": 12,
     "metadata": {},
     "output_type": "execute_result"
    }
   ],
   "source": [
    "df_uf_mais.head(10)"
   ]
  },
  {
   "cell_type": "code",
   "execution_count": 13,
   "metadata": {},
   "outputs": [
    {
     "data": {
      "text/plain": [
       "232962"
      ]
     },
     "execution_count": 13,
     "metadata": {},
     "output_type": "execute_result"
    }
   ],
   "source": [
    "#qtde total de casos de ocorrência no dataFrame com os 10 maiores UFs por ordem de ocorrência em 2020:\n",
    "df_uf_mais['qtde'].sum() #236188"
   ]
  },
  {
   "cell_type": "code",
   "execution_count": 14,
   "metadata": {},
   "outputs": [],
   "source": [
    "df_uf_mais.to_csv(nomeArquivoUF, sep = ';', index=False)"
   ]
  },
  {
   "cell_type": "code",
   "execution_count": 15,
   "metadata": {},
   "outputs": [
    {
     "name": "stdout",
     "output_type": "stream",
     "text": [
      "<class 'pandas.core.frame.DataFrame'>\n",
      "Int64Index: 10 entries, 0 to 9\n",
      "Data columns (total 2 columns):\n",
      " #   Column  Non-Null Count  Dtype\n",
      "---  ------  --------------  -----\n",
      " 0   cbo     10 non-null     int64\n",
      " 1   qtde    10 non-null     int64\n",
      "dtypes: int64(2)\n",
      "memory usage: 240.0 bytes\n"
     ]
    }
   ],
   "source": [
    "#Análise das 10 CBOs de maior incidência de CAT em 2020:\n",
    "df_cbo = (df_result['cbo'].value_counts().to_frame().reset_index()).sort_values('cbo', ascending=False)\n",
    "df_cbo.rename(columns={\"index\": \"cbo\", \"cbo\": \"qtde\"}, inplace=True)\n",
    "df_cbo_mais = df_cbo.head(10).copy()\n",
    "df_cbo_mais.index.name='id'\n",
    "df_cbo_mais.info()"
   ]
  },
  {
   "cell_type": "code",
   "execution_count": 16,
   "metadata": {},
   "outputs": [
    {
     "data": {
      "text/html": [
       "<div>\n",
       "<style scoped>\n",
       "    .dataframe tbody tr th:only-of-type {\n",
       "        vertical-align: middle;\n",
       "    }\n",
       "\n",
       "    .dataframe tbody tr th {\n",
       "        vertical-align: top;\n",
       "    }\n",
       "\n",
       "    .dataframe thead th {\n",
       "        text-align: right;\n",
       "    }\n",
       "</style>\n",
       "<table border=\"1\" class=\"dataframe\">\n",
       "  <thead>\n",
       "    <tr style=\"text-align: right;\">\n",
       "      <th></th>\n",
       "      <th>cbo</th>\n",
       "      <th>qtde</th>\n",
       "    </tr>\n",
       "    <tr>\n",
       "      <th>id</th>\n",
       "      <th></th>\n",
       "      <th></th>\n",
       "    </tr>\n",
       "  </thead>\n",
       "  <tbody>\n",
       "    <tr>\n",
       "      <th>0</th>\n",
       "      <td>322205</td>\n",
       "      <td>24453</td>\n",
       "    </tr>\n",
       "    <tr>\n",
       "      <th>1</th>\n",
       "      <td>784205</td>\n",
       "      <td>16431</td>\n",
       "    </tr>\n",
       "    <tr>\n",
       "      <th>2</th>\n",
       "      <td>514320</td>\n",
       "      <td>9963</td>\n",
       "    </tr>\n",
       "    <tr>\n",
       "      <th>3</th>\n",
       "      <td>782510</td>\n",
       "      <td>6883</td>\n",
       "    </tr>\n",
       "    <tr>\n",
       "      <th>4</th>\n",
       "      <td>223505</td>\n",
       "      <td>6265</td>\n",
       "    </tr>\n",
       "    <tr>\n",
       "      <th>5</th>\n",
       "      <td>717020</td>\n",
       "      <td>5890</td>\n",
       "    </tr>\n",
       "    <tr>\n",
       "      <th>6</th>\n",
       "      <td>514205</td>\n",
       "      <td>4509</td>\n",
       "    </tr>\n",
       "    <tr>\n",
       "      <th>7</th>\n",
       "      <td>322230</td>\n",
       "      <td>4331</td>\n",
       "    </tr>\n",
       "    <tr>\n",
       "      <th>8</th>\n",
       "      <td>848520</td>\n",
       "      <td>3838</td>\n",
       "    </tr>\n",
       "    <tr>\n",
       "      <th>9</th>\n",
       "      <td>521125</td>\n",
       "      <td>3603</td>\n",
       "    </tr>\n",
       "  </tbody>\n",
       "</table>\n",
       "</div>"
      ],
      "text/plain": [
       "       cbo   qtde\n",
       "id               \n",
       "0   322205  24453\n",
       "1   784205  16431\n",
       "2   514320   9963\n",
       "3   782510   6883\n",
       "4   223505   6265\n",
       "5   717020   5890\n",
       "6   514205   4509\n",
       "7   322230   4331\n",
       "8   848520   3838\n",
       "9   521125   3603"
      ]
     },
     "execution_count": 16,
     "metadata": {},
     "output_type": "execute_result"
    }
   ],
   "source": [
    "df_cbo_mais.head(10)"
   ]
  },
  {
   "cell_type": "code",
   "execution_count": 17,
   "metadata": {},
   "outputs": [
    {
     "data": {
      "text/plain": [
       "5549845"
      ]
     },
     "execution_count": 17,
     "metadata": {},
     "output_type": "execute_result"
    }
   ],
   "source": [
    "#qtde total de casos de ocorrência no dataFrame com os 10 maiores CBOs por ordem de ocorrência em 2020:\n",
    "df_cbo_mais['cbo'].sum() #5549845"
   ]
  },
  {
   "cell_type": "code",
   "execution_count": 18,
   "metadata": {},
   "outputs": [],
   "source": [
    "df_cbo_mais.to_csv(nomeArquivoCBO, sep = ';', index=False)"
   ]
  }
 ],
 "metadata": {
  "kernelspec": {
   "display_name": "Python 3",
   "language": "python",
   "name": "python3"
  },
  "language_info": {
   "codemirror_mode": {
    "name": "ipython",
    "version": 3
   },
   "file_extension": ".py",
   "mimetype": "text/x-python",
   "name": "python",
   "nbconvert_exporter": "python",
   "pygments_lexer": "ipython3",
   "version": "3.8.3"
  }
 },
 "nbformat": 4,
 "nbformat_minor": 4
}
